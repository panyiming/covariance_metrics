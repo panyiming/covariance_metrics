{
 "cells": [
  {
   "cell_type": "code",
   "execution_count": 91,
   "metadata": {},
   "outputs": [],
   "source": [
    "library(rugarch)\n",
    "library(xdcclarge)\n",
    "library(RiskPortfolios)\n",
    "library(rmgarch)\n",
    "library(Matrix)\n",
    "library(RcppCNPy)\n",
    "\n",
    "library('matrixcalc')"
   ]
  },
  {
   "cell_type": "code",
   "execution_count": 16,
   "metadata": {},
   "outputs": [],
   "source": [
    "dccnl_portfolio1 <- function(df_rolls, N, days, month_days, num_trade, root_dir){\n",
    "  res_all = c()\n",
    "  for(i in c(1:num_trade)){\n",
    "    t1 = Sys.time()\n",
    "    print(t1)\n",
    "    st_sam  = (i-1) * (days + month_days) + 1\n",
    "    ed_sam = st_sam + days - 1\n",
    "    st_pre = ed_sam + 1\n",
    "    ed_pre = st_pre + month_days - 1\n",
    "    print(c(st_sam, ed_sam, st_pre, ed_pre))\n",
    "    res_sam = df_rolls[st_sam:ed_sam, 2:(N+1)]\n",
    "    res_pre = df_rolls[st_pre:ed_pre, 2:(N+1)]\n",
    "    file_path = paste(root_dir, i, '.csv', sep='')\n",
    "    cov_pred = read.csv(file_path)\n",
    "    cov_pred = matrix(as.matrix(cov_pred), N, N)\n",
    "    ws = optimalPortfolio(Sigma=cov_pred, \n",
    "         control=list(type='minvol', constraint='lo'))\n",
    "    ws = matrix(ws)\n",
    "    res_i = res_pre %*% ws\n",
    "    res_all <- c(res_all, res_i)\n",
    "    t2 = Sys.time()\n",
    "    print(t2-t1)\n",
    "  }\n",
    "  return(res_all)\n",
    "}\n",
    "indicators <- function(all_res){\n",
    "  AV = round(mean(all_res)*252*100, 4)\n",
    "  SD = round(cov(all_res, all_res)**0.5*252**0.5*100, 4)\n",
    "  IR = round(AV/SD, 4)\n",
    "  return(c(AV, SD, IR))\n",
    "}"
   ]
  },
  {
   "cell_type": "code",
   "execution_count": 4,
   "metadata": {},
   "outputs": [],
   "source": [
    "data = read.csv(\"./df_rolls.csv\", sep=\",\")\n",
    "df_rolls <- as.matrix(data)"
   ]
  },
  {
   "cell_type": "code",
   "execution_count": 8,
   "metadata": {},
   "outputs": [],
   "source": [
    "num_trade = 190\n",
    "root_dir = '~/Desktop/courses_term3/Master_project/data/cov_500_dcc/'"
   ]
  },
  {
   "cell_type": "code",
   "execution_count": 17,
   "metadata": {},
   "outputs": [],
   "source": [
    "ffdata = read.csv('./ffdata_11062.csv')"
   ]
  },
  {
   "cell_type": "code",
   "execution_count": 77,
   "metadata": {},
   "outputs": [],
   "source": [
    "\n",
    "cov_ff_pre<-function(Rtns, N, n_head=21){\n",
    "# multi-univarite Garch specification:\n",
    "spec = ugarchspec(variance.model=list(\n",
    "model = \"sGARCH\", garchOrder = c(1, 1), submodel = NULL, \n",
    "external.regressors = NULL, variance.targeting = FALSE), \n",
    "mean.model = list(armaOrder = c(1, 1), \n",
    "include.mean = TRUE, archm = FALSE, \n",
    "archpow = 1, arfima = FALSE, \n",
    "external.regressors = NULL, archex = FALSE), \n",
    "distribution.model = \"norm\", \n",
    "start.pars = list(), \n",
    "fixed.pars = list())\n",
    "mspec = multispec(replicate(spec, n=5))\n",
    "\n",
    "# fit multi-univariate  garch\n",
    "fitlist = multifit(multispec=mspec, solver=\"hybrid\",\n",
    "          data = Rtns) \n",
    "ht<-sigma(fitlist)^2 \n",
    "residuals<-residuals(fitlist)\n",
    "\n",
    "# prediction diag element of variance.\n",
    "forecasts = multiforecast(fitlist, data = NULL, n.ahead = 21, n.roll = 0,\n",
    "out.sample = 0, external.forecasts = list(mregfor = NULL, vregfor = NULL),\n",
    "cluster = NULL)\n",
    "vars = sigma(forecasts)\n",
    "\n",
    "\n",
    "# fit dcc-garch\n",
    "cDCC <- cdcc_estimation(ini.para=c(0.01,0.50),\n",
    "        ht, residuals, method='COV', ts=21)\n",
    "\n",
    "# predict average forcast covariance matrix\n",
    "cov_all = 0 \n",
    "for(i in c(1:n_head)){\n",
    "  corr_i = matrix(cDCC$cdcc_Rt[i, ], N, N)\n",
    "  var_i = diag(vars[i, 1, ])\n",
    "  cov_i = var_i%*%corr_i%*%var_i\n",
    "  \n",
    "  cov_all <- cov_all + cov_i\n",
    "}\n",
    "cov_avg = cov_all/n_head\n",
    "return(cov_avg)\n",
    "}\n",
    "\n",
    "get_cov_ls<-function(ffdata){\n",
    "    st_id = 6348\n",
    "    sam_size = 1260\n",
    "    j = 0\n",
    "    ff_ls = c('Mkt.RF', 'SMB', 'HML', 'RMW', 'CMA')\n",
    "    while(st_id + sam_size + 21 <= 11602){\n",
    "        print(j)\n",
    "        t1 = Sys.time()\n",
    "        trading_i = st_id + sam_size\n",
    "        ffdata_i =ffdata[ff_ls][1:trading_i, ]\n",
    "        cov_ff_i = cov_ff_pre(ffdata_i, 5, 21)\n",
    "        if(j == 0){cov_ff_all = cov_ff_i}\n",
    "        else{cov_ff_all<- rbind(cov_ff_all, cov_ff_i)}\n",
    "        st_id <- st_id + 21\n",
    "        j <- j + 1\n",
    "        t2 = Sys.time()\n",
    "        print(t2-t1)\n",
    "    }\n",
    "return(cov_ff_all)}"
   ]
  },
  {
   "cell_type": "code",
   "execution_count": 78,
   "metadata": {},
   "outputs": [],
   "source": [
    "ffdata = read.csv('./ffdata_11062.csv')\n",
    "ff_ls = c('Mkt.RF', 'SMB', 'HML', 'RMW', 'CMA')\n",
    "cov_ff_all = get_cov_ls(ffdata)"
   ]
  },
  {
   "cell_type": "code",
   "execution_count": 82,
   "metadata": {},
   "outputs": [
    {
     "name": "stderr",
     "output_type": "stream",
     "text": [
      "Installing package into ‘/Users/panyiming/Library/R/3.6/library’\n",
      "(as ‘lib’ is unspecified)\n",
      "\n"
     ]
    }
   ],
   "source": [
    "install.packages('/var/folders/0y/j14nddr96kj5y605dbyml8v00000gn/T//RtmpwSsIK9/downloaded_packages/RcppCNPy_0.2.10.tgz', repos = NULL, type=\"source\")"
   ]
  },
  {
   "cell_type": "code",
   "execution_count": 81,
   "metadata": {},
   "outputs": [
    {
     "name": "stderr",
     "output_type": "stream",
     "text": [
      "Installing package into ‘/Users/panyiming/Library/R/3.6/library’\n",
      "(as ‘lib’ is unspecified)\n",
      "\n"
     ]
    },
    {
     "name": "stdout",
     "output_type": "stream",
     "text": [
      "\n",
      "The downloaded binary packages are in\n",
      "\t/var/folders/0y/j14nddr96kj5y605dbyml8v00000gn/T//RtmpwSsIK9/downloaded_packages\n"
     ]
    }
   ],
   "source": [
    "install.packages('RcppCNPy')"
   ]
  },
  {
   "cell_type": "code",
   "execution_count": null,
   "metadata": {},
   "outputs": [],
   "source": [
    "dccnl_resid <- function(resid_matrix, N, num_trade, root_dir){\n",
    "  res_all = c()\n",
    "  for(i in c(1:num_trade)){\n",
    "    print(i)\n",
    "    t1 = Sys.time()\n",
    "    st_sam  = (i-1) * 500 + 1\n",
    "    ed_sam = st_sam + N\n",
    "    resid_sam = t(resid_matrix[st_sam:ed_sam, ])\n",
    "    cov_pred = dcc_cov_pre(resid_sam, N)\n",
    "    file_path = paste(root_dir, i, '.csv', sep='')\n",
    "    write.table(cov_pred,  file=file_path, row.names = TRUE, col.names =TRUE, sep=',')\n",
    "    t2 = Sys.time()\n",
    "    print(t2-t1)\n",
    "  }}"
   ]
  },
  {
   "cell_type": "code",
   "execution_count": 90,
   "metadata": {},
   "outputs": [],
   "source": [
    "npySave('test_r_save.npy', fmat[1:10, 1:10])"
   ]
  },
  {
   "cell_type": "code",
   "execution_count": 94,
   "metadata": {},
   "outputs": [],
   "source": [
    "fmat <- npyLoad(\"./ff_model_data/residual_mat5.npy\")"
   ]
  },
  {
   "cell_type": "code",
   "execution_count": 95,
   "metadata": {},
   "outputs": [
    {
     "ename": "ERROR",
     "evalue": "Error in npyLoad(\"~/Desktop/courses_term3/Master_project/data/ff_model_data/residual_mat5.npy\"): npy_load: Error! Unable to open file ~/Desktop/courses_term3/Master_project/data/ff_model_data/residual_mat5.npy!\n\n",
     "output_type": "error",
     "traceback": [
      "Error in npyLoad(\"~/Desktop/courses_term3/Master_project/data/ff_model_data/residual_mat5.npy\"): npy_load: Error! Unable to open file ~/Desktop/courses_term3/Master_project/data/ff_model_data/residual_mat5.npy!\n\nTraceback:\n",
      "1. npyLoad(\"~/Desktop/courses_term3/Master_project/data/ff_model_data/residual_mat5.npy\")"
     ]
    }
   ],
   "source": [
    "resid5_matrix <- npyLoad(\"./ff_model_data/residual_mat5.npy\")"
   ]
  },
  {
   "cell_type": "code",
   "execution_count": 88,
   "metadata": {},
   "outputs": [
    {
     "data": {
      "text/html": [
       "<table>\n",
       "<caption>A matrix: 10 × 5 of type dbl</caption>\n",
       "<tbody>\n",
       "\t<tr><td> 0.13664687</td><td>-0.011028896</td><td>-0.003603248</td><td>-0.024533859</td><td> 0.006873757</td></tr>\n",
       "\t<tr><td>-0.04365148</td><td> 0.020558881</td><td> 0.012060445</td><td> 0.027779218</td><td> 0.011049798</td></tr>\n",
       "\t<tr><td> 0.13841098</td><td>-0.009502676</td><td>-0.004995384</td><td> 0.013543367</td><td> 0.004697045</td></tr>\n",
       "\t<tr><td> 0.05350878</td><td>-0.006508135</td><td>-0.016111649</td><td> 0.001207809</td><td>-0.027946927</td></tr>\n",
       "\t<tr><td> 0.08082129</td><td>-0.002064943</td><td> 0.018064679</td><td> 0.014717316</td><td>-0.006707783</td></tr>\n",
       "\t<tr><td>-0.12214871</td><td>-0.033854025</td><td>-0.008873304</td><td> 0.021177930</td><td> 0.030397385</td></tr>\n",
       "\t<tr><td> 0.05517102</td><td>-0.018084054</td><td>-0.010894574</td><td> 0.019767247</td><td>-0.001996698</td></tr>\n",
       "\t<tr><td>-0.04576020</td><td>-0.022319559</td><td>-0.033815229</td><td>-0.018377843</td><td> 0.011878661</td></tr>\n",
       "\t<tr><td> 0.17102992</td><td> 0.024872571</td><td>-0.006615907</td><td> 0.004274757</td><td>-0.015691129</td></tr>\n",
       "\t<tr><td> 0.12453482</td><td> 0.033971324</td><td> 0.014400697</td><td> 0.034750861</td><td> 0.015521393</td></tr>\n",
       "</tbody>\n",
       "</table>\n"
      ],
      "text/latex": [
       "A matrix: 10 × 5 of type dbl\n",
       "\\begin{tabular}{lllll}\n",
       "\t  0.13664687 & -0.011028896 & -0.003603248 & -0.024533859 &  0.006873757\\\\\n",
       "\t -0.04365148 &  0.020558881 &  0.012060445 &  0.027779218 &  0.011049798\\\\\n",
       "\t  0.13841098 & -0.009502676 & -0.004995384 &  0.013543367 &  0.004697045\\\\\n",
       "\t  0.05350878 & -0.006508135 & -0.016111649 &  0.001207809 & -0.027946927\\\\\n",
       "\t  0.08082129 & -0.002064943 &  0.018064679 &  0.014717316 & -0.006707783\\\\\n",
       "\t -0.12214871 & -0.033854025 & -0.008873304 &  0.021177930 &  0.030397385\\\\\n",
       "\t  0.05517102 & -0.018084054 & -0.010894574 &  0.019767247 & -0.001996698\\\\\n",
       "\t -0.04576020 & -0.022319559 & -0.033815229 & -0.018377843 &  0.011878661\\\\\n",
       "\t  0.17102992 &  0.024872571 & -0.006615907 &  0.004274757 & -0.015691129\\\\\n",
       "\t  0.12453482 &  0.033971324 &  0.014400697 &  0.034750861 &  0.015521393\\\\\n",
       "\\end{tabular}\n"
      ],
      "text/markdown": [
       "\n",
       "A matrix: 10 × 5 of type dbl\n",
       "\n",
       "|  0.13664687 | -0.011028896 | -0.003603248 | -0.024533859 |  0.006873757 |\n",
       "| -0.04365148 |  0.020558881 |  0.012060445 |  0.027779218 |  0.011049798 |\n",
       "|  0.13841098 | -0.009502676 | -0.004995384 |  0.013543367 |  0.004697045 |\n",
       "|  0.05350878 | -0.006508135 | -0.016111649 |  0.001207809 | -0.027946927 |\n",
       "|  0.08082129 | -0.002064943 |  0.018064679 |  0.014717316 | -0.006707783 |\n",
       "| -0.12214871 | -0.033854025 | -0.008873304 |  0.021177930 |  0.030397385 |\n",
       "|  0.05517102 | -0.018084054 | -0.010894574 |  0.019767247 | -0.001996698 |\n",
       "| -0.04576020 | -0.022319559 | -0.033815229 | -0.018377843 |  0.011878661 |\n",
       "|  0.17102992 |  0.024872571 | -0.006615907 |  0.004274757 | -0.015691129 |\n",
       "|  0.12453482 |  0.033971324 |  0.014400697 |  0.034750861 |  0.015521393 |\n",
       "\n"
      ],
      "text/plain": [
       "      [,1]        [,2]         [,3]         [,4]         [,5]        \n",
       " [1,]  0.13664687 -0.011028896 -0.003603248 -0.024533859  0.006873757\n",
       " [2,] -0.04365148  0.020558881  0.012060445  0.027779218  0.011049798\n",
       " [3,]  0.13841098 -0.009502676 -0.004995384  0.013543367  0.004697045\n",
       " [4,]  0.05350878 -0.006508135 -0.016111649  0.001207809 -0.027946927\n",
       " [5,]  0.08082129 -0.002064943  0.018064679  0.014717316 -0.006707783\n",
       " [6,] -0.12214871 -0.033854025 -0.008873304  0.021177930  0.030397385\n",
       " [7,]  0.05517102 -0.018084054 -0.010894574  0.019767247 -0.001996698\n",
       " [8,] -0.04576020 -0.022319559 -0.033815229 -0.018377843  0.011878661\n",
       " [9,]  0.17102992  0.024872571 -0.006615907  0.004274757 -0.015691129\n",
       "[10,]  0.12453482  0.033971324  0.014400697  0.034750861  0.015521393"
      ]
     },
     "metadata": {},
     "output_type": "display_data"
    }
   ],
   "source": [
    "t(fmat[1:5, 1:10])"
   ]
  },
  {
   "cell_type": "code",
   "execution_count": null,
   "metadata": {},
   "outputs": [],
   "source": [
    "last_num = 11602\n",
    "sam_size = 1260\n",
    "st_id = 6348\n",
    "while(st_id + sam_size + 21 <= last_num){\n",
    "    trading_i = st_id + 1260\n",
    "    st_id <- st_id + 21\n",
    "    print(trading_i)\n",
    "}"
   ]
  }
 ],
 "metadata": {
  "kernelspec": {
   "display_name": "R",
   "language": "R",
   "name": "ir"
  },
  "language_info": {
   "codemirror_mode": "r",
   "file_extension": ".r",
   "mimetype": "text/x-r-source",
   "name": "R",
   "pygments_lexer": "r",
   "version": "3.6.2"
  }
 },
 "nbformat": 4,
 "nbformat_minor": 4
}
