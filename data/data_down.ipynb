{
 "cells": [
  {
   "cell_type": "code",
   "execution_count": 126,
   "metadata": {},
   "outputs": [],
   "source": [
    "import pandas as pd\n",
    "import pandas_datareader.data as web\n",
    "from datetime import datetime\n",
    "import time\n",
    "    \n",
    "def down_load_sp_500():\n",
    "    df_names = pd.read_csv('./SP500_ Shares_outstanding.csv')\n",
    "    names = df_names['SYMBOL'].tolist()\n",
    "    name_shares = df_names.set_index('SYMBOL').T.to_dict('SHARES')\n",
    "    j = 0\n",
    "    df = None\n",
    "    for name_i in names[0:2]:\n",
    "        shares = name_shares[name_i]['SHARES']\n",
    "        data = web.DataReader(name_i, \"av-daily-adjusted\", start=datetime(1990, 1, 1),\n",
    "               end=datetime(2021, 2, 10), api_key='E4EPG2AD9LS0DI82')\n",
    "        data.insert(data.shape[1], 'shares', shares)\n",
    "        data.insert(data.shape[1], 'code', name_i)\n",
    "        if j==0:\n",
    "            df = data\n",
    "        else:\n",
    "            df = pd.concat([df, data], axis=0)\n",
    "        j += 1\n",
    "        if j%5==0:\n",
    "            print(j)\n",
    "            time.sleep(60)\n",
    "    df.to_csv('SP500_price.csv')"
   ]
  },
  {
   "cell_type": "code",
   "execution_count": 116,
   "metadata": {},
   "outputs": [
    {
     "data": {
      "text/plain": [
       "16788100000"
      ]
     },
     "execution_count": 116,
     "metadata": {},
     "output_type": "execute_result"
    }
   ],
   "source": [
    "df_names = pd.read_csv('./SP500_ Shares_outstanding.csv')\n",
    "name_shares = df_names.set_index('SYMBOL').T.to_dict('SHARES')\n",
    "name_shares['AAPL']['SHARES']"
   ]
  },
  {
   "cell_type": "code",
   "execution_count": 25,
   "metadata": {},
   "outputs": [
    {
     "name": "stdout",
     "output_type": "stream",
     "text": [
      "\n",
      "1 Failed download:\n",
      "- CELG: No data found, symbol may be delisted\n"
     ]
    },
    {
     "data": {
      "text/html": [
       "<div>\n",
       "<style scoped>\n",
       "    .dataframe tbody tr th:only-of-type {\n",
       "        vertical-align: middle;\n",
       "    }\n",
       "\n",
       "    .dataframe tbody tr th {\n",
       "        vertical-align: top;\n",
       "    }\n",
       "\n",
       "    .dataframe thead th {\n",
       "        text-align: right;\n",
       "    }\n",
       "</style>\n",
       "<table border=\"1\" class=\"dataframe\">\n",
       "  <thead>\n",
       "    <tr style=\"text-align: right;\">\n",
       "      <th></th>\n",
       "      <th>Open</th>\n",
       "      <th>High</th>\n",
       "      <th>Low</th>\n",
       "      <th>Close</th>\n",
       "      <th>Adj Close</th>\n",
       "      <th>Volume</th>\n",
       "    </tr>\n",
       "    <tr>\n",
       "      <th>Date</th>\n",
       "      <th></th>\n",
       "      <th></th>\n",
       "      <th></th>\n",
       "      <th></th>\n",
       "      <th></th>\n",
       "      <th></th>\n",
       "    </tr>\n",
       "  </thead>\n",
       "  <tbody>\n",
       "  </tbody>\n",
       "</table>\n",
       "</div>"
      ],
      "text/plain": [
       "Empty DataFrame\n",
       "Columns: [Open, High, Low, Close, Adj Close, Volume]\n",
       "Index: []"
      ]
     },
     "execution_count": 25,
     "metadata": {},
     "output_type": "execute_result"
    }
   ],
   "source": [
    "import pandas as pd\n",
    "import yfinance as yf\n",
    "tsla_df = yf.download('CELG', \n",
    "                      start='1990-01-01', \n",
    "                      end='2021-2-10', \n",
    "                      progress=False)\n",
    "tsla_df.head()"
   ]
  },
  {
   "cell_type": "code",
   "execution_count": 12,
   "metadata": {},
   "outputs": [],
   "source": [
    "df_names = pd.read_csv('./SP500_ Shares_outstanding.csv')\n",
    "names = df_names['SYMBOL'].tolist()"
   ]
  },
  {
   "cell_type": "code",
   "execution_count": 38,
   "metadata": {},
   "outputs": [],
   "source": [
    "df1 = pd.read_csv('./SP500_price.csv')\n",
    "names1 = df1['code'].tolist()\n",
    "df2 = pd.read_csv('./SP500_price1.csv')\n",
    "names2 = df2['code'].tolist()\n",
    "names1 = df1['code'].tolist()\n",
    "df3 = pd.read_csv('./SP500_price2.csv')\n",
    "names3 = df3['code'].tolist()"
   ]
  },
  {
   "cell_type": "code",
   "execution_count": 42,
   "metadata": {},
   "outputs": [],
   "source": [
    "df4 = df1.rename(columns={'Unnamed: 0':'Date'})\n",
    "df5 = df2.rename(columns={'Unnamed: 0':'Date'})\n",
    "dfx = pd.concat([df4, df5], axis=0)\n",
    "dfx = pd.concat([dfx, df3], axis=0)"
   ]
  },
  {
   "cell_type": "code",
   "execution_count": 30,
   "metadata": {},
   "outputs": [
    {
     "data": {
      "text/plain": [
       "12"
      ]
     },
     "execution_count": 30,
     "metadata": {},
     "output_type": "execute_result"
    }
   ],
   "source": [
    "len(set(names)-(set(names2)|set(names1)|set(names3)))"
   ]
  },
  {
   "cell_type": "code",
   "execution_count": 46,
   "metadata": {},
   "outputs": [],
   "source": [
    "dfx.to_csv('SP500_price_all.csv')"
   ]
  },
  {
   "cell_type": "code",
   "execution_count": null,
   "metadata": {},
   "outputs": [],
   "source": []
  }
 ],
 "metadata": {
  "kernelspec": {
   "display_name": "Python 3",
   "language": "python",
   "name": "python3"
  },
  "language_info": {
   "codemirror_mode": {
    "name": "ipython",
    "version": 3
   },
   "file_extension": ".py",
   "mimetype": "text/x-python",
   "name": "python",
   "nbconvert_exporter": "python",
   "pygments_lexer": "ipython3",
   "version": "3.7.6"
  }
 },
 "nbformat": 4,
 "nbformat_minor": 4
}
