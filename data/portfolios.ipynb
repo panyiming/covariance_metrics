{
 "cells": [
  {
   "cell_type": "code",
   "execution_count": null,
   "metadata": {
    "collapsed": true
   },
   "outputs": [],
   "source": [
    "j = 0\n",
    "x = None\n",
    "codes = []\n",
    "return_mat = np.zeros((11602, 1271))\n",
    "j = 0\n",
    "for i in code_shares:\n",
    "    price_matrix= sp_data[i].astype('float')\n",
    "    price_matrix = np.array(price_matrix)\n",
    "    returns = np.log(price_matrix[1:]) - np.log(price_matrix[0:-1])\n",
    "    if np.where(returns<-5)[0].shape[0] == 0:\n",
    "        codes.append(i)\n",
    "        returns[np.isnan(returns)]=-5\n",
    "        return_mat[:, j] = returns\n",
    "        j += 1\n",
    "df_return = pd.DataFrame(data=return_mat, columns=codes)\n",
    "df_return.to_csv('returns127.csv')\n",
    "\n",
    "ffdata = pd.read_csv('./FF_Factors_daily.csv')\n",
    "start_date = 19750102\n",
    "end_date = 20201231\n",
    "mask = (ffdata['date'] >= start_date) & (ffdata['date'] <= end_date)\n",
    "ffdata = ffdata.loc[mask]\n",
    "ffdata.to_csv('ffdata_11062.csv')"
   ]
  },
  {
   "cell_type": "code",
   "execution_count": 1,
   "metadata": {},
   "outputs": [],
   "source": [
    "import json\n",
    "import mgarch\n",
    "import os\n",
    "import copy\n",
    "import pandas as pd\n",
    "import numpy as np\n",
    "import matplotlib.pyplot as plt\n",
    "from cvxopt import matrix\n",
    "from cvxopt.blas import dot \n",
    "from cvxopt import solvers\n",
    "solvers.options['show_progress'] = False\n",
    "\n",
    "\n",
    "def load_json(path):\n",
    "    with open(path, 'rb') as f:\n",
    "        json_dict = json.load(f)\n",
    "    return json_dict\n",
    "\n",
    "\n",
    "def find_first_800(sp_data_matrix, num):\n",
    "    posts = []\n",
    "    trading_days = sp_data_matrix.shape[0]\n",
    "    for i in range(trading_days):\n",
    "        num_eff = np.sum(sp_data_matrix[i, 2:]>-5)\n",
    "        if num_eff == num:\n",
    "            posts.append(i)\n",
    "    return posts[0]\n",
    "\n",
    "\n",
    "def get_sub_mat(df_return, st_idx, code_shares, sp_data, sam_size):\n",
    "    indx_length = sam_size\n",
    "    num_lim = indx_length + 21\n",
    "    ed_idx = st_idx + num_lim\n",
    "    code_ls = list(df_return.columns)[1:]\n",
    "    code_used = []\n",
    "    res_mat = []\n",
    "    res_dict = {}\n",
    "    res_pre_dict = {}\n",
    "    market_cap_dict = {}\n",
    "    for code_i in code_ls:\n",
    "        res = df_return[code_i][st_idx:ed_idx]\n",
    "        eff_num = np.sum(res>-5)\n",
    "        if eff_num == num_lim:\n",
    "            cap_i = code_shares[code_i] * sp_data[code_i][st_idx+indx_length]# error: -1\n",
    "            res_ls  = list(res)\n",
    "            res_mat.append(res_ls[0:indx_length])\n",
    "            code_used.append(code_i)\n",
    "            res_dict[code_i] = res_ls[0:indx_length]\n",
    "            res_pre_dict[code_i] = res_ls[indx_length:indx_length+21]\n",
    "            market_cap_dict[code_i] = cap_i\n",
    "    return res_mat, code_used, res_dict, res_pre_dict, market_cap_dict\n",
    "\n",
    "\n",
    "def get_N(res_mat, code_used, res_dict, res_pre_dict, market_cap_dict, N):\n",
    "    pos = np.where(np.corrcoef(np.array(res_mat))>0.95)\n",
    "    if len(pos)>1:\n",
    "        line_num, row_num = pos\n",
    "        line_num = line_num.tolist()\n",
    "        row_num = row_num.tolist()\n",
    "        code_used_ori = copy.deepcopy(code_used)\n",
    "        code_used = set(code_used)\n",
    "        for i in range(len(line_num)):\n",
    "            for j in range(len(row_num)):\n",
    "                if  i > j:\n",
    "                    stock_i = code_used_ori[line_num[i]]\n",
    "                    stock_j = code_used_ori[row_num[j]]\n",
    "                    cap_i = market_cap_dict[stock_i]\n",
    "                    cap_j = market_cap_dict[stock_j]\n",
    "            \n",
    "                    if  cap_i>=cap_j and cap_i in code_used:\n",
    "                        code_used.remove(stock_j)\n",
    "                    elif cap_i<cap_j and cap_i in code_used:\n",
    "                        code_used.remove(stock_i)\n",
    "    \n",
    "    code_cap = {}\n",
    "    for code_i in code_used:\n",
    "        code_cap[code_i] =  market_cap_dict[code_i]\n",
    "        \n",
    "    code_cap_sorted = sorted(code_cap.items(), key=lambda x: x[1], reverse=True)\n",
    "    code_N = [i[0] for i in code_cap_sorted[0:N]]\n",
    "    \n",
    "    res_mat_new = []\n",
    "    res_pre_new = []\n",
    "    for code_i in code_N:\n",
    "        res_mat_new.append(res_dict[code_i])\n",
    "        res_pre_new.append(res_pre_dict[code_i])\n",
    "    return res_mat_new, res_pre_new\n",
    "\n",
    "\n",
    "def get_rolls(code_shares, sp_data, df_return, last_num, N, num, sam_size):\n",
    "    st_id = find_first_800(df_return.to_numpy(), num)\n",
    "    roll_len = sam_size+21\n",
    "    j = 0\n",
    "    all_rolls_res = 1\n",
    "    while st_id+sam_size+21 <= last_num:\n",
    "        res_mat, code_used, res_dict, res_pre_dict, market_cap_dict = get_sub_mat(df_return,\n",
    "                                                st_id, code_shares, sp_data, sam_size)\n",
    "        res_mat_new, res_pre_new = get_N(res_mat, code_used, \n",
    "                               res_dict, res_pre_dict, market_cap_dict, N)\n",
    "        res_mat_new = np.array(res_mat_new).transpose()\n",
    "        res_pre_new = np.array(res_pre_new).transpose()\n",
    "        res_all = np.vstack((res_mat_new, res_pre_new))\n",
    "        st_id += 21\n",
    "        if all_rolls_res is  1:\n",
    "            all_rolls_res = res_all\n",
    "        else:\n",
    "            all_rolls_res = np.vstack((all_rolls_res, res_all))\n",
    "        \n",
    "    return all_rolls_res\n",
    "\n",
    "\n",
    "def get_return(weights, res_pre):\n",
    "    weights = np.matrix(weights)\n",
    "    res_pre = np.matrix(res_pre)\n",
    "    return (weights*res_pre).tolist()[0]\n",
    "    \n",
    "\n",
    "def average_weights(n):\n",
    "    return np.matrix([1/n for i in range(n)])\n",
    "\n",
    "\n",
    "def get_ws_cov(cov, no_short=True):\n",
    "    if no_short:\n",
    "        N = cov.shape[0]\n",
    "        P = matrix(cov)\n",
    "        q = matrix(np.zeros((N, 1)))\n",
    "        G  = matrix(-np.identity(N))\n",
    "        h = matrix(np.zeros((N, 1)))\n",
    "        A = matrix(1.0, (1, N))\n",
    "        b = matrix(1.0)\n",
    "        sol = solvers.qp(P, q, G, h, A, b)\n",
    "        ws = np.matrix(sol['x']).T\n",
    "    else:\n",
    "        cov_mat = np.matrix(cov)\n",
    "        N = cov_mat.shape[0]\n",
    "        I = np.matrix(np.ones(N)).T\n",
    "        ws = (cov_mat.I * I)/(I.T*cov_mat.I*I)\n",
    "        ws = ws.T\n",
    "    return ws  \n",
    "\n",
    "\n",
    "def get_sam_res1(code_shares, sp_data, df_return, last_num, N, num, sam_size):\n",
    "    st_id = find_first_800(df_return.to_numpy(), num)\n",
    "    res_ew = []\n",
    "    res_sample_cov = []\n",
    "    while st_id + sam_size+21 <= last_num:\n",
    "        res_mat, code_used, res_dict, res_pre_dict, market_cap_dict = get_sub_mat(df_return,\n",
    "                                                                st_id, code_shares, sp_data, sam_size)\n",
    "        res_mat_new, res_pre_new = get_N(res_mat, code_used, \n",
    "                               res_dict, res_pre_dict, market_cap_dict, N)\n",
    "        st_id += 21\n",
    "        avg_ws = average_weights(N)\n",
    "        avg_res_i = get_return(avg_ws, res_pre_new)\n",
    "        res_ew += avg_res_i\n",
    "        sam_cov = np.cov(np.array(res_mat_new))\n",
    "        samp_ws = get_ws_cov(sam_cov, no_short=False)\n",
    "        sam_res_i = get_return(samp_ws,  res_pre_new)\n",
    "        res_sample_cov += sam_res_i\n",
    "    return res_ew, res_sample_cov\n",
    "\n",
    "\n",
    "def indicators(res):\n",
    "    AV= round(np.mean(res)*252*100, 5)\n",
    "    SD = round(np.cov(res)**0.5*252**0.5*100, 5)\n",
    "    IR = round(AV/SD, 5)\n",
    "    return AV, SD, IR\n",
    "\n",
    "\n",
    "def read_dcc_res(path):\n",
    "    res_dccnl = pd.read_csv(path)\n",
    "    res_dccnl= res_dccnl['x']\n",
    "    res_dccnl = list(res_dccnl)\n",
    "    return res_dccnl\n",
    "\n",
    "\n",
    "def res_line(res):\n",
    "    portfolio_res = [1]\n",
    "    a = 1\n",
    "    for i in res:\n",
    "        a = a*(1+i)\n",
    "        portfolio_res.append(a)\n",
    "    return portfolio_res\n",
    "\n",
    "\n",
    "def get_hold_ws(ws1, res_mat_pre):\n",
    "    ws11 = np.multiply(ws1, (1+np.sum(res_mat_pre, axis=1)))\n",
    "    ws11 = ws11/np.sum(ws11)\n",
    "    return ws11.tolist()[0]\n",
    "\n",
    "\n",
    "def indicators2(set_ws, hold_ws):\n",
    "    set_ws = np.array(set_ws)\n",
    "    hold_ws = np.array(hold_ws)\n",
    "    ws_change = set_ws[1:, :] - hold_ws[0:-1, :]\n",
    "    TO = round(np.mean(np.linalg.norm(ws_change, ord=1, axis=1)), 4)\n",
    "    GL = round(np.mean(np.linalg.norm(set_ws, ord=1, axis=1)), 4)\n",
    "    PL = round(np.mean(set_ws<0), 4)\n",
    "    return TO, GL, PL\n",
    "\n",
    "\n",
    "def get_ew_res(rolls, N, no_short=False):\n",
    "    rtns_ew = []\n",
    "    hold_ws = []\n",
    "    set_ws = []\n",
    "    for i in range(190):\n",
    "        ws_i = average_weights(N)\n",
    "        st_idx = (i+1)*1281-21\n",
    "        ed_idx = (i+1)*1281\n",
    "        res_pre_i = rolls[st_idx:ed_idx, 1:N+1]\n",
    "        res_pre_i = np.matrix(res_pre_i).T\n",
    "        rtns_i = get_return(ws_i, res_pre_i)\n",
    "        hold_ws_i = get_hold_ws(ws_i, res_pre_i)\n",
    "        set_ws.append(ws_i.tolist()[0])\n",
    "        hold_ws.append(hold_ws_i)\n",
    "        rtns_ew += rtns_i\n",
    "    return rtns_ew, set_ws, hold_ws\n",
    "\n",
    "\n",
    "def get_sam_res(rolls, N, no_short=False):\n",
    "    rtns_sam = []\n",
    "    hold_ws = []\n",
    "    set_ws = []\n",
    "    for i in range(190):\n",
    "        st_idx = i*1281\n",
    "        ed_idx = i*1281+1260\n",
    "        res_mat = rolls[st_idx:ed_idx, 1:N+1]\n",
    "        cov_mat =  np.cov(np.array(res_mat).transpose())\n",
    "        ws_i = get_ws_cov(cov_mat, no_short=no_short)\n",
    "        st_idx = (i+1)*1281-21\n",
    "        ed_idx = (i+1)*1281\n",
    "        res_pre_i = rolls[st_idx:ed_idx, 1:N+1]\n",
    "        res_pre_i = np.matrix(res_pre_i).T\n",
    "        rtns_sam_i = get_return(ws_i, res_pre_i)\n",
    "        hold_ws_i = get_hold_ws(ws_i, res_pre_i)\n",
    "        hold_ws.append(hold_ws_i)\n",
    "        set_ws.append(ws_i.tolist()[0])\n",
    "        rtns_sam += rtns_sam_i\n",
    "    return rtns_sam, set_ws, hold_ws\n",
    "\n",
    "\n",
    "def get_dcc_res(root_dir, rolls, N, no_short):\n",
    "    file_ls = os.listdir(root_dir)\n",
    "    length = len(file_ls)\n",
    "    res_dccnl = []\n",
    "    hold_ws = []\n",
    "    set_ws = []\n",
    "    for i in range(length):\n",
    "        file_path = os.path.join(root_dir, '{}.csv'.format(i+1))\n",
    "        cov_mat = pd.read_csv(file_path)\n",
    "        cov_mat = np.matrix(cov_mat.to_numpy())\n",
    "        #st_idx = i*1281\n",
    "        #ed_idx = i*1281+1260\n",
    "        #res_mat = rolls[st_idx:ed_idx, 1:N+1]\n",
    "        #cov_mat =  np.cov(np.array(res_mat).transpose())\n",
    "        ws_i = get_ws_cov(cov_mat, no_short=no_short)\n",
    "        st_idx = (i+1)*1281-21\n",
    "        ed_idx = (i+1)*1281\n",
    "        res_pre_i = rolls[st_idx:ed_idx, 1:N+1]\n",
    "        res_pre_i = np.matrix(res_pre_i).T\n",
    "        res_i = get_return(ws_i, res_pre_i)\n",
    "        hold_ws_i = get_hold_ws(ws_i, res_pre_i)\n",
    "        hold_ws.append(hold_ws_i)\n",
    "        set_ws.append(ws_i.tolist()[0])\n",
    "        res_dccnl += res_i\n",
    "    return res_dccnl, set_ws, hold_ws\n",
    "\n",
    "\n",
    "def get_rtns_static5(rolls, N, no_short, resid5, param5, ff5_cov):\n",
    "    rtns_static = []\n",
    "    hold_ws = []\n",
    "    set_ws = []\n",
    "    for i in range(190):\n",
    "        resid_i = resid5[i*500:i*500+N, :]\n",
    "        cov_i = np.cov(resid_i)\n",
    "        cov_i = np.diag(np.diag(cov_i))\n",
    "        #cov_i[np.where(abs(cov_i)<1e-7)]=0.0\n",
    "        param5_i = param5[i*500:i*500+N, :]\n",
    "        ff_vol_i = ff5_cov[i*5:i*5+5, :]\n",
    "        cov_i = np.matrix(cov_i)\n",
    "        param5_i = np.matrix(param5_i)\n",
    "        ff_vol_i = np.matrix(ff_vol_i)\n",
    "        rtn_cov_i =  param5_i * ff_vol_i * param5_i.T + cov_i\n",
    "        #st_idx = i*1281\n",
    "        #ed_idx = i*1281+1260\n",
    "        #res_mat = rolls[st_idx:ed_idx, 1:N+1]\n",
    "        #cov_mat =  np.cov(np.array(res_mat).transpose())\n",
    "        ws_i = get_ws_cov(rtn_cov_i, no_short=no_short)\n",
    "        st_idx = (i+1)*1281-21\n",
    "        ed_idx = (i+1)*1281\n",
    "        res_pre_i = rolls[st_idx:ed_idx, 1:N+1]\n",
    "        res_pre_i = np.matrix(res_pre_i).T\n",
    "        res_i = get_return(ws_i, res_pre_i)\n",
    "        hold_ws_i = get_hold_ws(ws_i, res_pre_i)\n",
    "        hold_ws.append(hold_ws_i)\n",
    "        set_ws.append(ws_i.tolist()[0])\n",
    "        rtns_static += res_i\n",
    "    return rtns_static, set_ws, hold_ws\n",
    "\n",
    "\n",
    "def get_rtns_static1(rolls, N, no_short, resid1, param1, ff1_cov):\n",
    "    rtns_static = []\n",
    "    hold_ws = []\n",
    "    set_ws = []\n",
    "    for i in range(190):\n",
    "        resid_i = resid1[i*500:i*500+N, :]\n",
    "        cov_i = np.cov(resid_i)\n",
    "        cov_i = np.diag(np.diag(cov_i))\n",
    "        #cov_i[np.where(abs(cov_i)<1e-7)]=0.0\n",
    "        param1_i = param1[i*500:i*500+N, :]\n",
    "        ff_vol_i = ff1_cov[i, :]\n",
    "        cov_i = np.matrix(cov_i)\n",
    "        param1_i = np.matrix(param1_i)\n",
    "        ff_vol_i = np.matrix(ff_vol_i)\n",
    "        rtn_cov_i =  param1_i * ff_vol_i * param1_i.T + cov_i\n",
    "        #st_idx = i*1281\n",
    "        #ed_idx = i*1281+1260\n",
    "        #res_mat = rolls[st_idx:ed_idx, 1:N+1]\n",
    "        #cov_mat =  np.cov(np.array(res_mat).transpose())\n",
    "        ws_i = get_ws_cov(rtn_cov_i, no_short=no_short)\n",
    "        st_idx = (i+1)*1281-21\n",
    "        ed_idx = (i+1)*1281\n",
    "        res_pre_i = rolls[st_idx:ed_idx, 1:N+1]\n",
    "        res_pre_i = np.matrix(res_pre_i).T\n",
    "        res_i = get_return(ws_i, res_pre_i)\n",
    "        hold_ws_i = get_hold_ws(ws_i, res_pre_i)\n",
    "        hold_ws.append(hold_ws_i)\n",
    "        set_ws.append(ws_i.tolist()[0])\n",
    "        rtns_static += res_i\n",
    "    return rtns_static, set_ws, hold_ws\n",
    "\n",
    "\n",
    "def get_rtns_dcc_ff5(root_dir, rolls, N, param5, ff5_cov, no_short):\n",
    "    file_ls = os.listdir(root_dir)\n",
    "    length = len(file_ls)\n",
    "    res_dccnl = []\n",
    "    hold_ws = []\n",
    "    set_ws = []\n",
    "    for i in range(length):\n",
    "        file_path = os.path.join(root_dir, '{}.csv'.format(i+1))\n",
    "        resid_cov = pd.read_csv(file_path)\n",
    "        resid_cov = np.matrix(resid_cov.to_numpy())\n",
    "        param5_i = param5[i*500:i*500+N, :]\n",
    "        ff_vol_i = ff5_cov[i*5:i*5+5, :]\n",
    "        param5_i = np.matrix(param5_i)\n",
    "        ff_vol_i = np.matrix(ff_vol_i)\n",
    "        rtn_cov_i =  param5_i * ff_vol_i * param5_i.T + resid_cov\n",
    "        #st_idx = i*1281\n",
    "        #ed_idx = i*1281+1260\n",
    "        #res_mat = rolls[st_idx:ed_idx, 1:N+1]\n",
    "        #cov_mat =  np.cov(np.array(res_mat).transpose())\n",
    "        ws_i = get_ws_cov(rtn_cov_i, no_short=no_short)\n",
    "        st_idx = (i+1)*1281-21\n",
    "        ed_idx = (i+1)*1281\n",
    "        res_pre_i = rolls[st_idx:ed_idx, 1:N+1]\n",
    "        res_pre_i = np.matrix(res_pre_i).T\n",
    "        res_i = get_return(ws_i, res_pre_i)\n",
    "        hold_ws_i = get_hold_ws(ws_i, res_pre_i)\n",
    "        hold_ws.append(hold_ws_i)\n",
    "        set_ws.append(ws_i.tolist()[0])\n",
    "        res_dccnl += res_i\n",
    "    return res_dccnl, set_ws, hold_ws\n",
    "\n",
    "\n",
    "def get_rtns_dcc_ff1(root_dir, rolls, N, param1, ff1_cov, no_short):\n",
    "    file_ls = os.listdir(root_dir)\n",
    "    length = len(file_ls)\n",
    "    res_dccnl = []\n",
    "    hold_ws = []\n",
    "    set_ws = []\n",
    "    for i in range(length):\n",
    "        file_path = os.path.join(root_dir, '{}.csv'.format(i+1))\n",
    "        resid_cov = pd.read_csv(file_path)\n",
    "        resid_cov = np.matrix(resid_cov.to_numpy())\n",
    "        #resid_cov = np.diag(np.diag(resid_cov))\n",
    "        param1_i = param1[i*500:i*500+N, :]\n",
    "        ff_vol_i = ff1_cov[i, :]\n",
    "        resid_cov = np.matrix(resid_cov)\n",
    "        param5_i = np.matrix(param1_i)\n",
    "        ff_vol_i = np.matrix(ff_vol_i)\n",
    "        rtn_cov_i =  param1_i * ff_vol_i * param1_i.T + resid_cov\n",
    "        #st_idx = i*1281\n",
    "        #ed_idx = i*1281+1260\n",
    "        #res_mat = rolls[st_idx:ed_idx, 1:N+1]\n",
    "        #cov_mat =  np.cov(np.array(res_mat).transpose())\n",
    "        ws_i = get_ws_cov(rtn_cov_i, no_short=no_short)\n",
    "        st_idx = (i+1)*1281-21\n",
    "        ed_idx = (i+1)*1281\n",
    "        res_pre_i = rolls[st_idx:ed_idx, 1:N+1]\n",
    "        res_pre_i = np.matrix(res_pre_i).T\n",
    "        res_i = get_return(ws_i, res_pre_i)\n",
    "        hold_ws_i = get_hold_ws(ws_i, res_pre_i)\n",
    "        hold_ws.append(hold_ws_i)\n",
    "        set_ws.append(ws_i.tolist()[0])\n",
    "        res_dccnl += res_i\n",
    "    return res_dccnl, set_ws, hold_ws"
   ]
  },
  {
   "cell_type": "markdown",
   "metadata": {},
   "source": [
    "# 1 load_data and get return rates"
   ]
  },
  {
   "cell_type": "code",
   "execution_count": 3,
   "metadata": {},
   "outputs": [],
   "source": [
    "code_shares = load_json('./code_shares.json')\n",
    "sp_data = pd.read_csv('./SP1273_19750103_20201231.csv')\n",
    "df_return = pd.read_csv('./returns1271.csv')"
   ]
  },
  {
   "cell_type": "markdown",
   "metadata": {},
   "source": [
    "# 2 get all rolling res data"
   ]
  },
  {
   "cell_type": "code",
   "execution_count": null,
   "metadata": {
    "collapsed": true
   },
   "outputs": [],
   "source": [
    "all_rolls_res = get_rolls(code_shares, sp_data, df_return, 11602, 500, 800, 630)"
   ]
  },
  {
   "cell_type": "code",
   "execution_count": 315,
   "metadata": {
    "collapsed": true
   },
   "outputs": [],
   "source": [
    "all_rolls_res1 = np.around(all_rolls_res, decimals=6, out=None)\n",
    "col_names = []\n",
    "for i in range(500):\n",
    "    col_names.append('asset{}'.format(i))\n",
    "df_rolls = pd.DataFrame(data=all_rolls_res1, columns=col_names)\n",
    "df_rolls.to_csv('df_rolls_500_630.csv')"
   ]
  },
  {
   "cell_type": "markdown",
   "metadata": {},
   "source": [
    "# 3 get portfolio universe"
   ]
  },
  {
   "cell_type": "code",
   "execution_count": 2,
   "metadata": {},
   "outputs": [],
   "source": [
    "rolls = pd.read_csv('./df_rolls.csv')\n",
    "rolls = rolls.to_numpy()"
   ]
  },
  {
   "cell_type": "markdown",
   "metadata": {},
   "source": [
    "# 4 structure free models"
   ]
  },
  {
   "cell_type": "markdown",
   "metadata": {},
   "source": [
    "# N=100"
   ]
  },
  {
   "cell_type": "code",
   "execution_count": 3,
   "metadata": {},
   "outputs": [],
   "source": [
    "N = 100\n",
    "root_dir = './cov_{}_dcc/'.format(N)\n",
    "rtns_dcc_100, set_ws_dcc_100,  hold_ws_dcc_100 = get_dcc_res(root_dir, rolls, N, no_short=False)\n",
    "idx1_dcc_100 = indicators(rtns_dcc_100)\n",
    "idx2_dcc_100 = indicators2(set_ws_dcc_100, hold_ws_dcc_100)\n",
    "\n",
    "rtns_ew_100, set_ws_ew_100, hold_ws_ew_100 = get_ew_res(rolls, N)\n",
    "idx1_ew_100 = indicators(rtns_ew_100)\n",
    "idx2_ew_100 = indicators2(set_ws_ew_100, hold_ws_ew_100)\n",
    "\n",
    "rtns_sam_100,  set_ws_sam_100, hold_ws_sam_100 = get_sam_res(rolls, N, False)\n",
    "idx1_sam_100 = indicators(rtns_sam_100)\n",
    "idx2_sam_100 = indicators2(set_ws_sam_100, hold_ws_sam_100)"
   ]
  },
  {
   "cell_type": "code",
   "execution_count": 4,
   "metadata": {},
   "outputs": [
    {
     "name": "stdout",
     "output_type": "stream",
     "text": [
      "EW (5.19047, 20.65605, 0.25128)\n",
      "Sample (38.45129, 132.29348, 0.29065)\n",
      "DCCNL (7.42985, 13.78978, 0.53879)\n"
     ]
    }
   ],
   "source": [
    "print('EW', idx1_ew_100)\n",
    "print('Sample', idx1_sam_100)\n",
    "print('DCCNL',idx1_dcc_100)"
   ]
  },
  {
   "cell_type": "code",
   "execution_count": 5,
   "metadata": {},
   "outputs": [
    {
     "name": "stdout",
     "output_type": "stream",
     "text": [
      "EW (0.9906, 1.0, 0.0)\n",
      "Sample (444.9632, 441.713, 0.4336)\n",
      "DCCNL (40.2612, 39.7631, 0.4646)\n"
     ]
    }
   ],
   "source": [
    "print('EW', idx2_ew_100)\n",
    "print('Sample', idx2_sam_100)\n",
    "print('DCCNL',idx2_dcc_100)"
   ]
  },
  {
   "cell_type": "markdown",
   "metadata": {},
   "source": [
    "# N = 200"
   ]
  },
  {
   "cell_type": "code",
   "execution_count": 6,
   "metadata": {},
   "outputs": [],
   "source": [
    "N = 200\n",
    "root_dir = './cov_{}_dcc/'.format(N)\n",
    "rtns_dcc_200, set_ws_dcc_200,  hold_ws_dcc_200 = get_dcc_res(root_dir, rolls, N, no_short=False)\n",
    "idx1_dcc_200 = indicators(rtns_dcc_200)\n",
    "idx2_dcc_200 = indicators2(set_ws_dcc_200, hold_ws_dcc_200)\n",
    "\n",
    "rtns_ew_200, set_ws_ew_200, hold_ws_ew_200 = get_ew_res(rolls, N)\n",
    "idx1_ew_200 = indicators(rtns_ew_200)\n",
    "idx2_ew_200 = indicators2(set_ws_ew_200, hold_ws_ew_200)\n",
    "\n",
    "rtns_sam_200,  set_ws_sam_200, hold_ws_sam_200 = get_sam_res(rolls, N, False)\n",
    "idx1_sam_200 = indicators(rtns_sam_200)\n",
    "idx2_sam_200 = indicators2(set_ws_sam_200, hold_ws_sam_200)"
   ]
  },
  {
   "cell_type": "code",
   "execution_count": 7,
   "metadata": {},
   "outputs": [
    {
     "name": "stdout",
     "output_type": "stream",
     "text": [
      "EW (5.58736, 20.94381, 0.26678)\n",
      "Sample (-15.82624, 105.42171, -0.15012)\n",
      "DCCNL (9.77188, 12.96225, 0.75387)\n"
     ]
    }
   ],
   "source": [
    "print('EW', idx1_ew_200)\n",
    "print('Sample', idx1_sam_200)\n",
    "print('DCCNL',idx1_dcc_200)"
   ]
  },
  {
   "cell_type": "code",
   "execution_count": 8,
   "metadata": {},
   "outputs": [
    {
     "name": "stdout",
     "output_type": "stream",
     "text": [
      "EW (0.9953, 1.0, 0.0)\n",
      "Sample (516.6393, 513.3177, 0.4568)\n",
      "DCCNL (14.6735, 14.5643, 0.4832)\n"
     ]
    }
   ],
   "source": [
    "print('EW', idx2_ew_200)\n",
    "print('Sample', idx2_sam_200)\n",
    "print('DCCNL',idx2_dcc_200)"
   ]
  },
  {
   "cell_type": "markdown",
   "metadata": {},
   "source": [
    "# N=500"
   ]
  },
  {
   "cell_type": "code",
   "execution_count": 9,
   "metadata": {},
   "outputs": [],
   "source": [
    "N = 500\n",
    "root_dir = './cov_{}_dcc/'.format(N)\n",
    "rtns_dcc_500, set_ws_dcc_500,  hold_ws_dcc_500 = get_dcc_res(root_dir, rolls, N, no_short=False)\n",
    "idx1_dcc_500 = indicators(rtns_dcc_500)\n",
    "idx2_dcc_500 = indicators2(set_ws_dcc_500, hold_ws_dcc_500)\n",
    "\n",
    "rtns_ew_500, set_ws_ew_500, hold_ws_ew_500 = get_ew_res(rolls, N)\n",
    "idx1_ew_500 = indicators(rtns_ew_500)\n",
    "idx2_ew_500 = indicators2(set_ws_ew_500, hold_ws_ew_500)\n",
    "\n",
    "rtns_sam_500,  set_ws_sam_500, hold_ws_sam_500 = get_sam_res(rolls, N, False)\n",
    "idx1_sam_500 = indicators(rtns_sam_500)\n",
    "idx2_sam_500 = indicators2(set_ws_sam_500, hold_ws_sam_500)"
   ]
  },
  {
   "cell_type": "code",
   "execution_count": 10,
   "metadata": {},
   "outputs": [
    {
     "name": "stdout",
     "output_type": "stream",
     "text": [
      "EW (6.82722, 21.95549, 0.31096)\n",
      "Sample (7.43941, 12.60113, 0.59038)\n",
      "DCCNL (8.1287, 12.13695, 0.66975)\n"
     ]
    }
   ],
   "source": [
    "print('EW', idx1_ew_500)\n",
    "print('Sample', idx1_sam_500)\n",
    "print('DCCNL',idx1_dcc_500)"
   ]
  },
  {
   "cell_type": "code",
   "execution_count": 11,
   "metadata": {},
   "outputs": [
    {
     "name": "stdout",
     "output_type": "stream",
     "text": [
      "EW (0.9981, 1.0, 0.0)\n",
      "Sample (711.1294, 707.1217, 0.4707)\n",
      "DCCNL (51.7719, 51.4227, 0.5014)\n"
     ]
    }
   ],
   "source": [
    "print('EW', idx2_ew_500)\n",
    "print('Sample', idx2_sam_500)\n",
    "print('DCCNL',idx2_dcc_500)"
   ]
  },
  {
   "cell_type": "markdown",
   "metadata": {},
   "source": [
    "# 2 static model"
   ]
  },
  {
   "cell_type": "markdown",
   "metadata": {},
   "source": [
    "## 2.1 five factor model"
   ]
  },
  {
   "cell_type": "code",
   "execution_count": 15,
   "metadata": {},
   "outputs": [],
   "source": [
    "resid5 = np.load('./ff_model_data_1260/residual_mat5.npy')\n",
    "param5 = np.load('./ff_model_data_1260/params_mat5.npy')\n",
    "ff_cov5 = np.load('./ff_model_data_1260/ff5_vol.npy')"
   ]
  },
  {
   "cell_type": "code",
   "execution_count": 16,
   "metadata": {},
   "outputs": [],
   "source": [
    "N = 100\n",
    "no_short = False\n",
    "rtns_static5_100, set_ws_static5_100, hold_ws_static5_100 = \\\n",
    "get_rtns_static5(rolls, N, no_short, resid5, param5, ff_cov5)\n",
    "\n",
    "\n",
    "N = 200\n",
    "no_short = False\n",
    "rtns_static5_200, set_ws_static5_200, hold_ws_static5_200 = \\\n",
    "get_rtns_static5(rolls, N, no_short, resid5, param5, ff_cov5)\n",
    "\n",
    "\n",
    "N = 500\n",
    "no_short = False\n",
    "rtns_static5_500, set_ws_static5_500, hold_ws_static5_500 = \\\n",
    "get_rtns_static5(rolls, N, no_short, resid5, param5, ff_cov5)"
   ]
  },
  {
   "cell_type": "code",
   "execution_count": 17,
   "metadata": {},
   "outputs": [],
   "source": [
    "idx1_static5_100 = indicators(rtns_static5_100)\n",
    "idx2_static5_100 = indicators2(set_ws_static5_100, hold_ws_static5_100)\n",
    "\n",
    "idx1_static5_200 = indicators(rtns_static5_200)\n",
    "idx2_static5_200 = indicators2(set_ws_static5_200, hold_ws_static5_200)\n",
    "\n",
    "idx1_static5_500 = indicators(rtns_static5_500)\n",
    "idx2_static5_500 = indicators2(set_ws_static5_500, hold_ws_static5_500)"
   ]
  },
  {
   "cell_type": "markdown",
   "metadata": {},
   "source": [
    "## 2.2 one-factor model"
   ]
  },
  {
   "cell_type": "code",
   "execution_count": 18,
   "metadata": {},
   "outputs": [],
   "source": [
    "resid1 = np.load('./ff_model_data_1260/residual_mat1.npy')\n",
    "param1 = np.load('./ff_model_data_1260/params_mat1.npy')\n",
    "ff_cov1 = np.load('./ff_model_data_1260/ff1_vol.npy')"
   ]
  },
  {
   "cell_type": "code",
   "execution_count": 19,
   "metadata": {},
   "outputs": [],
   "source": [
    "N = 100\n",
    "no_short = False\n",
    "rtns_static1_100, set_ws_static1_100, hold_ws_static1_100 = \\\n",
    "get_rtns_static1(rolls, N, no_short, resid1, param1, ff_cov1)\n",
    "\n",
    "N = 200\n",
    "no_short = False\n",
    "rtns_static1_200, set_ws_static1_200, hold_ws_static1_200 = \\\n",
    "get_rtns_static1(rolls, N, no_short, resid1, param1, ff_cov1)\n",
    "\n",
    "N = 500\n",
    "no_short = False\n",
    "rtns_static1_500, set_ws_static1_500, hold_ws_static1_500 = \\\n",
    "get_rtns_static1(rolls, N, no_short, resid1, param1, ff_cov1)"
   ]
  },
  {
   "cell_type": "code",
   "execution_count": 20,
   "metadata": {},
   "outputs": [],
   "source": [
    "idx1_static1_100 = indicators(rtns_static1_100)\n",
    "idx1_static1_200 = indicators(rtns_static1_200)\n",
    "idx1_static1_500 = indicators(rtns_static1_500)\n",
    "\n",
    "idx2_static1_100 = indicators2(set_ws_static1_100, hold_ws_static1_100)\n",
    "idx2_static1_200 = indicators2(set_ws_static1_200, hold_ws_static1_200)\n",
    "idx2_static1_500 = indicators2(set_ws_static1_500, hold_ws_static1_500)"
   ]
  },
  {
   "cell_type": "code",
   "execution_count": 21,
   "metadata": {},
   "outputs": [
    {
     "name": "stdout",
     "output_type": "stream",
     "text": [
      "idicators1 ('AV', 'SD', 'IR')\n",
      "static5_100 (9.42504, 14.6334, 0.64408)\n",
      "static5_200 (10.63565, 14.81366, 0.71796)\n",
      "static5_500 (10.82981, 14.39245, 0.75246)\n",
      "static1_100 (10.02253, 16.0114, 0.62596)\n",
      "static1_200 (11.2105, 16.31887, 0.68697)\n",
      "static1_500 (11.07083, 16.18345, 0.68408)\n"
     ]
    }
   ],
   "source": [
    "print('idicators1', ('AV','SD','IR'))\n",
    "print('static5_100', idx1_static5_100)\n",
    "print('static5_200', idx1_static5_200)\n",
    "print('static5_500', idx1_static5_500)\n",
    "print('static1_100', idx1_static1_100)\n",
    "print('static1_200', idx1_static1_200)\n",
    "print('static1_500', idx1_static1_500)"
   ]
  },
  {
   "cell_type": "code",
   "execution_count": 22,
   "metadata": {},
   "outputs": [
    {
     "name": "stdout",
     "output_type": "stream",
     "text": [
      "idicators2 ('TO', 'GL', 'PL')\n",
      "static5_100 (9.42504, 14.6334, 0.64408)\n",
      "static5_200 (10.63565, 14.81366, 0.71796)\n",
      "static5_500 (10.82981, 14.39245, 0.75246)\n",
      "static1_100 (2.2572, 2.2586, 0.4483)\n",
      "static1_200 (2.403, 2.4009, 0.4619)\n",
      "static1_500 (2.4481, 2.444, 0.4806)\n"
     ]
    }
   ],
   "source": [
    "print('idicators2', ('TO','GL','PL'))\n",
    "print('static5_100', idx1_static5_100)\n",
    "print('static5_200', idx1_static5_200)\n",
    "print('static5_500', idx1_static5_500)\n",
    "print('static1_100', idx2_static1_100)\n",
    "print('static1_200', idx2_static1_200)\n",
    "print('static1_500', idx2_static1_500)"
   ]
  },
  {
   "cell_type": "markdown",
   "metadata": {},
   "source": [
    "# 3 DCC-NL approxiamate model"
   ]
  },
  {
   "cell_type": "markdown",
   "metadata": {},
   "source": [
    "## 3.1 five factor model"
   ]
  },
  {
   "cell_type": "code",
   "execution_count": 23,
   "metadata": {},
   "outputs": [],
   "source": [
    "param5 = np.load('./ff_model_data_1260/params_mat5.npy')\n",
    "ff_cov5 = np.load('./ff_model_data_1260/ff5_vol_dcc.npy')"
   ]
  },
  {
   "cell_type": "code",
   "execution_count": 24,
   "metadata": {},
   "outputs": [],
   "source": [
    "N = 100\n",
    "root_dir = './ff_model_data_1260/resid_dcc_cov5_100/'\n",
    "no_short=False\n",
    "res_dccnl_ff5_100, set_ws_dccnl_ff5_100, hold_ws_dccnl_ff5_100 = \\\n",
    "get_rtns_dcc_ff5(root_dir, rolls, N, param5, ff_cov5, no_short)\n",
    "\n",
    "\n",
    "N = 200\n",
    "root_dir = './ff_model_data_1260/resid_dcc_cov5_200/'\n",
    "no_short=False\n",
    "res_dccnl_ff5_200, set_ws_dccnl_ff5_200, hold_ws_dccnl_ff5_200 = \\\n",
    "get_rtns_dcc_ff5(root_dir, rolls, N, param5, ff_cov5, no_short)"
   ]
  },
  {
   "cell_type": "code",
   "execution_count": 25,
   "metadata": {},
   "outputs": [],
   "source": [
    "idx1_dccnl_ff5_100 =  indicators(res_dccnl_ff5_100)\n",
    "idx2_dccnl_ff5_100 =  indicators2(set_ws_dccnl_ff5_100, hold_ws_dccnl_ff5_100)\n",
    "\n",
    "\n",
    "idx1_dccnl_ff5_200 =  indicators(res_dccnl_ff5_200)\n",
    "idx2_dccnl_ff5_200 =  indicators2(set_ws_dccnl_ff5_200, hold_ws_dccnl_ff5_200)"
   ]
  },
  {
   "cell_type": "markdown",
   "metadata": {},
   "source": [
    "# 3.2 one-factor model"
   ]
  },
  {
   "cell_type": "code",
   "execution_count": 26,
   "metadata": {},
   "outputs": [],
   "source": [
    "param1 = np.load('./ff_model_data_1260/params_mat1.npy')\n",
    "ff_cov1 = np.load('./ff_model_data_1260/ff1_vol_dcc.npy')"
   ]
  },
  {
   "cell_type": "code",
   "execution_count": 796,
   "metadata": {},
   "outputs": [],
   "source": [
    "N = 100\n",
    "root_dir = './ff_model_data_1260/resid_dcc_cov1_100/'\n",
    "no_short=False\n",
    "res_dccnl_ff1_100, set_ws_dccnl_ff1_100, hold_ws_dccnl_ff1_100 = \\\n",
    "get_rtns_dcc_ff1(root_dir, rolls, N, param1, ff_cov1, no_short)\n",
    "\n",
    "N = 200\n",
    "root_dir = './ff_model_data_1260/resid_dcc_cov1_200/'\n",
    "no_short=False\n",
    "res_dccnl_ff1_200, set_ws_dccnl_ff1_200, hold_ws_dccnl_ff1_200 = \\\n",
    "get_rtns_dcc_ff1(root_dir, rolls, N, param1, ff_cov1, no_short)"
   ]
  },
  {
   "cell_type": "code",
   "execution_count": 798,
   "metadata": {},
   "outputs": [],
   "source": [
    "idx1_dccnl_ff1_100 = indicators(res_dccnl_ff1_100)\n",
    "idx2_dccnl_ff1_100 = indicators2(set_ws_dccnl_ff1_100, hold_ws_dccnl_ff1_100)\n",
    "\n",
    "idx1_dccnl_ff1_200 = indicators(res_dccnl_ff1_200)\n",
    "idx2_dccnl_ff1_200 = indicators2(set_ws_dccnl_ff1_200, hold_ws_dccnl_ff1_200)"
   ]
  },
  {
   "cell_type": "code",
   "execution_count": 809,
   "metadata": {},
   "outputs": [],
   "source": [
    "N = 500\n",
    "root_dir = './ff_model_data_1260/resid_dcc_cov1_500/'\n",
    "no_short=False\n",
    "res_dccnl_ff1_500, set_ws_dccnl_ff1_500, hold_ws_dccnl_ff1_500 = \\\n",
    "get_rtns_dcc_ff1(root_dir, rolls, N, param1, ff_cov1, no_short)"
   ]
  },
  {
   "cell_type": "code",
   "execution_count": 810,
   "metadata": {},
   "outputs": [
    {
     "data": {
      "text/plain": [
       "(4.84649, 5.19567, 0.93279)"
      ]
     },
     "execution_count": 810,
     "metadata": {},
     "output_type": "execute_result"
    }
   ],
   "source": [
    "indicators(res_dccnl_ff1_500)"
   ]
  },
  {
   "cell_type": "code",
   "execution_count": 811,
   "metadata": {},
   "outputs": [
    {
     "data": {
      "text/plain": [
       "(8.75168, 7.98978, 1.09536)"
      ]
     },
     "execution_count": 811,
     "metadata": {},
     "output_type": "execute_result"
    }
   ],
   "source": [
    "indicators(res_dccnl_ff1_200[0:len(res_dccnl_ff1_500)])"
   ]
  },
  {
   "cell_type": "code",
   "execution_count": 807,
   "metadata": {},
   "outputs": [
    {
     "name": "stdout",
     "output_type": "stream",
     "text": [
      "idicators1 ('AV', 'SD', 'IR')\n",
      "dccnl_ff5_100 (6.7857, 14.46385, 0.46915)\n",
      "dccnl_ff5_200 (8.00029, 13.02876, 0.61405)\n",
      "dccnl_ff1_100 (9.26, 13.63718, 0.67903)\n",
      "dccnl_ff1_200 (10.06905, 12.38824, 0.81279)\n"
     ]
    }
   ],
   "source": [
    "print('idicators1', ('AV','SD','IR'))\n",
    "print('dccnl_ff5_100', idx1_dccnl_ff5_100)\n",
    "print('dccnl_ff5_200', idx1_dccnl_ff5_200)\n",
    "print('dccnl_ff1_100', idx1_dccnl_ff1_100)\n",
    "print('dccnl_ff1_200', idx1_dccnl_ff1_200)"
   ]
  },
  {
   "cell_type": "code",
   "execution_count": 808,
   "metadata": {},
   "outputs": [
    {
     "name": "stdout",
     "output_type": "stream",
     "text": [
      "idicators2 ('TO', 'GL', 'PL')\n",
      "dccnl_ff5_100 (630.7817, 623.7603, 0.427)\n",
      "dccnl_ff5_200 (111.4408, 110.3599, 0.4569)\n",
      "dccnl_ff1_100 (272.962, 268.7343, 0.4339)\n",
      "dccnl_ff1_200 (254.613, 252.3522, 0.4567)\n"
     ]
    }
   ],
   "source": [
    "print('idicators2', ('TO','GL','PL'))\n",
    "print('dccnl_ff5_100', idx2_dccnl_ff5_100)\n",
    "print('dccnl_ff5_200', idx2_dccnl_ff5_200)\n",
    "print('dccnl_ff1_100', idx2_dccnl_ff1_100)\n",
    "print('dccnl_ff1_200', idx2_dccnl_ff1_200)"
   ]
  },
  {
   "cell_type": "code",
   "execution_count": null,
   "metadata": {},
   "outputs": [],
   "source": []
  }
 ],
 "metadata": {
  "kernelspec": {
   "display_name": "Python 3",
   "language": "python",
   "name": "python3"
  },
  "language_info": {
   "codemirror_mode": {
    "name": "ipython",
    "version": 3
   },
   "file_extension": ".py",
   "mimetype": "text/x-python",
   "name": "python",
   "nbconvert_exporter": "python",
   "pygments_lexer": "ipython3",
   "version": "3.7.6"
  }
 },
 "nbformat": 4,
 "nbformat_minor": 4
}
