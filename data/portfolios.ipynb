{
 "cells": [
  {
   "cell_type": "code",
   "execution_count": null,
   "metadata": {
    "collapsed": true
   },
   "outputs": [],
   "source": [
    "j = 0\n",
    "x = None\n",
    "codes = []\n",
    "return_mat = np.zeros((11602, 1271))\n",
    "j = 0\n",
    "for i in code_shares:\n",
    "    price_matrix= sp_data[i].astype('float')\n",
    "    price_matrix = np.array(price_matrix)\n",
    "    returns = np.log(price_matrix[1:]) - np.log(price_matrix[0:-1])\n",
    "    if np.where(returns<-5)[0].shape[0] == 0:\n",
    "        codes.append(i)\n",
    "        returns[np.isnan(returns)]=-5\n",
    "        return_mat[:, j] = returns\n",
    "        j += 1\n",
    "df_return = pd.DataFrame(data=return_mat, columns=codes)\n",
    "df_return.to_csv('returns127.csv')\n",
    "\n",
    "ffdata = pd.read_csv('./FF_Factors_daily.csv')\n",
    "start_date = 19750102\n",
    "end_date = 20201231\n",
    "mask = (ffdata['date'] >= start_date) & (ffdata['date'] <= end_date)\n",
    "ffdata = ffdata.loc[mask]\n",
    "ffdata.to_csv('ffdata_11062.csv')"
   ]
  },
  {
   "cell_type": "code",
   "execution_count": 1,
   "metadata": {
    "collapsed": true
   },
   "outputs": [],
   "source": [
    "import json\n",
    "import mgarch\n",
    "import os\n",
    "import copy\n",
    "import pandas as pd\n",
    "import numpy as np\n",
    "import matplotlib.pyplot as plt\n",
    "from cvxopt import matrix\n",
    "from cvxopt.blas import dot \n",
    "from cvxopt import solvers\n",
    "solvers.options['show_progress'] = False\n",
    "\n",
    "\n",
    "def load_json(path):\n",
    "    with open(path, 'rb') as f:\n",
    "        json_dict = json.load(f)\n",
    "    return json_dict\n",
    "\n",
    "\n",
    "def find_first_800(sp_data_matrix, num):\n",
    "    posts = []\n",
    "    trading_days = sp_data_matrix.shape[0]\n",
    "    for i in range(trading_days):\n",
    "        num_eff = np.sum(sp_data_matrix[i, 2:]>-5)\n",
    "        if num_eff == num:\n",
    "            posts.append(i)\n",
    "    return posts[0]\n",
    "\n",
    "\n",
    "def get_sub_mat(df_return, st_idx, code_shares, sp_data, sam_size):\n",
    "    indx_length = sam_size\n",
    "    num_lim = indx_length + 21\n",
    "    ed_idx = st_idx + num_lim\n",
    "    code_ls = list(df_return.columns)[1:]\n",
    "    code_used = []\n",
    "    res_mat = []\n",
    "    res_dict = {}\n",
    "    res_pre_dict = {}\n",
    "    market_cap_dict = {}\n",
    "    for code_i in code_ls:\n",
    "        res = df_return[code_i][st_idx:ed_idx]\n",
    "        eff_num = np.sum(res>-5)\n",
    "        if eff_num == num_lim:\n",
    "            cap_i = code_shares[code_i] * sp_data[code_i][st_idx+indx_length]# error: -1\n",
    "            res_ls  = list(res)\n",
    "            res_mat.append(res_ls[0:indx_length])\n",
    "            code_used.append(code_i)\n",
    "            res_dict[code_i] = res_ls[0:indx_length]\n",
    "            res_pre_dict[code_i] = res_ls[indx_length:indx_length+21]\n",
    "            market_cap_dict[code_i] = cap_i\n",
    "    return res_mat, code_used, res_dict, res_pre_dict, market_cap_dict\n",
    "\n",
    "\n",
    "def get_N(res_mat, code_used, res_dict, res_pre_dict, market_cap_dict, N):\n",
    "    pos = np.where(np.corrcoef(np.array(res_mat))>0.95)\n",
    "    if len(pos)>1:\n",
    "        line_num, row_num = pos\n",
    "        line_num = line_num.tolist()\n",
    "        row_num = row_num.tolist()\n",
    "        code_used_ori = copy.deepcopy(code_used)\n",
    "        code_used = set(code_used)\n",
    "        for i in range(len(line_num)):\n",
    "            for j in range(len(row_num)):\n",
    "                if  i > j:\n",
    "                    stock_i = code_used_ori[line_num[i]]\n",
    "                    stock_j = code_used_ori[row_num[j]]\n",
    "                    cap_i = market_cap_dict[stock_i]\n",
    "                    cap_j = market_cap_dict[stock_j]\n",
    "            \n",
    "                    if  cap_i>=cap_j and cap_i in code_used:\n",
    "                        code_used.remove(stock_j)\n",
    "                    elif cap_i<cap_j and cap_i in code_used:\n",
    "                        code_used.remove(stock_i)\n",
    "    \n",
    "    code_cap = {}\n",
    "    for code_i in code_used:\n",
    "        code_cap[code_i] =  market_cap_dict[code_i]\n",
    "        \n",
    "    code_cap_sorted = sorted(code_cap.items(), key=lambda x: x[1], reverse=True)\n",
    "    code_N = [i[0] for i in code_cap_sorted[0:N]]\n",
    "    \n",
    "    res_mat_new = []\n",
    "    res_pre_new = []\n",
    "    for code_i in code_N:\n",
    "        res_mat_new.append(res_dict[code_i])\n",
    "        res_pre_new.append(res_pre_dict[code_i])\n",
    "    return res_mat_new, res_pre_new\n",
    "\n",
    "\n",
    "def get_rolls(code_shares, sp_data, df_return, last_num, N, num, sam_size):\n",
    "    st_id = find_first_800(df_return.to_numpy(), num)\n",
    "    roll_len = sam_size+21\n",
    "    j = 0\n",
    "    all_rolls_res = 1\n",
    "    while st_id+sam_size+21 <= last_num:\n",
    "        res_mat, code_used, res_dict, res_pre_dict, market_cap_dict = get_sub_mat(df_return,\n",
    "                                                st_id, code_shares, sp_data, sam_size)\n",
    "        res_mat_new, res_pre_new = get_N(res_mat, code_used, \n",
    "                               res_dict, res_pre_dict, market_cap_dict, N)\n",
    "        res_mat_new = np.array(res_mat_new).transpose()\n",
    "        res_pre_new = np.array(res_pre_new).transpose()\n",
    "        res_all = np.vstack((res_mat_new, res_pre_new))\n",
    "        st_id += 21\n",
    "        if all_rolls_res is  1:\n",
    "            all_rolls_res = res_all\n",
    "        else:\n",
    "            all_rolls_res = np.vstack((all_rolls_res, res_all))\n",
    "        \n",
    "    return all_rolls_res\n",
    "\n",
    "\n",
    "def get_return(weights, res_pre):\n",
    "    weights = np.matrix(weights)\n",
    "    res_pre = np.matrix(res_pre)\n",
    "    return (weights*res_pre).tolist()[0]\n",
    "    \n",
    "\n",
    "def average_weights(n):\n",
    "    return np.matrix([1/n for i in range(n)])\n",
    "\n",
    "\n",
    "def get_ws_cov(cov, no_short=True):\n",
    "    if no_short:\n",
    "        N = cov.shape[0]\n",
    "        P = matrix(cov)\n",
    "        q = matrix(np.zeros((N, 1)))\n",
    "        G  = matrix(-np.identity(N))\n",
    "        h = matrix(np.zeros((N, 1)))\n",
    "        A = matrix(1.0, (1, N))\n",
    "        b = matrix(1.0)\n",
    "        sol = solvers.qp(P, q, G, h, A, b)\n",
    "        ws = np.matrix(sol['x']).T\n",
    "    else:\n",
    "        cov_mat = np.matrix(cov)\n",
    "        N = cov_mat.shape[0]\n",
    "        I = np.matrix(np.ones(N)).T\n",
    "        ws = (cov_mat.I * I)/(I.T*cov_mat.I*I)\n",
    "        ws = ws.T\n",
    "    return ws  \n",
    "\n",
    "\n",
    "def get_sam_res(code_shares, sp_data, df_return, last_num, N, num, sam_size):\n",
    "    st_id = find_first_800(df_return.to_numpy(), num)\n",
    "    res_ew = []\n",
    "    res_sample_cov = []\n",
    "    while st_id + sam_size+21 <= last_num:\n",
    "        res_mat, code_used, res_dict, res_pre_dict, market_cap_dict = get_sub_mat(df_return,\n",
    "                                                                st_id, code_shares, sp_data, sam_size)\n",
    "        res_mat_new, res_pre_new = get_N(res_mat, code_used, \n",
    "                               res_dict, res_pre_dict, market_cap_dict, N)\n",
    "        st_id += 21\n",
    "        avg_ws = average_weights(N)\n",
    "        avg_res_i = get_return(avg_ws, res_pre_new)\n",
    "        res_ew += avg_res_i\n",
    "        sam_cov = np.cov(np.array(res_mat_new))\n",
    "        samp_ws = get_ws_cov(sam_cov, no_short=False)\n",
    "        sam_res_i = get_return(samp_ws,  res_pre_new)\n",
    "        res_sample_cov += sam_res_i\n",
    "    return res_ew, res_sample_cov\n",
    "\n",
    "\n",
    "def indicators(res):\n",
    "    AV= round(np.mean(res)*252*100, 5)\n",
    "    SD = round(np.cov(res)**0.5*252**0.5*100, 5)\n",
    "    IR = round(AV/SD, 5)\n",
    "    return AV, SD, IR\n",
    "\n",
    "\n",
    "def read_dcc_res(path):\n",
    "    res_dccnl = pd.read_csv(path)\n",
    "    res_dccnl= res_dccnl['x']\n",
    "    res_dccnl = list(res_dccnl)\n",
    "    return res_dccnl\n",
    "\n",
    "def res_line(res):\n",
    "    portfolio_res = [1]\n",
    "    a = 1\n",
    "    for i in res:\n",
    "        a = a*(1+i)\n",
    "        portfolio_res.append(a)\n",
    "    return portfolio_res\n",
    "\n",
    "def get_dcc_res1(root_dir, rolls, N, no_short):\n",
    "    file_ls = os.listdir(root_dir)\n",
    "    length = len(file_ls)\n",
    "    res_dccnl = []\n",
    "    for i in range(length):\n",
    "        file_path = os.path.join(root_dir, '{}.csv'.format(i+1))\n",
    "        cov_mat = pd.read_csv(file_path)\n",
    "        cov_mat = np.matrix(cov_mat.to_numpy())\n",
    "        #st_idx = i*1281\n",
    "        #ed_idx = i*1281+1260\n",
    "        #res_mat = rolls[st_idx:ed_idx, 1:N+1]\n",
    "        #cov_mat =  np.cov(np.array(res_mat).transpose())\n",
    "        ws_i = get_ws_cov(cov_mat, no_short=no_short)\n",
    "        st_idx = (i+1)*1281-21\n",
    "        ed_idx = (i+1)*1281\n",
    "        res_pre_i = rolls[st_idx:ed_idx, 1:N+1]\n",
    "        res_pre_i = np.matrix(res_pre_i).T\n",
    "        res_i = get_return(ws_i, res_pre_i)\n",
    "        res_dccnl += res_i\n",
    "    return res_dccnl\n"
   ]
  },
  {
   "cell_type": "markdown",
   "metadata": {},
   "source": [
    "# 1 load_data and get return rates"
   ]
  },
  {
   "cell_type": "code",
   "execution_count": 2,
   "metadata": {
    "collapsed": true
   },
   "outputs": [],
   "source": [
    "code_shares = load_json('./code_shares.json')\n",
    "sp_data = pd.read_csv('./SP1273_19750103_20201231.csv')\n",
    "df_return = pd.read_csv('./returns1271.csv')"
   ]
  },
  {
   "cell_type": "markdown",
   "metadata": {},
   "source": [
    "# 2 get all rolling res data"
   ]
  },
  {
   "cell_type": "code",
   "execution_count": null,
   "metadata": {
    "collapsed": true
   },
   "outputs": [],
   "source": [
    "all_rolls_res = get_rolls(code_shares, sp_data, df_return, 11602, 500, 800, 630)"
   ]
  },
  {
   "cell_type": "code",
   "execution_count": 315,
   "metadata": {
    "collapsed": true
   },
   "outputs": [],
   "source": [
    "all_rolls_res1 = np.around(all_rolls_res, decimals=6, out=None)\n",
    "col_names = []\n",
    "for i in range(500):\n",
    "    col_names.append('asset{}'.format(i))\n",
    "df_rolls = pd.DataFrame(data=all_rolls_res1, columns=col_names)\n",
    "df_rolls.to_csv('df_rolls_500_630.csv')"
   ]
  },
  {
   "cell_type": "markdown",
   "metadata": {},
   "source": [
    "# 3 get portfolio universe"
   ]
  },
  {
   "cell_type": "code",
   "execution_count": 3,
   "metadata": {
    "collapsed": true
   },
   "outputs": [],
   "source": [
    "rolls = pd.read_csv('./df_rolls.csv')\n",
    "rolls = rolls.to_numpy()"
   ]
  },
  {
   "cell_type": "markdown",
   "metadata": {},
   "source": [
    "# N=100"
   ]
  },
  {
   "cell_type": "code",
   "execution_count": 4,
   "metadata": {
    "collapsed": true
   },
   "outputs": [],
   "source": [
    "avg_res_100, samp_res_100 = get_sam_res(code_shares, sp_data, df_return, 11602, 100, 800, 1260)"
   ]
  },
  {
   "cell_type": "code",
   "execution_count": 5,
   "metadata": {
    "collapsed": true
   },
   "outputs": [],
   "source": [
    "root_dir = './cov_100_dcc/'\n",
    "res_dccnl_100 = get_dcc_res1(root_dir, rolls, 100, no_short=False)"
   ]
  },
  {
   "cell_type": "code",
   "execution_count": 525,
   "metadata": {},
   "outputs": [],
   "source": [
    "root_dir = './cov_100_dcc1/'\n",
    "res_dccnl_1001 = get_dcc_res1(root_dir, rolls, 100, no_short=False)"
   ]
  },
  {
   "cell_type": "code",
   "execution_count": 526,
   "metadata": {},
   "outputs": [
    {
     "name": "stdout",
     "output_type": "stream",
     "text": [
      "(8.55764, 13.65716, 0.6266)\n",
      "(7.42985, 13.78978, 0.53879)\n"
     ]
    }
   ],
   "source": [
    "print(indicators(res_dccnl_1001))\n",
    "print(indicators(res_dccnl_100))"
   ]
  },
  {
   "cell_type": "code",
   "execution_count": 6,
   "metadata": {},
   "outputs": [
    {
     "name": "stdout",
     "output_type": "stream",
     "text": [
      "| 1/N 5.19048 | 20.65605 | 0.25128 |\n",
      "| sample -692.8167 | 3127.03814 | -0.22156 |\n",
      "| DCCNL 7.42985 | 13.78978 | 0.53879 |\n"
     ]
    }
   ],
   "source": [
    "AV_avg, SD_avg, IR_avg = indicators(avg_res_100)\n",
    "AV_sam, SD_sam, IR_sam = indicators(samp_res_100)\n",
    "AV_DCCNL, SD_DCCNL, IR_DCCNL = indicators(res_dccnl_100)\n",
    "print('|','1/N', AV_avg, '|', SD_avg, '|', IR_avg, '|')\n",
    "print('|','sample', AV_sam, '|', SD_sam, '|', IR_sam,'|')\n",
    "print('|', 'DCCNL', AV_DCCNL, '|', SD_DCCNL, '|', IR_DCCNL,'|')"
   ]
  },
  {
   "cell_type": "code",
   "execution_count": 8,
   "metadata": {
    "collapsed": true
   },
   "outputs": [
    {
     "data": {
      "text/plain": [
       "[<matplotlib.lines.Line2D at 0x1228f8f50>]"
      ]
     },
     "execution_count": 8,
     "metadata": {},
     "output_type": "execute_result"
    },
    {
     "data": {
      "image/png": "[encoded data removed]",
      "text/plain": [
       "<Figure size 432x288 with 1 Axes>"
      ]
     },
     "metadata": {
      "needs_background": "light"
     },
     "output_type": "display_data"
    }
   ],
   "source": [
    "plt.plot(avg_res_100, 'r')\n",
    "#plt.plot(samp_res_100, 'g')\n",
    "plt.plot(res_dccnl_100, 'b')"
   ]
  },
  {
   "cell_type": "code",
   "execution_count": 511,
   "metadata": {},
   "outputs": [
    {
     "data": {
      "text/plain": [
       "[<matplotlib.lines.Line2D at 0x133cee710>]"
      ]
     },
     "execution_count": 511,
     "metadata": {},
     "output_type": "execute_result"
    },
    {
     "data": {
      "image/png": "[encoded data removed]",
      "text/plain": [
       "<Figure size 432x288 with 1 Axes>"
      ]
     },
     "metadata": {
      "needs_background": "light"
     },
     "output_type": "display_data"
    }
   ],
   "source": [
    "avg_res_100_line = res_line(avg_res_100)\n",
    "sam_res_100_line = res_line(samp_res_100)\n",
    "res_dccnl_100_line = res_line(res_dccnl_1001)\n",
    "plt.plot(avg_res_100_line, 'r')\n",
    "plt.plot(sam_res_100_line, 'g')\n",
    "plt.plot(res_dccnl_100_line, 'b')"
   ]
  },
  {
   "cell_type": "markdown",
   "metadata": {},
   "source": [
    "# N = 200"
   ]
  },
  {
   "cell_type": "code",
   "execution_count": 12,
   "metadata": {
    "collapsed": true
   },
   "outputs": [],
   "source": [
    "avg_res_200, samp_res_200 = get_sam_res(code_shares, sp_data, df_return, 11602, 200, 800, 1260)"
   ]
  },
  {
   "cell_type": "code",
   "execution_count": 13,
   "metadata": {
    "collapsed": true
   },
   "outputs": [],
   "source": [
    "root_dir = './cov_200_dcc/'\n",
    "res_dccnl_200 = get_dcc_res1(root_dir, rolls, 200, no_short=False)"
   ]
  },
  {
   "cell_type": "code",
   "execution_count": 668,
   "metadata": {},
   "outputs": [],
   "source": [
    "root_dir = './cov_200_dcc1/'\n",
    "res_dccnl_2001 = get_dcc_res1(root_dir, rolls, 200, no_short=False)"
   ]
  },
  {
   "cell_type": "code",
   "execution_count": 669,
   "metadata": {},
   "outputs": [
    {
     "name": "stdout",
     "output_type": "stream",
     "text": [
      "(10.03593, 12.91879, 0.77685)\n",
      "(9.77188, 12.96225, 0.75387)\n"
     ]
    }
   ],
   "source": [
    "print(indicators(res_dccnl_2001))\n",
    "print(indicators(res_dccnl_200[0:len(res_dccnl_2001)]))"
   ]
  },
  {
   "cell_type": "code",
   "execution_count": 533,
   "metadata": {},
   "outputs": [
    {
     "data": {
      "text/plain": [
       "[<matplotlib.lines.Line2D at 0x133ea6410>]"
      ]
     },
     "execution_count": 533,
     "metadata": {},
     "output_type": "execute_result"
    },
    {
     "data": {
      "image/png": "[encoded data removed]",
      "text/plain": [
       "<Figure size 432x288 with 1 Axes>"
      ]
     },
     "metadata": {
      "needs_background": "light"
     },
     "output_type": "display_data"
    }
   ],
   "source": [
    "plt.plot((res_dccnl_2001))\n",
    "plt.plot((res_dccnl_200[0:len(res_dccnl_2001)]))"
   ]
  },
  {
   "cell_type": "code",
   "execution_count": 14,
   "metadata": {},
   "outputs": [
    {
     "name": "stdout",
     "output_type": "stream",
     "text": [
      "| 1/N 5.58737 | 20.94381 | 0.26678 |\n",
      "| sample -550.53041 | 2487.3752 | -0.22133 |\n",
      "| DCCNL 9.77188 | 12.96225 | 0.75387 |\n"
     ]
    }
   ],
   "source": [
    "AV_avg, SD_avg, IR_avg = indicators(avg_res_200)\n",
    "AV_sam, SD_sam, IR_sam = indicators(samp_res_200)\n",
    "AV_DCCNL, SD_DCCNL, IR_DCCNL = indicators(res_dccnl_200)\n",
    "print('|','1/N', AV_avg, '|', SD_avg, '|', IR_avg, '|')\n",
    "print('|','sample', AV_sam, '|', SD_sam, '|', IR_sam,'|')\n",
    "print('|', 'DCCNL', AV_DCCNL, '|', SD_DCCNL, '|', IR_DCCNL,'|')"
   ]
  },
  {
   "cell_type": "code",
   "execution_count": 16,
   "metadata": {
    "collapsed": true
   },
   "outputs": [
    {
     "data": {
      "text/plain": [
       "[<matplotlib.lines.Line2D at 0x12270a1d0>]"
      ]
     },
     "execution_count": 16,
     "metadata": {},
     "output_type": "execute_result"
    },
    {
     "data": {
      "image/png": "[encoded data removed]",
      "text/plain": [
       "<Figure size 432x288 with 1 Axes>"
      ]
     },
     "metadata": {
      "needs_background": "light"
     },
     "output_type": "display_data"
    }
   ],
   "source": [
    "#samp_res_200[2289:2310] = [0 for i in range(21)]\n",
    "plt.plot(avg_res_200, 'r')\n",
    "#plt.plot(samp_res_200, 'g')\n",
    "plt.plot(res_dccnl_200, 'b')"
   ]
  },
  {
   "cell_type": "code",
   "execution_count": 17,
   "metadata": {
    "collapsed": true
   },
   "outputs": [
    {
     "data": {
      "text/plain": [
       "[<matplotlib.lines.Line2D at 0x122927650>]"
      ]
     },
     "execution_count": 17,
     "metadata": {},
     "output_type": "execute_result"
    },
    {
     "data": {
      "image/png": "[encoded data removed]",
      "text/plain": [
       "<Figure size 432x288 with 1 Axes>"
      ]
     },
     "metadata": {
      "needs_background": "light"
     },
     "output_type": "display_data"
    }
   ],
   "source": [
    "avg_res_200_line = res_line(avg_res_200)\n",
    "sam_res_200_line = res_line(samp_res_200)\n",
    "res_dccnl_200_line = res_line(res_dccnl_200)\n",
    "plt.plot(avg_res_200_line, 'r')\n",
    "#plt.plot(sam_res_200_line, 'g')\n",
    "plt.plot(res_dccnl_200_line, 'b')"
   ]
  },
  {
   "cell_type": "code",
   "execution_count": 190,
   "metadata": {
    "collapsed": true
   },
   "outputs": [
    {
     "data": {
      "text/plain": [
       "[<matplotlib.lines.Line2D at 0x13072a2d0>]"
      ]
     },
     "execution_count": 190,
     "metadata": {},
     "output_type": "execute_result"
    },
    {
     "data": {
      "image/png": "[encoded data removed]",
      "text/plain": [
       "<Figure size 432x288 with 1 Axes>"
      ]
     },
     "metadata": {
      "needs_background": "light"
     },
     "output_type": "display_data"
    }
   ],
   "source": [
    "plt.plot(avg_res_200)\n",
    "plt.plot(res_dccnl_200)"
   ]
  },
  {
   "cell_type": "markdown",
   "metadata": {},
   "source": [
    "# N=500"
   ]
  },
  {
   "cell_type": "code",
   "execution_count": 49,
   "metadata": {
    "collapsed": true
   },
   "outputs": [],
   "source": [
    "avg_res_500, samp_res_500 = get_sam_res(code_shares, sp_data, df_return, 11602, 500, 800, 1260)"
   ]
  },
  {
   "cell_type": "code",
   "execution_count": 480,
   "metadata": {},
   "outputs": [],
   "source": [
    "root_dir = './cov_500_dcc/'\n",
    "res_dccnl_500 = get_dcc_res1(root_dir, rolls, 500, no_short=False)"
   ]
  },
  {
   "cell_type": "code",
   "execution_count": 500,
   "metadata": {},
   "outputs": [
    {
     "name": "stdout",
     "output_type": "stream",
     "text": [
      "(6.82722, 21.95549, 0.31096)\n",
      "(-286.08358, 1302.92072, -0.21957)\n",
      "(8.1287, 12.13695, 0.66975)\n"
     ]
    }
   ],
   "source": [
    "print(indicators(avg_res_500))\n",
    "print(indicators(samp_res_500))\n",
    "print(indicators(res_dccnl_500))"
   ]
  },
  {
   "cell_type": "code",
   "execution_count": 501,
   "metadata": {
    "collapsed": true
   },
   "outputs": [
    {
     "data": {
      "text/plain": [
       "[<matplotlib.lines.Line2D at 0x133ae70d0>]"
      ]
     },
     "execution_count": 501,
     "metadata": {},
     "output_type": "execute_result"
    },
    {
     "data": {
      "image/png": "[encoded data removed]",
      "text/plain": [
       "<Figure size 432x288 with 1 Axes>"
      ]
     },
     "metadata": {
      "needs_background": "light"
     },
     "output_type": "display_data"
    }
   ],
   "source": [
    "plt.plot(res_line(avg_res_500))\n",
    "plt.plot(res_line(res_dccnl_500))"
   ]
  },
  {
   "cell_type": "markdown",
   "metadata": {},
   "source": [
    "# 2 static model"
   ]
  },
  {
   "cell_type": "markdown",
   "metadata": {},
   "source": [
    "## 2.1 five factor model"
   ]
  },
  {
   "cell_type": "code",
   "execution_count": 636,
   "metadata": {},
   "outputs": [],
   "source": [
    "resid5 = np.load('./ff_model_data/residual_mat5.npy')\n",
    "param5 = np.load('./ff_model_data/params_mat5.npy')\n",
    "ff5_cov = np.load('./ff_model_data/ff5_vol.npy')"
   ]
  },
  {
   "cell_type": "code",
   "execution_count": 570,
   "metadata": {},
   "outputs": [],
   "source": [
    "N=500\n",
    "for i in range(190):\n",
    "    resid_i = resid5[i*500:i*500+N, :]\n",
    "    cov_i = np.cov(resid_i)\n",
    "    cov_i[np.where(abs(cov_i)<1e-6)]=0.0\n",
    "    param5_i = param5[i*500:i*500+N, :]\n",
    "    ff_vol_i = ff5_cov[i*5:i*5+5, :]\n",
    "    cov_i = np.matrix(cov_i)\n",
    "    param5_i = np.matrix(param5_i)\n",
    "    ff_vol_i = np.matrix(ff_vol_i)\n",
    "    rtn_cov_i =  param5_i * ff_vol_i * param5_i.T + cov_i"
   ]
  },
  {
   "cell_type": "code",
   "execution_count": 651,
   "metadata": {},
   "outputs": [],
   "source": [
    "def get_rtns_static5(rolls, N, no_short, resid5, param5, ff5_cov):\n",
    "    rtns_static = []\n",
    "    for i in range(190):\n",
    "        resid_i = resid5[i*500:i*500+N, :]\n",
    "        cov_i = np.cov(resid_i)\n",
    "        cov_i = np.diag(np.diag(cov_i))\n",
    "        #cov_i[np.where(abs(cov_i)<1e-7)]=0.0\n",
    "        param5_i = param5[i*500:i*500+N, :]\n",
    "        ff_vol_i = ff5_cov[i*5:i*5+5, :]\n",
    "        cov_i = np.matrix(cov_i)\n",
    "        param5_i = np.matrix(param5_i)\n",
    "        ff_vol_i = np.matrix(ff_vol_i)\n",
    "        rtn_cov_i =  param5_i * ff_vol_i * param5_i.T + cov_i\n",
    "        #st_idx = i*1281\n",
    "        #ed_idx = i*1281+1260\n",
    "        #res_mat = rolls[st_idx:ed_idx, 1:N+1]\n",
    "        #cov_mat =  np.cov(np.array(res_mat).transpose())\n",
    "        ws_i = get_ws_cov(rtn_cov_i, no_short=no_short)\n",
    "        st_idx = (i+1)*1281-21\n",
    "        ed_idx = (i+1)*1281\n",
    "        res_pre_i = rolls[st_idx:ed_idx, 1:N+1]\n",
    "        res_pre_i = np.matrix(res_pre_i).T\n",
    "        res_i = get_return(ws_i, res_pre_i)\n",
    "        rtns_static += res_i\n",
    "    return rtns_static"
   ]
  },
  {
   "cell_type": "code",
   "execution_count": 656,
   "metadata": {},
   "outputs": [],
   "source": [
    "N = 100\n",
    "no_short = False\n",
    "rtns_static_100 = get_rtns_static5(rolls, N, no_short, resid5, param5, ff5_cov)"
   ]
  },
  {
   "cell_type": "code",
   "execution_count": 657,
   "metadata": {},
   "outputs": [],
   "source": [
    "N = 200\n",
    "no_short = False\n",
    "rtns_static_200 = get_rtns_static5(rolls, N, no_short, resid5, param5, ff5_cov)"
   ]
  },
  {
   "cell_type": "code",
   "execution_count": 658,
   "metadata": {},
   "outputs": [
    {
     "data": {
      "text/plain": [
       "(11.85977, 16.08308, 0.73741)"
      ]
     },
     "execution_count": 658,
     "metadata": {},
     "output_type": "execute_result"
    }
   ],
   "source": [
    "N = 500\n",
    "no_short = False\n",
    "rtns_static_500 = get_rtns_static5(rolls, N, no_short, resid5, param5, ff5_cov)\n",
    "indicators(rtns_static_500)"
   ]
  },
  {
   "cell_type": "code",
   "execution_count": 659,
   "metadata": {},
   "outputs": [
    {
     "name": "stdout",
     "output_type": "stream",
     "text": [
      "(8.71155, 16.60389, 0.52467)\n",
      "(10.12665, 17.09229, 0.59247)\n",
      "(11.85977, 16.08308, 0.73741)\n"
     ]
    }
   ],
   "source": [
    "print(indicators(rtns_static_100))\n",
    "print(indicators(rtns_static_200))\n",
    "print(indicators(rtns_static_500))"
   ]
  },
  {
   "cell_type": "markdown",
   "metadata": {},
   "source": [
    "## 2.2 one-factor model"
   ]
  },
  {
   "cell_type": "code",
   "execution_count": 660,
   "metadata": {},
   "outputs": [],
   "source": [
    "resid1 = np.load('./ff_model_data/residual_mat1.npy')\n",
    "param1 = np.load('./ff_model_data/params_mat1.npy')\n",
    "ff1_cov1 = np.load('./ff_model_data/ff1_vol.npy')"
   ]
  },
  {
   "cell_type": "code",
   "execution_count": 663,
   "metadata": {},
   "outputs": [],
   "source": [
    "def get_rtns_static1(rolls, N, no_short, resid1, param1, ff1_cov):\n",
    "    rtns_static = []\n",
    "    for i in range(190):\n",
    "        resid_i = resid1[i*500:i*500+N, :]\n",
    "        cov_i = np.cov(resid_i)\n",
    "        cov_i = np.diag(np.diag(cov_i))\n",
    "        #cov_i[np.where(abs(cov_i)<1e-7)]=0.0\n",
    "        param1_i = param1[i*500:i*500+N, :]\n",
    "        ff_vol_i = ff1_cov[i, :]\n",
    "        cov_i = np.matrix(cov_i)\n",
    "        param5_i = np.matrix(param1_i)\n",
    "        ff_vol_i = np.matrix(ff_vol_i)\n",
    "        rtn_cov_i =  param5_i * ff_vol_i * param5_i.T + cov_i\n",
    "        #st_idx = i*1281\n",
    "        #ed_idx = i*1281+1260\n",
    "        #res_mat = rolls[st_idx:ed_idx, 1:N+1]\n",
    "        #cov_mat =  np.cov(np.array(res_mat).transpose())\n",
    "        ws_i = get_ws_cov(rtn_cov_i, no_short=no_short)\n",
    "        st_idx = (i+1)*1281-21\n",
    "        ed_idx = (i+1)*1281\n",
    "        res_pre_i = rolls[st_idx:ed_idx, 1:N+1]\n",
    "        res_pre_i = np.matrix(res_pre_i).T\n",
    "        res_i = get_return(ws_i, res_pre_i)\n",
    "        rtns_static += res_i\n",
    "    return rtns_static"
   ]
  },
  {
   "cell_type": "code",
   "execution_count": 664,
   "metadata": {},
   "outputs": [
    {
     "data": {
      "text/plain": [
       "(6.61992, 16.61774, 0.39836)"
      ]
     },
     "execution_count": 664,
     "metadata": {},
     "output_type": "execute_result"
    }
   ],
   "source": [
    "N = 100\n",
    "no_short = False\n",
    "rtns_static1_100 = get_rtns_static1(rolls, N, no_short, resid1, param1, ff1_cov)\n",
    "indicators(rtns_static1_100)"
   ]
  },
  {
   "cell_type": "code",
   "execution_count": 665,
   "metadata": {},
   "outputs": [
    {
     "data": {
      "text/plain": [
       "(8.08311, 16.56508, 0.48796)"
      ]
     },
     "execution_count": 665,
     "metadata": {},
     "output_type": "execute_result"
    }
   ],
   "source": [
    "N = 200\n",
    "no_short = False\n",
    "rtns_static1_200 = get_rtns_static1(rolls, N, no_short, resid1, param1, ff1_cov)\n",
    "indicators(rtns_static1_200)"
   ]
  },
  {
   "cell_type": "code",
   "execution_count": 666,
   "metadata": {},
   "outputs": [
    {
     "data": {
      "text/plain": [
       "(9.495, 15.83557, 0.5996)"
      ]
     },
     "execution_count": 666,
     "metadata": {},
     "output_type": "execute_result"
    }
   ],
   "source": [
    "N = 500\n",
    "no_short = False\n",
    "rtns_static1_500 = get_rtns_static1(rolls, N, no_short, resid1, param1, ff1_cov)\n",
    "indicators(rtns_static1_500)"
   ]
  },
  {
   "cell_type": "code",
   "execution_count": 667,
   "metadata": {},
   "outputs": [
    {
     "name": "stdout",
     "output_type": "stream",
     "text": [
      "(6.61992, 16.61774, 0.39836)\n",
      "(8.08311, 16.56508, 0.48796)\n",
      "(9.495, 15.83557, 0.5996)\n"
     ]
    }
   ],
   "source": [
    "print(indicators(rtns_static1_100))\n",
    "print(indicators(rtns_static1_200))\n",
    "print(indicators(rtns_static1_500))"
   ]
  },
  {
   "cell_type": "markdown",
   "metadata": {},
   "source": [
    "# 3 DCC-NL approxiamate model"
   ]
  },
  {
   "cell_type": "markdown",
   "metadata": {},
   "source": [
    "## 3.1 five factor model"
   ]
  },
  {
   "cell_type": "code",
   "execution_count": null,
   "metadata": {},
   "outputs": [],
   "source": []
  }
 ],
 "metadata": {
  "kernelspec": {
   "display_name": "Python 3",
   "language": "python",
   "name": "python3"
  },
  "language_info": {
   "codemirror_mode": {
    "name": "ipython",
    "version": 3
   },
   "file_extension": ".py",
   "mimetype": "text/x-python",
   "name": "python",
   "nbconvert_exporter": "python",
   "pygments_lexer": "ipython3",
   "version": "3.7.6"
  }
 },
 "nbformat": 4,
 "nbformat_minor": 4
}
