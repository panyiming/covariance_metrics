{
 "cells": [
  {
   "cell_type": "code",
   "execution_count": null,
   "metadata": {
    "collapsed": true
   },
   "outputs": [],
   "source": [
    "j = 0\n",
    "x = None\n",
    "codes = []\n",
    "return_mat = np.zeros((11602, 1271))\n",
    "j = 0\n",
    "for i in code_shares:\n",
    "    price_matrix= sp_data[i].astype('float')\n",
    "    price_matrix = np.array(price_matrix)\n",
    "    returns = np.log(price_matrix[1:]) - np.log(price_matrix[0:-1])\n",
    "    if np.where(returns<-5)[0].shape[0] == 0:\n",
    "        codes.append(i)\n",
    "        returns[np.isnan(returns)]=-5\n",
    "        return_mat[:, j] = returns\n",
    "        j += 1\n",
    "df_return = pd.DataFrame(data=return_mat, columns=codes)\n",
    "df_return.to_csv('returns127.csv')\n",
    "\n",
    "ffdata = pd.read_csv('./FF_Factors_daily.csv')\n",
    "start_date = 19750102\n",
    "end_date = 20201231\n",
    "mask = (ffdata['date'] >= start_date) & (ffdata['date'] <= end_date)\n",
    "ffdata = ffdata.loc[mask]\n",
    "ffdata.to_csv('ffdata_11062.csv')"
   ]
  },
  {
   "cell_type": "code",
   "execution_count": 10,
   "metadata": {},
   "outputs": [],
   "source": [
    "import json\n",
    "import mgarch\n",
    "import os\n",
    "import copy\n",
    "import pandas as pd\n",
    "import numpy as np\n",
    "import matplotlib.pyplot as plt\n",
    "from cvxopt import matrix\n",
    "from cvxopt.blas import dot \n",
    "from cvxopt import solvers\n",
    "solvers.options['show_progress'] = False\n",
    "\n",
    "\n",
    "def load_json(path):\n",
    "    with open(path, 'rb') as f:\n",
    "        json_dict = json.load(f)\n",
    "    return json_dict\n",
    "\n",
    "\n",
    "def find_first_800(sp_data_matrix, num):\n",
    "    posts = []\n",
    "    trading_days = sp_data_matrix.shape[0]\n",
    "    for i in range(trading_days):\n",
    "        num_eff = np.sum(sp_data_matrix[i, 2:]>-5)\n",
    "        if num_eff == num:\n",
    "            posts.append(i)\n",
    "    return posts[0]\n",
    "\n",
    "\n",
    "def get_sub_mat(df_return, st_idx, code_shares, sp_data, sam_size):\n",
    "    indx_length = sam_size\n",
    "    num_lim = indx_length + 21\n",
    "    ed_idx = st_idx + num_lim\n",
    "    code_ls = list(df_return.columns)[1:]\n",
    "    code_used = []\n",
    "    res_mat = []\n",
    "    res_dict = {}\n",
    "    res_pre_dict = {}\n",
    "    market_cap_dict = {}\n",
    "    for code_i in code_ls:\n",
    "        res = df_return[code_i][st_idx:ed_idx]\n",
    "        eff_num = np.sum(res>-5)\n",
    "        if eff_num == num_lim:\n",
    "            cap_i = code_shares[code_i] * sp_data[code_i][st_idx+indx_length]# error: -1\n",
    "            res_ls  = list(res)\n",
    "            res_mat.append(res_ls[0:indx_length])\n",
    "            code_used.append(code_i)\n",
    "            res_dict[code_i] = res_ls[0:indx_length]\n",
    "            res_pre_dict[code_i] = res_ls[indx_length:indx_length+21]\n",
    "            market_cap_dict[code_i] = cap_i\n",
    "    return res_mat, code_used, res_dict, res_pre_dict, market_cap_dict\n",
    "\n",
    "\n",
    "def get_N(res_mat, code_used, res_dict, res_pre_dict, market_cap_dict, N):\n",
    "    pos = np.where(np.corrcoef(np.array(res_mat))>0.95)\n",
    "    if len(pos)>1:\n",
    "        line_num, row_num = pos\n",
    "        line_num = line_num.tolist()\n",
    "        row_num = row_num.tolist()\n",
    "        code_used_ori = copy.deepcopy(code_used)\n",
    "        code_used = set(code_used)\n",
    "        for i in range(len(line_num)):\n",
    "            for j in range(len(row_num)):\n",
    "                if  i > j:\n",
    "                    stock_i = code_used_ori[line_num[i]]\n",
    "                    stock_j = code_used_ori[row_num[j]]\n",
    "                    cap_i = market_cap_dict[stock_i]\n",
    "                    cap_j = market_cap_dict[stock_j]\n",
    "            \n",
    "                    if  cap_i>=cap_j and cap_i in code_used:\n",
    "                        code_used.remove(stock_j)\n",
    "                    elif cap_i<cap_j and cap_i in code_used:\n",
    "                        code_used.remove(stock_i)\n",
    "    \n",
    "    code_cap = {}\n",
    "    for code_i in code_used:\n",
    "        code_cap[code_i] =  market_cap_dict[code_i]\n",
    "        \n",
    "    code_cap_sorted = sorted(code_cap.items(), key=lambda x: x[1], reverse=True)\n",
    "    code_N = [i[0] for i in code_cap_sorted[0:N]]\n",
    "    \n",
    "    res_mat_new = []\n",
    "    res_pre_new = []\n",
    "    for code_i in code_N:\n",
    "        res_mat_new.append(res_dict[code_i])\n",
    "        res_pre_new.append(res_pre_dict[code_i])\n",
    "    return res_mat_new, res_pre_new\n",
    "\n",
    "\n",
    "def get_rolls(code_shares, sp_data, df_return, last_num, N, num, sam_size):\n",
    "    st_id = find_first_800(df_return.to_numpy(), num)\n",
    "    roll_len = sam_size+21\n",
    "    j = 0\n",
    "    all_rolls_res = 1\n",
    "    while st_id+sam_size+21 <= last_num:\n",
    "        res_mat, code_used, res_dict, res_pre_dict, market_cap_dict = get_sub_mat(df_return,\n",
    "                                                st_id, code_shares, sp_data, sam_size)\n",
    "        res_mat_new, res_pre_new = get_N(res_mat, code_used, \n",
    "                               res_dict, res_pre_dict, market_cap_dict, N)\n",
    "        res_mat_new = np.array(res_mat_new).transpose()\n",
    "        res_pre_new = np.array(res_pre_new).transpose()\n",
    "        res_all = np.vstack((res_mat_new, res_pre_new))\n",
    "        st_id += 21\n",
    "        if all_rolls_res is  1:\n",
    "            all_rolls_res = res_all\n",
    "        else:\n",
    "            all_rolls_res = np.vstack((all_rolls_res, res_all))\n",
    "        \n",
    "    return all_rolls_res\n",
    "\n",
    "\n",
    "def get_return(weights, res_pre):\n",
    "    weights = np.matrix(weights)\n",
    "    res_pre = np.matrix(res_pre)\n",
    "    return (weights*res_pre).tolist()[0]\n",
    "    \n",
    "\n",
    "def average_weights(n):\n",
    "    return np.matrix([1/n for i in range(n)])\n",
    "\n",
    "\n",
    "def get_ws_cov(cov, no_short=True):\n",
    "    if no_short:\n",
    "        N = cov.shape[0]\n",
    "        P = matrix(cov)\n",
    "        q = matrix(np.zeros((N, 1)))\n",
    "        G  = matrix(-np.identity(N))\n",
    "        h = matrix(np.zeros((N, 1)))\n",
    "        A = matrix(1.0, (1, N))\n",
    "        b = matrix(1.0)\n",
    "        sol = solvers.qp(P, q, G, h, A, b)\n",
    "        ws = np.matrix(sol['x']).T\n",
    "    else:\n",
    "        cov_mat = np.matrix(cov)\n",
    "        N = cov_mat.shape[0]\n",
    "        I = np.matrix(np.ones(N)).T\n",
    "        ws = (cov_mat.I * I)/(I.T*cov_mat.I*I)\n",
    "        ws = ws.T\n",
    "    return ws  \n",
    "\n",
    "\n",
    "def get_sam_res(code_shares, sp_data, df_return, last_num, N, num, sam_size):\n",
    "    st_id = find_first_800(df_return.to_numpy(), num)\n",
    "    res_ew = []\n",
    "    res_sample_cov = []\n",
    "    while st_id + sam_size+21 <= last_num:\n",
    "        res_mat, code_used, res_dict, res_pre_dict, market_cap_dict = get_sub_mat(df_return,\n",
    "                                                                st_id, code_shares, sp_data, sam_size)\n",
    "        res_mat_new, res_pre_new = get_N(res_mat, code_used, \n",
    "                               res_dict, res_pre_dict, market_cap_dict, N)\n",
    "        st_id += 21\n",
    "        avg_ws = average_weights(N)\n",
    "        avg_res_i = get_return(avg_ws, res_pre_new)\n",
    "        res_ew += avg_res_i\n",
    "        sam_cov = np.cov(np.array(res_mat_new))\n",
    "        samp_ws = get_ws_cov(sam_cov, no_short=False)\n",
    "        sam_res_i = get_return(samp_ws,  res_pre_new)\n",
    "        res_sample_cov += sam_res_i\n",
    "    return res_ew, res_sample_cov\n",
    "\n",
    "\n",
    "def indicators(res):\n",
    "    AV= round(np.mean(res)*252*100, 5)\n",
    "    SD = round(np.cov(res)**0.5*252**0.5*100, 5)\n",
    "    IR = round(AV/SD, 5)\n",
    "    return AV, SD, IR\n",
    "\n",
    "\n",
    "def read_dcc_res(path):\n",
    "    res_dccnl = pd.read_csv(path)\n",
    "    res_dccnl= res_dccnl['x']\n",
    "    res_dccnl = list(res_dccnl)\n",
    "    return res_dccnl\n",
    "\n",
    "def res_line(res):\n",
    "    portfolio_res = [1]\n",
    "    a = 1\n",
    "    for i in res:\n",
    "        a = a*(1+i)\n",
    "        portfolio_res.append(a)\n",
    "    return portfolio_res\n",
    "\n",
    "def get_dcc_res1(root_dir, rolls, N, no_short):\n",
    "    file_ls = os.listdir(root_dir)\n",
    "    length = len(file_ls)\n",
    "    res_dccnl = []\n",
    "    for i in range(length):\n",
    "        file_path = os.path.join(root_dir, '{}.csv'.format(i+1))\n",
    "        cov_mat = pd.read_csv(file_path)\n",
    "        cov_mat = np.matrix(cov_mat.to_numpy())\n",
    "        #st_idx = i*1281\n",
    "        #ed_idx = i*1281+1260\n",
    "        #res_mat = rolls[st_idx:ed_idx, 1:N+1]\n",
    "        #cov_mat =  np.cov(np.array(res_mat).transpose())\n",
    "        ws_i = get_ws_cov(cov_mat, no_short=no_short)\n",
    "        st_idx = (i+1)*1281-21\n",
    "        ed_idx = (i+1)*1281\n",
    "        res_pre_i = rolls[st_idx:ed_idx, 1:N+1]\n",
    "        res_pre_i = np.matrix(res_pre_i).T\n",
    "        res_i = get_return(ws_i, res_pre_i)\n",
    "        res_dccnl += res_i\n",
    "    return res_dccnl"
   ]
  },
  {
   "cell_type": "markdown",
   "metadata": {},
   "source": [
    "# 1 load_data and get return rates"
   ]
  },
  {
   "cell_type": "code",
   "execution_count": 3,
   "metadata": {},
   "outputs": [],
   "source": [
    "code_shares = load_json('./code_shares.json')\n",
    "sp_data = pd.read_csv('./SP1273_19750103_20201231.csv')\n",
    "df_return = pd.read_csv('./returns1271.csv')"
   ]
  },
  {
   "cell_type": "markdown",
   "metadata": {},
   "source": [
    "# 2 get all rolling res data"
   ]
  },
  {
   "cell_type": "code",
   "execution_count": null,
   "metadata": {
    "collapsed": true
   },
   "outputs": [],
   "source": [
    "all_rolls_res = get_rolls(code_shares, sp_data, df_return, 11602, 500, 800, 630)"
   ]
  },
  {
   "cell_type": "code",
   "execution_count": 315,
   "metadata": {
    "collapsed": true
   },
   "outputs": [],
   "source": [
    "all_rolls_res1 = np.around(all_rolls_res, decimals=6, out=None)\n",
    "col_names = []\n",
    "for i in range(500):\n",
    "    col_names.append('asset{}'.format(i))\n",
    "df_rolls = pd.DataFrame(data=all_rolls_res1, columns=col_names)\n",
    "df_rolls.to_csv('df_rolls_500_630.csv')"
   ]
  },
  {
   "cell_type": "markdown",
   "metadata": {},
   "source": [
    "# 3 get portfolio universe"
   ]
  },
  {
   "cell_type": "code",
   "execution_count": 4,
   "metadata": {},
   "outputs": [],
   "source": [
    "rolls = pd.read_csv('./df_rolls.csv')\n",
    "rolls = rolls.to_numpy()"
   ]
  },
  {
   "cell_type": "markdown",
   "metadata": {},
   "source": [
    "# N=100"
   ]
  },
  {
   "cell_type": "code",
   "execution_count": 148,
   "metadata": {},
   "outputs": [],
   "source": [
    "avg_res_100, samp_res_100 = get_sam_res(code_shares, sp_data, df_return, 11602, 100, 800, 1260)"
   ]
  },
  {
   "cell_type": "code",
   "execution_count": 149,
   "metadata": {},
   "outputs": [],
   "source": [
    "root_dir = './cov_100_dcc/'\n",
    "res_dccnl_100 = get_dcc_res1(root_dir, rolls, 100, no_short=False)"
   ]
  },
  {
   "cell_type": "code",
   "execution_count": 150,
   "metadata": {},
   "outputs": [
    {
     "name": "stdout",
     "output_type": "stream",
     "text": [
      "| 1/N 5.19048 | 20.65605 | 0.25128 |\n",
      "| sample -692.8167 | 3127.03814 | -0.22156 |\n",
      "| DCCNL 7.42985 | 13.78978 | 0.53879 |\n"
     ]
    }
   ],
   "source": [
    "AV_avg, SD_avg, IR_avg = indicators(avg_res_100)\n",
    "AV_sam, SD_sam, IR_sam = indicators(samp_res_100)\n",
    "AV_DCCNL, SD_DCCNL, IR_DCCNL = indicators(res_dccnl_100)\n",
    "print('|','1/N', AV_avg, '|', SD_avg, '|', IR_avg, '|')\n",
    "print('|','sample', AV_sam, '|', SD_sam, '|', IR_sam,'|')\n",
    "print('|', 'DCCNL', AV_DCCNL, '|', SD_DCCNL, '|', IR_DCCNL,'|')"
   ]
  },
  {
   "cell_type": "markdown",
   "metadata": {},
   "source": [
    "# N = 200"
   ]
  },
  {
   "cell_type": "code",
   "execution_count": 153,
   "metadata": {},
   "outputs": [],
   "source": [
    "avg_res_200, samp_res_200 = get_sam_res(code_shares, sp_data, df_return, 11602, 200, 800, 1260)"
   ]
  },
  {
   "cell_type": "code",
   "execution_count": 154,
   "metadata": {},
   "outputs": [],
   "source": [
    "root_dir = './cov_200_dcc/'\n",
    "res_dccnl_200 = get_dcc_res1(root_dir, rolls, 200, no_short=False)"
   ]
  },
  {
   "cell_type": "code",
   "execution_count": 155,
   "metadata": {},
   "outputs": [
    {
     "name": "stdout",
     "output_type": "stream",
     "text": [
      "| 1/N 5.58737 | 20.94381 | 0.26678 |\n",
      "| sample -550.53041 | 2487.3752 | -0.22133 |\n",
      "| DCCNL 9.77188 | 12.96225 | 0.75387 |\n"
     ]
    }
   ],
   "source": [
    "AV_avg, SD_avg, IR_avg = indicators(avg_res_200)\n",
    "AV_sam, SD_sam, IR_sam = indicators(samp_res_200)\n",
    "AV_DCCNL, SD_DCCNL, IR_DCCNL = indicators(res_dccnl_200)\n",
    "print('|','1/N', AV_avg, '|', SD_avg, '|', IR_avg, '|')\n",
    "print('|','sample', AV_sam, '|', SD_sam, '|', IR_sam,'|')\n",
    "print('|', 'DCCNL', AV_DCCNL, '|', SD_DCCNL, '|', IR_DCCNL,'|')"
   ]
  },
  {
   "cell_type": "markdown",
   "metadata": {},
   "source": [
    "# N=500"
   ]
  },
  {
   "cell_type": "code",
   "execution_count": 157,
   "metadata": {},
   "outputs": [],
   "source": [
    "avg_res_500, samp_res_500 = get_sam_res(code_shares, sp_data, df_return, 11602, 500, 800, 1260)"
   ]
  },
  {
   "cell_type": "code",
   "execution_count": 158,
   "metadata": {},
   "outputs": [],
   "source": [
    "root_dir = './cov_500_dcc/'\n",
    "res_dccnl_500 = get_dcc_res1(root_dir, rolls, 500, no_short=False)"
   ]
  },
  {
   "cell_type": "code",
   "execution_count": 159,
   "metadata": {},
   "outputs": [
    {
     "name": "stdout",
     "output_type": "stream",
     "text": [
      "(6.82722, 21.95549, 0.31096)\n",
      "(-286.08358, 1302.92072, -0.21957)\n",
      "(8.1287, 12.13695, 0.66975)\n"
     ]
    }
   ],
   "source": [
    "print(indicators(avg_res_500))\n",
    "print(indicators(samp_res_500))\n",
    "print(indicators(res_dccnl_500))"
   ]
  },
  {
   "cell_type": "markdown",
   "metadata": {},
   "source": [
    "# 2 static model"
   ]
  },
  {
   "cell_type": "markdown",
   "metadata": {},
   "source": [
    "## 2.1 five factor model"
   ]
  },
  {
   "cell_type": "code",
   "execution_count": 101,
   "metadata": {},
   "outputs": [],
   "source": [
    "def get_rtns_static5(rolls, N, no_short, resid5, param5, ff5_cov):\n",
    "    rtns_static = []\n",
    "    for i in range(190):\n",
    "        resid_i = resid5[i*500:i*500+N, :]\n",
    "        cov_i = np.cov(resid_i)\n",
    "        cov_i = np.diag(np.diag(cov_i))\n",
    "        #cov_i[np.where(abs(cov_i)<1e-7)]=0.0\n",
    "        param5_i = param5[i*500:i*500+N, :]\n",
    "        ff_vol_i = ff5_cov[i*5:i*5+5, :]\n",
    "        cov_i = np.matrix(cov_i)\n",
    "        param5_i = np.matrix(param5_i)\n",
    "        ff_vol_i = np.matrix(ff_vol_i)\n",
    "        rtn_cov_i =  param5_i * ff_vol_i * param5_i.T + cov_i\n",
    "        #st_idx = i*1281\n",
    "        #ed_idx = i*1281+1260\n",
    "        #res_mat = rolls[st_idx:ed_idx, 1:N+1]\n",
    "        #cov_mat =  np.cov(np.array(res_mat).transpose())\n",
    "        ws_i = get_ws_cov(rtn_cov_i, no_short=no_short)\n",
    "        st_idx = (i+1)*1281-21\n",
    "        ed_idx = (i+1)*1281\n",
    "        res_pre_i = rolls[st_idx:ed_idx, 1:N+1]\n",
    "        res_pre_i = np.matrix(res_pre_i).T\n",
    "        res_i = get_return(ws_i, res_pre_i)\n",
    "        rtns_static += res_i\n",
    "    return rtns_static"
   ]
  },
  {
   "cell_type": "code",
   "execution_count": 106,
   "metadata": {},
   "outputs": [],
   "source": [
    "resid51 = np.load('./ff_model_data_1260/residual_mat5.npy')\n",
    "param51 = np.load('./ff_model_data_1260/params_mat5.npy')\n",
    "ff1_cov51 = np.load('./ff_model_data_1260/ff5_vol.npy')"
   ]
  },
  {
   "cell_type": "code",
   "execution_count": 170,
   "metadata": {},
   "outputs": [
    {
     "data": {
      "text/plain": [
       "(10.13412, 15.08486, 0.67181)"
      ]
     },
     "execution_count": 170,
     "metadata": {},
     "output_type": "execute_result"
    }
   ],
   "source": [
    "N = 100\n",
    "no_short = False\n",
    "rtns_static_100 = get_rtns_static5(rolls, N, no_short, resid51, param51, ff1_cov51)\n",
    "indicators(rtns_static_100)"
   ]
  },
  {
   "cell_type": "code",
   "execution_count": 169,
   "metadata": {},
   "outputs": [
    {
     "data": {
      "text/plain": [
       "(11.19787, 15.11662, 0.74077)"
      ]
     },
     "execution_count": 169,
     "metadata": {},
     "output_type": "execute_result"
    }
   ],
   "source": [
    "N = 200\n",
    "no_short = False\n",
    "rtns_static_200 = get_rtns_static5(rolls, N, no_short, resid51, param51, ff1_cov51)\n",
    "indicators(rtns_static_200)"
   ]
  },
  {
   "cell_type": "code",
   "execution_count": 131,
   "metadata": {},
   "outputs": [
    {
     "data": {
      "text/plain": [
       "(11.22358, 14.47839, 0.7752)"
      ]
     },
     "execution_count": 131,
     "metadata": {},
     "output_type": "execute_result"
    }
   ],
   "source": [
    "N = 500\n",
    "no_short = False\n",
    "rtns_static_500 = get_rtns_static5(rolls, N, no_short, resid51, param51, ff1_cov51)\n",
    "indicators(rtns_static_500)"
   ]
  },
  {
   "cell_type": "markdown",
   "metadata": {},
   "source": [
    "## 2.2 one-factor model"
   ]
  },
  {
   "cell_type": "code",
   "execution_count": 143,
   "metadata": {},
   "outputs": [],
   "source": [
    "def get_rtns_static1(rolls, N, no_short, resid1, param1, ff1_cov):\n",
    "    rtns_static = []\n",
    "    for i in range(190):\n",
    "        resid_i = resid1[i*500:i*500+N, :]\n",
    "        cov_i = np.cov(resid_i)\n",
    "        cov_i = np.diag(np.diag(cov_i))\n",
    "        #cov_i[np.where(abs(cov_i)<1e-7)]=0.0\n",
    "        param1_i = param1[i*500:i*500+N, :]\n",
    "        ff_vol_i = ff1_cov[i, :]\n",
    "        cov_i = np.matrix(cov_i)\n",
    "        param1_i = np.matrix(param1_i)\n",
    "        ff_vol_i = np.matrix(ff_vol_i)\n",
    "        rtn_cov_i =  param1_i * ff_vol_i * param1_i.T + cov_i\n",
    "        #st_idx = i*1281\n",
    "        #ed_idx = i*1281+1260\n",
    "        #res_mat = rolls[st_idx:ed_idx, 1:N+1]\n",
    "        #cov_mat =  np.cov(np.array(res_mat).transpose())\n",
    "        ws_i = get_ws_cov(rtn_cov_i, no_short=no_short)\n",
    "        st_idx = (i+1)*1281-21\n",
    "        ed_idx = (i+1)*1281\n",
    "        res_pre_i = rolls[st_idx:ed_idx, 1:N+1]\n",
    "        res_pre_i = np.matrix(res_pre_i).T\n",
    "        res_i = get_return(ws_i, res_pre_i)\n",
    "        rtns_static += res_i\n",
    "    return rtns_static"
   ]
  },
  {
   "cell_type": "code",
   "execution_count": 160,
   "metadata": {},
   "outputs": [],
   "source": [
    "resid1 = np.load('./ff_model_data/residual_mat1.npy')\n",
    "param1 = np.load('./ff_model_data/params_mat1.npy')\n",
    "ff1_cov1 = np.load('./ff_model_data/ff1_vol.npy')"
   ]
  },
  {
   "cell_type": "code",
   "execution_count": 161,
   "metadata": {},
   "outputs": [
    {
     "data": {
      "text/plain": [
       "(6.61992, 16.61774, 0.39836)"
      ]
     },
     "execution_count": 161,
     "metadata": {},
     "output_type": "execute_result"
    }
   ],
   "source": [
    "N = 100\n",
    "no_short = False\n",
    "rtns_static1_100 = get_rtns_static1(rolls, N, no_short, resid1, param1, ff1_cov1)\n",
    "indicators(rtns_static1_100)"
   ]
  },
  {
   "cell_type": "code",
   "execution_count": 141,
   "metadata": {},
   "outputs": [
    {
     "data": {
      "text/plain": [
       "(8.08311, 16.56508, 0.48796)"
      ]
     },
     "execution_count": 141,
     "metadata": {},
     "output_type": "execute_result"
    }
   ],
   "source": [
    "N = 200\n",
    "no_short = False\n",
    "rtns_static1_200 = get_rtns_static1(rolls, N, no_short, resid1, param1, ff1_cov1)\n",
    "indicators(rtns_static1_200)"
   ]
  },
  {
   "cell_type": "code",
   "execution_count": 142,
   "metadata": {},
   "outputs": [
    {
     "data": {
      "text/plain": [
       "(9.495, 15.83557, 0.5996)"
      ]
     },
     "execution_count": 142,
     "metadata": {},
     "output_type": "execute_result"
    }
   ],
   "source": [
    "N = 500\n",
    "no_short = False\n",
    "rtns_static1_500 = get_rtns_static1(rolls, N, no_short, resid1, param1, ff1_cov1)\n",
    "indicators(rtns_static1_500)"
   ]
  },
  {
   "cell_type": "code",
   "execution_count": 162,
   "metadata": {},
   "outputs": [],
   "source": [
    "resid11 = np.load('./ff_model_data_1260/residual_mat1.npy')\n",
    "param11 = np.load('./ff_model_data_1260/params_mat1.npy')\n",
    "ff1_cov11 = np.load('./ff_model_data_1260/ff1_vol.npy')"
   ]
  },
  {
   "cell_type": "code",
   "execution_count": 163,
   "metadata": {},
   "outputs": [
    {
     "data": {
      "text/plain": [
       "(10.02253, 16.0114, 0.62596)"
      ]
     },
     "execution_count": 163,
     "metadata": {},
     "output_type": "execute_result"
    }
   ],
   "source": [
    "N = 100\n",
    "no_short = False\n",
    "rtns_static1_1260_100 = get_rtns_static1(rolls, N, no_short, resid11, param11, ff1_cov11)\n",
    "indicators(rtns_static1_1260_100)"
   ]
  },
  {
   "cell_type": "code",
   "execution_count": 164,
   "metadata": {},
   "outputs": [
    {
     "data": {
      "text/plain": [
       "(11.2105, 16.31887, 0.68697)"
      ]
     },
     "execution_count": 164,
     "metadata": {},
     "output_type": "execute_result"
    }
   ],
   "source": [
    "N = 200\n",
    "no_short = False\n",
    "rtns_static1_1260_200 = get_rtns_static1(rolls, N, no_short, resid11, param11, ff1_cov11)\n",
    "indicators(rtns_static1_1260_200)"
   ]
  },
  {
   "cell_type": "code",
   "execution_count": 165,
   "metadata": {},
   "outputs": [
    {
     "data": {
      "text/plain": [
       "(11.07083, 16.18345, 0.68408)"
      ]
     },
     "execution_count": 165,
     "metadata": {},
     "output_type": "execute_result"
    }
   ],
   "source": [
    "N = 500\n",
    "no_short = False\n",
    "rtns_static1_1260_500 = get_rtns_static1(rolls, N, no_short, resid11, param11, ff1_cov11)\n",
    "indicators(rtns_static1_1260_500)"
   ]
  },
  {
   "cell_type": "markdown",
   "metadata": {},
   "source": [
    "# 3 DCC-NL approxiamate model"
   ]
  },
  {
   "cell_type": "markdown",
   "metadata": {},
   "source": [
    "## 3.1 five factor model"
   ]
  },
  {
   "cell_type": "code",
   "execution_count": 39,
   "metadata": {},
   "outputs": [],
   "source": [
    "def get_dcc_ff5_res(root_dir, rolls, N, param5, ff5_cov, no_short):\n",
    "    file_ls = os.listdir(root_dir)\n",
    "    length = len(file_ls)\n",
    "    res_dccnl = []\n",
    "    for i in range(length):\n",
    "        file_path = os.path.join(root_dir, '{}.csv'.format(i+1))\n",
    "        resid_cov = pd.read_csv(file_path)\n",
    "        resid_cov = np.matrix(resid_cov.to_numpy())\n",
    "        param5_i = param5[i*500:i*500+N, :]\n",
    "        ff_vol_i = ff5_cov[i*5:i*5+5, :]\n",
    "        param5_i = np.matrix(param5_i)\n",
    "        ff_vol_i = np.matrix(ff_vol_i)\n",
    "        \n",
    "        rtn_cov_i =  param5_i * ff_vol_i * param5_i.T + resid_cov\n",
    "        #st_idx = i*1281\n",
    "        #ed_idx = i*1281+1260\n",
    "        #res_mat = rolls[st_idx:ed_idx, 1:N+1]\n",
    "        #cov_mat =  np.cov(np.array(res_mat).transpose())\n",
    "        ws_i = get_ws_cov(rtn_cov_i, no_short=no_short)\n",
    "        st_idx = (i+1)*1281-21\n",
    "        ed_idx = (i+1)*1281\n",
    "        res_pre_i = rolls[st_idx:ed_idx, 1:N+1]\n",
    "        res_pre_i = np.matrix(res_pre_i).T\n",
    "        res_i = get_return(ws_i, res_pre_i)\n",
    "        res_dccnl += res_i\n",
    "    return res_dccnl"
   ]
  },
  {
   "cell_type": "code",
   "execution_count": 225,
   "metadata": {},
   "outputs": [],
   "source": [
    "param5 = np.load('./ff_model_data/params_mat5.npy')\n",
    "ff5_cov = np.load('./ff_model_data/ff5_vol_dcc.npy')"
   ]
  },
  {
   "cell_type": "code",
   "execution_count": 226,
   "metadata": {},
   "outputs": [
    {
     "data": {
      "text/plain": [
       "(7.47377, 14.23098, 0.52518)"
      ]
     },
     "execution_count": 226,
     "metadata": {},
     "output_type": "execute_result"
    }
   ],
   "source": [
    "N = 100\n",
    "root_dir = './ff_model_data/resid_dcc_cov5_100/'\n",
    "no_short=False\n",
    "res_dccnl_ff5_100 = get_dcc_ff5_res(root_dir, rolls, N, param5, ff5_cov, no_short)\n",
    "indicators(res_dccnl_ff5_100)"
   ]
  },
  {
   "cell_type": "code",
   "execution_count": 227,
   "metadata": {},
   "outputs": [
    {
     "data": {
      "text/plain": [
       "(9.40873, 13.06866, 0.71995)"
      ]
     },
     "execution_count": 227,
     "metadata": {},
     "output_type": "execute_result"
    }
   ],
   "source": [
    "N = 200\n",
    "root_dir = './ff_model_data/resid_dcc_cov5_200/'\n",
    "no_short=False\n",
    "res_dccnl_ff5_200 = get_dcc_ff5_res(root_dir, rolls, N, param5, ff5_cov, no_short)\n",
    "indicators(res_dccnl_ff5_200)"
   ]
  },
  {
   "cell_type": "code",
   "execution_count": 230,
   "metadata": {},
   "outputs": [],
   "source": [
    "param51 = np.load('./ff_model_data_1260/params_mat5.npy')\n",
    "ff5_cov1 = np.load('./ff_model_data_1260/ff5_vol_dcc.npy')"
   ]
  },
  {
   "cell_type": "code",
   "execution_count": 253,
   "metadata": {},
   "outputs": [
    {
     "data": {
      "text/plain": [
       "(2.22973, 15.14322, 0.14724)"
      ]
     },
     "execution_count": 253,
     "metadata": {},
     "output_type": "execute_result"
    }
   ],
   "source": [
    "N = 100\n",
    "root_dir = './ff_model_data_1260/resid_dcc_cov5_100/'\n",
    "no_short=False\n",
    "res_dccnl_ff5_1260_100 = get_dcc_ff5_res(root_dir, rolls, N, param51, ff5_cov1, no_short)\n",
    "indicators(res_dccnl_ff5_1260_100)"
   ]
  },
  {
   "cell_type": "code",
   "execution_count": 254,
   "metadata": {},
   "outputs": [
    {
     "name": "stdout",
     "output_type": "stream",
     "text": [
      "(1.41123, 14.96321, 0.09431)\n",
      "(-1.71877, 15.24589, -0.11274)\n"
     ]
    }
   ],
   "source": [
    "print(indicators(res_dccnl_ff5_100[0:len(res_dccnl_ff5_1260_100)]))\n",
    "print(indicators(res_dccnl_100[0:len(res_dccnl_ff5_1260_100)]))"
   ]
  },
  {
   "cell_type": "markdown",
   "metadata": {},
   "source": [
    "# 3.2 one-factor model"
   ]
  },
  {
   "cell_type": "code",
   "execution_count": 63,
   "metadata": {},
   "outputs": [],
   "source": [
    "def get_dcc_ff1_res(root_dir, rolls, N, param1, ff1_cov, no_short):\n",
    "    file_ls = os.listdir(root_dir)\n",
    "    length = len(file_ls)\n",
    "    res_dccnl = []\n",
    "    for i in range(length):\n",
    "        file_path = os.path.join(root_dir, '{}.csv'.format(i+1))\n",
    "        resid_cov = pd.read_csv(file_path)\n",
    "        resid_cov = np.matrix(resid_cov.to_numpy())\n",
    "        #resid_cov = np.diag(np.diag(resid_cov))\n",
    "        param1_i = param1[i*500:i*500+N, :]\n",
    "        ff_vol_i = ff1_cov[i, :]\n",
    "        resid_cov = np.matrix(resid_cov)\n",
    "        param5_i = np.matrix(param1_i)\n",
    "        ff_vol_i = np.matrix(ff_vol_i)\n",
    "        rtn_cov_i =  param1_i * ff_vol_i * param1_i.T + resid_cov\n",
    "        #st_idx = i*1281\n",
    "        #ed_idx = i*1281+1260\n",
    "        #res_mat = rolls[st_idx:ed_idx, 1:N+1]\n",
    "        #cov_mat =  np.cov(np.array(res_mat).transpose())\n",
    "        ws_i = get_ws_cov(rtn_cov_i, no_short=no_short)\n",
    "        st_idx = (i+1)*1281-21\n",
    "        ed_idx = (i+1)*1281\n",
    "        res_pre_i = rolls[st_idx:ed_idx, 1:N+1]\n",
    "        res_pre_i = np.matrix(res_pre_i).T\n",
    "        res_i = get_return(ws_i, res_pre_i)\n",
    "        res_dccnl += res_i\n",
    "    return res_dccnl"
   ]
  },
  {
   "cell_type": "code",
   "execution_count": null,
   "metadata": {},
   "outputs": [],
   "source": [
    "param1 = np.load('./ff_model_data/params_mat1.npy')\n",
    "ff1_cov = np.load('./ff_model_data/ff1_vol_dcc.npy')"
   ]
  },
  {
   "cell_type": "code",
   "execution_count": 64,
   "metadata": {},
   "outputs": [
    {
     "data": {
      "text/plain": [
       "(7.86306, 14.23637, 0.55232)"
      ]
     },
     "execution_count": 64,
     "metadata": {},
     "output_type": "execute_result"
    }
   ],
   "source": [
    "N = 100\n",
    "root_dir = './ff_model_data/resid_dcc_cov1_100/'\n",
    "no_short=False\n",
    "res_dccnl_ff1_100 = get_dcc_ff1_res(root_dir, rolls, N, param5, ff1_cov, no_short)\n",
    "indicators(res_dccnl_ff1_100)"
   ]
  },
  {
   "cell_type": "code",
   "execution_count": 90,
   "metadata": {},
   "outputs": [
    {
     "data": {
      "text/plain": [
       "(9.21941, 13.09512, 0.70403)"
      ]
     },
     "execution_count": 90,
     "metadata": {},
     "output_type": "execute_result"
    }
   ],
   "source": [
    "N = 200\n",
    "root_dir = './ff_model_data/resid_dcc_cov1_200/'\n",
    "no_short=False\n",
    "param5 = np.load('./ff_model_data/params_mat1.npy')\n",
    "ff1_cov = np.load('./ff_model_data/ff1_vol_dcc.npy')\n",
    "res_dccnl_ff1_200 = get_dcc_ff1_res(root_dir, rolls, N, param5, ff1_cov, no_short)\n",
    "indicators(res_dccnl_ff1_200)"
   ]
  },
  {
   "cell_type": "markdown",
   "metadata": {},
   "source": [
    "# one-factor model 1260"
   ]
  },
  {
   "cell_type": "code",
   "execution_count": 167,
   "metadata": {},
   "outputs": [],
   "source": [
    "param11 = np.load('./ff_model_data_1260/params_mat1.npy')\n",
    "ff1_cov1 = np.load('./ff_model_data_1260/ff1_vol_dcc.npy')"
   ]
  },
  {
   "cell_type": "code",
   "execution_count": 197,
   "metadata": {},
   "outputs": [
    {
     "data": {
      "text/plain": [
       "(9.26, 13.63718, 0.67903)"
      ]
     },
     "execution_count": 197,
     "metadata": {},
     "output_type": "execute_result"
    }
   ],
   "source": [
    "N = 100\n",
    "root_dir = './ff_model_data_1260/resid_dcc_cov1_100/'\n",
    "no_short=False\n",
    "res_dccnl_ff1_1260_100 = get_dcc_ff1_res(root_dir, rolls, N, param11, ff1_cov1, no_short)\n",
    "indicators(res_dccnl_ff1_1260_100)"
   ]
  },
  {
   "cell_type": "code",
   "execution_count": 221,
   "metadata": {},
   "outputs": [
    {
     "data": {
      "text/plain": [
       "(10.06905, 12.38824, 0.81279)"
      ]
     },
     "execution_count": 221,
     "metadata": {},
     "output_type": "execute_result"
    }
   ],
   "source": [
    "N = 200\n",
    "root_dir = './ff_model_data_1260/resid_dcc_cov1_200/'\n",
    "no_short=False\n",
    "res_dccnl_ff1_1260_200 = get_dcc_ff1_res(root_dir, rolls, N, param11, ff1_cov1, no_short)\n",
    "indicators(res_dccnl_ff1_1260_200)"
   ]
  },
  {
   "cell_type": "code",
   "execution_count": null,
   "metadata": {},
   "outputs": [],
   "source": []
  }
 ],
 "metadata": {
  "kernelspec": {
   "display_name": "Python 3",
   "language": "python",
   "name": "python3"
  },
  "language_info": {
   "codemirror_mode": {
    "name": "ipython",
    "version": 3
   },
   "file_extension": ".py",
   "mimetype": "text/x-python",
   "name": "python",
   "nbconvert_exporter": "python",
   "pygments_lexer": "ipython3",
   "version": "3.7.6"
  }
 },
 "nbformat": 4,
 "nbformat_minor": 4
}
