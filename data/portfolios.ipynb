{
 "cells": [
  {
   "cell_type": "code",
   "execution_count": 644,
   "metadata": {},
   "outputs": [],
   "source": [
    "import json\n",
    "import pandas as pd\n",
    "import numpy as np\n",
    "import matplotlib.pyplot as plt\n",
    "from cvxopt import matrix\n",
    "from cvxopt.blas import dot \n",
    "from cvxopt import solvers\n",
    "solvers.options['show_progress'] = False\n",
    "\n",
    "\n",
    "\n",
    "def load_json(path):\n",
    "    with open(path, 'rb') as f:\n",
    "        json_dict = json.load(f)\n",
    "    return json_dict\n",
    "\n",
    "\n",
    "def find_first_800(sp_data_matrix, num):\n",
    "    posts = []\n",
    "    trading_days = sp_data_matrix.shape[0]\n",
    "    for i in range(trading_days):\n",
    "        num_eff = np.sum(sp_data_matrix[i, 2:]>-5)\n",
    "        if num_eff == num:\n",
    "            posts.append(i)\n",
    "    return posts[0]\n",
    "\n",
    "\n",
    "def get_sub_mat(df_return, st_idx, code_shares, sp_data):\n",
    "    num_lim = 1260 + 21\n",
    "    ed_idx = st_idx + num_lim\n",
    "    code_ls = list(df_return.columns)[1:]\n",
    "    code_used = []\n",
    "    res_mat = []\n",
    "    res_dict = {}\n",
    "    res_pre_dict = {}\n",
    "    market_cap_dict = {}\n",
    "    for code_i in code_ls:\n",
    "        res = df_return[code_i][st_idx:ed_idx]\n",
    "        eff_num = np.sum(res>-5)\n",
    "        if eff_num == num_lim:\n",
    "            cap_i = code_shares[code_i] * sp_data[code_i][st_idx+1260]\n",
    "            res_ls  = list(res)\n",
    "            res_mat.append(res_ls[0:1260])\n",
    "            code_used.append(code_i)\n",
    "            res_dict[code_i] = res_ls[0:1260]\n",
    "            res_pre_dict[code_i] = res_ls[1260:1281]\n",
    "            market_cap_dict[code_i] = cap_i\n",
    "    return res_mat, code_used, res_dict, res_pre_dict, market_cap_dict\n",
    "\n",
    "\n",
    "def get_N(res_mat, code_used, res_dict, res_pre_dict, market_cap_dict, N):\n",
    "    line_num, row_num = np.where(np.corrcoef(np.array(res_mat))>0.95)\n",
    "    line_num = line_num.tolist()\n",
    "    row_num = row_num.tolist()\n",
    "    for i in range(len(line_num)):\n",
    "        if  i > j:\n",
    "            stock_i = code_used[line_num[i]]\n",
    "            stock_j = code_used[row_num[i]]\n",
    "            cap_i = market_cap_dict[stock_i]\n",
    "            cap_j = market_cap_dict[stock_j]\n",
    "            \n",
    "            if  cap_i>cap_j:\n",
    "                code_used.remove(stock_j)\n",
    "            else:\n",
    "                code_used.remove(stock_i)\n",
    "    \n",
    "    code_cap = {}   \n",
    "    for code_i in code_used:\n",
    "        code_cap[code_i] =  market_cap_dict[code_i]\n",
    "        \n",
    "    code_cap_sorted = sorted(code_cap.items(), key=lambda x: x[1], reverse=True)\n",
    "    code_N = [i[0] for i in code_cap_sorted[0:N]]\n",
    "    \n",
    "    res_mat_new = []\n",
    "    res_pre_new = []\n",
    "    for code_i in code_N:\n",
    "        res_mat_new.append(res_dict[code_i])\n",
    "        res_pre_new.append(res_pre_dict[code_i])\n",
    "    return res_mat_new, res_pre_new\n",
    "\n",
    "\n",
    "def get_return(weights, res_pre):\n",
    "    weights = np.matrix(weights)\n",
    "    res_pre = np.matrix(res_pre)\n",
    "    return (weights*res_pre).tolist()[0]\n",
    "    \n",
    "\n",
    "def average_weights(n):\n",
    "    return np.matrix([1/n for i in range(n)])\n",
    "\n",
    "\n",
    "def sample_cov_weights(res_mat):\n",
    "    cov = np.cov(np.array(res_mat))\n",
    "    N = cov.shape[0]\n",
    "    P = matrix(cov)\n",
    "    q = matrix(np.zeros((N, 1)))\n",
    "    G  = matrix(-np.identity(N))\n",
    "    h = matrix(np.zeros((N, 1)))\n",
    "    A = matrix(1.0, (1, N))\n",
    "    b = matrix(1.0)\n",
    "    sol = solvers.qp(P, q, G, h, A, b)\n",
    "    ws = np.matrix(sol['x']).T\n",
    "    return ws\n",
    "\n",
    "\n",
    "\n",
    "def get_returns(code_shares, sp_data, df_return, last_num, N, num):\n",
    "    st_id = find_first_800(df_return.to_numpy(), num)\n",
    "    res_ew = []\n",
    "    res_sample_cov = []\n",
    "    while st_id + 1281 < last_num:\n",
    "        res_mat, code_used, res_dict, res_pre_dict, market_cap_dict = get_sub_mat(df_return,\n",
    "                                                                st_id, code_shares, sp_data)\n",
    "        res_mat_new, res_pre_new = get_N(res_mat, code_used, \n",
    "                               res_dict, res_pre_dict, market_cap_dict, N)\n",
    "        st_id += 21\n",
    "        avg_ws = average_weights(N)\n",
    "        avg_res_i = get_return(avg_ws, res_pre_new)\n",
    "        res_ew += avg_res_i\n",
    "        samp_ws = sample_cov_weights(res_mat_new)\n",
    "        sam_res_i = get_return(samp_ws,  res_pre_new)\n",
    "        res_sample_cov += sam_res_i\n",
    "    return res_ew, res_sample_cov"
   ]
  },
  {
   "cell_type": "markdown",
   "metadata": {},
   "source": [
    "# 1 load_data and get return rates"
   ]
  },
  {
   "cell_type": "code",
   "execution_count": 455,
   "metadata": {},
   "outputs": [],
   "source": [
    "code_shares = load_json('./code_shares.json')\n",
    "sp_data = pd.read_csv('./SP1273_19750103_20201231.csv')\n",
    "df_return = pd.read_csv('./returns127.csv')"
   ]
  },
  {
   "cell_type": "code",
   "execution_count": 221,
   "metadata": {
    "collapsed": true
   },
   "outputs": [
    {
     "name": "stderr",
     "output_type": "stream",
     "text": [
      "/usr/local/lib/python3.7/site-packages/ipykernel_launcher.py:9: RuntimeWarning: invalid value encountered in log\n",
      "  if __name__ == '__main__':\n",
      "/usr/local/lib/python3.7/site-packages/ipykernel_launcher.py:10: RuntimeWarning: invalid value encountered in less\n",
      "  # Remove the CWD from sys.path while we load stuff.\n",
      "/usr/local/lib/python3.7/site-packages/ipykernel_launcher.py:9: RuntimeWarning: divide by zero encountered in log\n",
      "  if __name__ == '__main__':\n"
     ]
    }
   ],
   "source": [
    "j = 0\n",
    "x = None\n",
    "codes = []\n",
    "return_mat = np.zeros((11602, 1271))\n",
    "j = 0\n",
    "for i in code_shares:\n",
    "    price_matrix= sp_data[i].astype('float')\n",
    "    price_matrix = np.array(price_matrix)\n",
    "    returns = np.log(price_matrix[1:]) - np.log(price_matrix[0:-1])\n",
    "    if np.where(returns<-5)[0].shape[0] == 0:\n",
    "        codes.append(i)\n",
    "        returns[np.isnan(returns)]=-5\n",
    "        return_mat[:, j] = returns\n",
    "        j += 1\n",
    "df_return = pd.DataFrame(data=return_mat, columns=codes)\n",
    "df_return.to_csv('returns127.csv')"
   ]
  },
  {
   "cell_type": "markdown",
   "metadata": {},
   "source": [
    "# 2 get portfolio universe"
   ]
  },
  {
   "cell_type": "code",
   "execution_count": 662,
   "metadata": {},
   "outputs": [],
   "source": [
    "avg_res, samp_res = get_returns(code_shares, sp_data, df_return, 11602, 500, 800)"
   ]
  },
  {
   "cell_type": "code",
   "execution_count": 663,
   "metadata": {},
   "outputs": [
    {
     "name": "stdout",
     "output_type": "stream",
     "text": [
      "| 6.8272 | 21.9555 | 0.311 |\n",
      "| 5.6747 | 13.0984 | 0.4332 |\n"
     ]
    }
   ],
   "source": [
    "AV_avg = np.mean(avg_res)*252*100\n",
    "AV_sam = np.mean(samp_res)*252*100\n",
    "SD_avg = np.cov(avg_res)**0.5*252**0.5*100\n",
    "SD_sam = np.cov(samp_res)**0.5*252**0.5*100\n",
    "IR_avg = AV_avg/SD_avg\n",
    "IR_sam = AV_sam/SD_sam\n",
    "\n",
    "print('|', round(AV_avg, 4), '|', round(SD_avg, 4), '|' , round(IR_avg, 4), '|')\n",
    "print('|', round(AV_sam, 4), '|', round(SD_sam, 4), '|' , round(IR_sam, 4), '|')"
   ]
  },
  {
   "cell_type": "code",
   "execution_count": 654,
   "metadata": {},
   "outputs": [
    {
     "data": {
      "image/png": "[encoded data removed]",
      "text/plain": [
       "<Figure size 432x288 with 1 Axes>"
      ]
     },
     "metadata": {
      "needs_background": "light"
     },
     "output_type": "display_data"
    }
   ],
   "source": [
    "plt.plot(avg_res, c='r')\n",
    "plt.plot(samp_res, c='g')\n",
    "plt.show()"
   ]
  },
  {
   "cell_type": "code",
   "execution_count": 530,
   "metadata": {},
   "outputs": [
    {
     "name": "stdout",
     "output_type": "stream",
     "text": [
      "4.279581230262239 24.97542596729552 0.17135168128328246\n",
      "5.260049490471765 75.1875877958109 0.0699590137770696\n"
     ]
    }
   ],
   "source": [
    "AV_avg = np.mean(avg_res[0:2000])*252*100\n",
    "AV_sam = np.mean(samp_res[0:2000])*252*100\n",
    "SD_avg = np.cov(avg_res[0:2000])**0.5*252**0.5*100\n",
    "SD_sam = np.cov(samp_res[0:2000])**0.5*252*0.5*100\n",
    "IR_avg = AV_avg/SD_avg\n",
    "IR_sam = AV_sam/SD_sam\n",
    "print(AV_avg, SD_avg, IR_avg)\n",
    "print(AV_sam, SD_sam, IR_sam)"
   ]
  },
  {
   "cell_type": "code",
   "execution_count": 641,
   "metadata": {},
   "outputs": [
    {
     "name": "stdout",
     "output_type": "stream",
     "text": [
      "     pcost       dcost       gap    pres   dres\n",
      " 0:  2.1817e-02 -1.0010e+00  1e+00  1e-16  2e+00\n",
      " 1:  2.1291e-02 -9.9968e-03  3e-02  1e-16  7e-02\n",
      " 2:  1.1988e-02  7.8862e-03  4e-03  2e-16  2e-17\n",
      " 3:  1.0703e-02  1.0634e-02  7e-05  2e-16  8e-18\n",
      " 4:  1.0669e-02  1.0668e-02  7e-07  2e-16  8e-18\n",
      " 5:  1.0669e-02  1.0669e-02  7e-09  8e-22  8e-18\n",
      "Optimal solution found.\n"
     ]
    }
   ],
   "source": [
    "from cvxopt import matrix\n",
    "from cvxopt.blas import dot \n",
    "from cvxopt.solvers import qp, options \n",
    "P = matrix(np.cov(np.random.rand(3,3)))\n",
    "q = matrix(np.zeros((3, 1)))\n",
    "G  = matrix(-np.identity(3))\n",
    "h = matrix(np.zeros((3, 1)))\n",
    "A = matrix(1.0, (1, 3))\n",
    "b = matrix(1.0)\n",
    "sol = qp(P, q, G, h, A, b)\n",
    "ws = np.matrix(sol['x']).T"
   ]
  },
  {
   "cell_type": "code",
   "execution_count": 639,
   "metadata": {},
   "outputs": [
    {
     "name": "stdout",
     "output_type": "stream",
     "text": [
      "/usr/local/lib/python3.7/site-packages/cvxopt/__init__.py\n"
     ]
    }
   ],
   "source": [
    "import cvxopt\n",
    "print(cvxopt.__file__)\n"
   ]
  },
  {
   "cell_type": "code",
   "execution_count": 628,
   "metadata": {},
   "outputs": [
    {
     "data": {
      "text/plain": [
       "1.0"
      ]
     },
     "execution_count": 628,
     "metadata": {},
     "output_type": "execute_result"
    }
   ],
   "source": [
    "np.sum(np.array(sol['x']))"
   ]
  },
  {
   "cell_type": "code",
   "execution_count": 597,
   "metadata": {},
   "outputs": [
    {
     "data": {
      "text/plain": [
       "matrix([[-0.1],\n",
       "        [ 0. ],\n",
       "        [ 0. ],\n",
       "        [ 0. ]])"
      ]
     },
     "execution_count": 597,
     "metadata": {},
     "output_type": "execute_result"
    }
   ],
   "source": []
  },
  {
   "cell_type": "code",
   "execution_count": null,
   "metadata": {},
   "outputs": [],
   "source": []
  }
 ],
 "metadata": {
  "kernelspec": {
   "display_name": "Python 3",
   "language": "python",
   "name": "python3"
  },
  "language_info": {
   "codemirror_mode": {
    "name": "ipython",
    "version": 3
   },
   "file_extension": ".py",
   "mimetype": "text/x-python",
   "name": "python",
   "nbconvert_exporter": "python",
   "pygments_lexer": "ipython3",
   "version": "3.7.6"
  }
 },
 "nbformat": 4,
 "nbformat_minor": 4
}
