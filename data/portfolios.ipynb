{
 "cells": [
  {
   "cell_type": "code",
   "execution_count": null,
   "metadata": {
    "collapsed": true
   },
   "outputs": [],
   "source": [
    "j = 0\n",
    "x = None\n",
    "codes = []\n",
    "return_mat = np.zeros((11602, 1271))\n",
    "j = 0\n",
    "for i in code_shares:\n",
    "    price_matrix= sp_data[i].astype('float')\n",
    "    price_matrix = np.array(price_matrix)\n",
    "    returns = np.log(price_matrix[1:]) - np.log(price_matrix[0:-1])\n",
    "    if np.where(returns<-5)[0].shape[0] == 0:\n",
    "        codes.append(i)\n",
    "        returns[np.isnan(returns)]=-5\n",
    "        return_mat[:, j] = returns\n",
    "        j += 1\n",
    "df_return = pd.DataFrame(data=return_mat, columns=codes)\n",
    "df_return.to_csv('returns127.csv')\n",
    "\n",
    "ffdata = pd.read_csv('./FF_Factors_daily.csv')\n",
    "start_date = 19750102\n",
    "end_date = 20201231\n",
    "mask = (ffdata['date'] >= start_date) & (ffdata['date'] <= end_date)\n",
    "ffdata = ffdata.loc[mask]\n",
    "ffdata.to_csv('ffdata_11062.csv')"
   ]
  },
  {
   "cell_type": "code",
   "execution_count": 3,
   "metadata": {},
   "outputs": [],
   "source": [
    "import os\n",
    "import json\n",
    "import mgarch\n",
    "import math\n",
    "import copy\n",
    "import pandas as pd\n",
    "import numpy as np\n",
    "import matplotlib.pyplot as plt\n",
    "from cvxopt import matrix\n",
    "from cvxopt.blas import dot \n",
    "from cvxopt import solvers\n",
    "solvers.options['show_progress'] = False\n",
    "\n",
    "\n",
    "def load_json(path):\n",
    "    with open(path, 'rb') as f:\n",
    "        json_dict = json.load(f)\n",
    "    return json_dict\n",
    "\n",
    "\n",
    "def find_first_800(sp_data_matrix, num):\n",
    "    posts = []\n",
    "    trading_days = sp_data_matrix.shape[0]\n",
    "    for i in range(trading_days):\n",
    "        num_eff = np.sum(sp_data_matrix[i, 2:]>-5)\n",
    "        if num_eff == num:\n",
    "            posts.append(i)\n",
    "    return posts[0]\n",
    "\n",
    "\n",
    "def get_sub_mat(df_return, st_idx, code_shares, sp_data, sam_size):\n",
    "    indx_length = sam_size\n",
    "    num_lim = indx_length + 21\n",
    "    ed_idx = st_idx + num_lim\n",
    "    code_ls = list(df_return.columns)[1:]\n",
    "    code_used = []\n",
    "    res_mat = []\n",
    "    res_dict = {}\n",
    "    res_pre_dict = {}\n",
    "    market_cap_dict = {}\n",
    "    for code_i in code_ls:\n",
    "        res = df_return[code_i][st_idx:ed_idx]\n",
    "        eff_num = np.sum(res>-5)\n",
    "        if eff_num == num_lim:\n",
    "            cap_i = code_shares[code_i] * sp_data[code_i][st_idx+indx_length]# error: -1\n",
    "            res_ls  = list(res)\n",
    "            res_mat.append(res_ls[0:indx_length])\n",
    "            code_used.append(code_i)\n",
    "            res_dict[code_i] = res_ls[0:indx_length]\n",
    "            res_pre_dict[code_i] = res_ls[indx_length:indx_length+21]\n",
    "            market_cap_dict[code_i] = cap_i\n",
    "    return res_mat, code_used, res_dict, res_pre_dict, market_cap_dict\n",
    "\n",
    "\n",
    "def get_N(res_mat, code_used, res_dict, res_pre_dict, market_cap_dict, N):\n",
    "    pos = np.where(np.corrcoef(np.array(res_mat))>0.95)\n",
    "    if len(pos)>1:\n",
    "        line_num, row_num = pos\n",
    "        line_num = line_num.tolist()\n",
    "        row_num = row_num.tolist()\n",
    "        code_used_ori = copy.deepcopy(code_used)\n",
    "        code_used = set(code_used)\n",
    "        for i in range(len(line_num)):\n",
    "            for j in range(len(row_num)):\n",
    "                if  i > j:\n",
    "                    stock_i = code_used_ori[line_num[i]]\n",
    "                    stock_j = code_used_ori[row_num[j]]\n",
    "                    cap_i = market_cap_dict[stock_i]\n",
    "                    cap_j = market_cap_dict[stock_j]\n",
    "            \n",
    "                    if  cap_i>=cap_j and cap_i in code_used:\n",
    "                        code_used.remove(stock_j)\n",
    "                    elif cap_i<cap_j and cap_i in code_used:\n",
    "                        code_used.remove(stock_i)\n",
    "    \n",
    "    code_cap = {}\n",
    "    for code_i in code_used:\n",
    "        code_cap[code_i] =  market_cap_dict[code_i]\n",
    "        \n",
    "    code_cap_sorted = sorted(code_cap.items(), key=lambda x: x[1], reverse=True)\n",
    "    code_N = [i[0] for i in code_cap_sorted[0:N]]\n",
    "    \n",
    "    res_mat_new = []\n",
    "    res_pre_new = []\n",
    "    for code_i in code_N:\n",
    "        res_mat_new.append(res_dict[code_i])\n",
    "        res_pre_new.append(res_pre_dict[code_i])\n",
    "    return res_mat_new, res_pre_new\n",
    "\n",
    "\n",
    "def get_rolls(code_shares, sp_data, df_return, last_num, N, num, sam_size):\n",
    "    st_id = find_first_800(df_return.to_numpy(), num)\n",
    "    roll_len = sam_size+21\n",
    "    j = 0\n",
    "    all_rolls_res = 1\n",
    "    while st_id+sam_size+21 <= last_num:\n",
    "        res_mat, code_used, res_dict, res_pre_dict, market_cap_dict = get_sub_mat(df_return,\n",
    "                                                st_id, code_shares, sp_data, sam_size)\n",
    "        res_mat_new, res_pre_new = get_N(res_mat, code_used, \n",
    "                               res_dict, res_pre_dict, market_cap_dict, N)\n",
    "        res_mat_new = np.array(res_mat_new).transpose()\n",
    "        res_pre_new = np.array(res_pre_new).transpose()\n",
    "        res_all = np.vstack((res_mat_new, res_pre_new))\n",
    "        st_id += 21\n",
    "        if all_rolls_res is  1:\n",
    "            all_rolls_res = res_all\n",
    "        else:\n",
    "            all_rolls_res = np.vstack((all_rolls_res, res_all))\n",
    "        \n",
    "    return all_rolls_res\n",
    "\n",
    "\n",
    "def get_return(weights, res_pre):\n",
    "    weights = np.matrix(weights)\n",
    "    res_pre = np.matrix(res_pre)\n",
    "    return (weights*res_pre).tolist()[0]\n",
    "    \n",
    "\n",
    "def average_weights(n):\n",
    "    return np.matrix([1/n for i in range(n)])\n",
    "\n",
    "\n",
    "def get_ws_cov(cov, no_short=True):\n",
    "    if no_short:\n",
    "        N = cov.shape[0]\n",
    "        P = matrix(cov)\n",
    "        q = matrix(np.zeros((N, 1)))\n",
    "        G  = matrix(-np.identity(N))\n",
    "        h = matrix(np.zeros((N, 1)))\n",
    "        A = matrix(1.0, (1, N))\n",
    "        b = matrix(1.0)\n",
    "        sol = solvers.qp(P, q, G, h, A, b)\n",
    "        ws = np.matrix(sol['x']).T\n",
    "    else:\n",
    "        cov_mat = np.matrix(cov)\n",
    "        N = cov_mat.shape[0]\n",
    "        I = np.matrix(np.ones(N)).T\n",
    "        ws = (cov_mat.I * I)/(I.T*cov_mat.I*I)\n",
    "        ws = ws.T\n",
    "    return ws\n",
    "\n",
    "\n",
    "def get_sam_res1(code_shares, sp_data, df_return, last_num, N, num, sam_size):\n",
    "    st_id = find_first_800(df_return.to_numpy(), num)\n",
    "    res_ew = []\n",
    "    res_sample_cov = []\n",
    "    while st_id + sam_size+21 <= last_num:\n",
    "        res_mat, code_used, res_dict, res_pre_dict, market_cap_dict = get_sub_mat(df_return,\n",
    "                                                                st_id, code_shares, sp_data, sam_size)\n",
    "        res_mat_new, res_pre_new = get_N(res_mat, code_used, \n",
    "                               res_dict, res_pre_dict, market_cap_dict, N)\n",
    "        st_id += 21\n",
    "        avg_ws = average_weights(N)\n",
    "        avg_res_i = get_return(avg_ws, res_pre_new)\n",
    "        res_ew += avg_res_i\n",
    "        sam_cov = np.cov(np.array(res_mat_new))\n",
    "        samp_ws = get_ws_cov(sam_cov, no_short=False)\n",
    "        sam_res_i = get_return(samp_ws,  res_pre_new)\n",
    "        res_sample_cov += sam_res_i\n",
    "    return res_ew, res_sample_cov\n",
    "\n",
    "\n",
    "\n",
    "def get_gm(res_mat1, N):\n",
    "    n_ew = int(N/5)\n",
    "    gm = np.exp(np.mean(np.log(res_mat1[-252:-21, :]+math.e), axis=0))-math.e\n",
    "    gm_sorted = sorted(gm, reverse=1)\n",
    "    ws_ew = np.zeros_like(gm)\n",
    "    ws_ew[np.where(gm>=gm_sorted[n_ew-1])] = 1/n_ew\n",
    "    b = np.sum(ws_ew * gm)\n",
    "    gm = np.reshape(gm, (N, 1))\n",
    "    return b, gm\n",
    "\n",
    "\n",
    "def get_mk_ew(res_mat1, N):\n",
    "    n_ew = int(N/5)\n",
    "    gm = np.exp(np.mean(np.log(res_mat1[-252:-21, :]+math.e), axis=0))-math.e\n",
    "    gm_sorted = sorted(gm, reverse=1)\n",
    "    ws_ew = np.zeros_like(gm)\n",
    "    ws_ew[np.where(gm>=gm_sorted[n_ew-1])] = 1/n_ew\n",
    "    ws_ew = np.reshape(ws_ew, (N, 1))\n",
    "    return ws_ew.T\n",
    "\n",
    "\n",
    "def markowitz_ws(cov_mat, res_mat1, N):\n",
    "    b, ms = get_gm(res_mat1, N)\n",
    "    N = cov_mat.shape[0]\n",
    "    I = np.ones((N, 1))\n",
    "    cov_mat = np.matrix(cov_mat)\n",
    "    ms = np.matrix(ms)\n",
    "    I = np.matrix(I)\n",
    "    bs = np.tile(b, (N, 1)) \n",
    "    A = I.T * cov_mat.I * I\n",
    "    B = I.T * cov_mat.I * ms\n",
    "    C = ms.T * cov_mat.I * ms\n",
    "    c1 = (C - b*B)/(A*C - B*B)\n",
    "    c2 = (b*A - B)/(A*C - B*B)\n",
    "    ws = c1[0,0] * (cov_mat.I * I) + c2[0,0] * (cov_mat.I * ms)\n",
    "    return ws.T\n",
    "\n",
    "\n",
    "def indicators(res):\n",
    "    AV= round(np.mean(res)*252*100, 2)\n",
    "    SD = round(np.cov(res)**0.5*252**0.5*100, 2)\n",
    "    IR = round(AV/SD, 2)\n",
    "    return AV, SD, IR\n",
    "\n",
    "\n",
    "def read_dcc_res(path):\n",
    "    res_dccnl = pd.read_csv(path)\n",
    "    res_dccnl= res_dccnl['x']\n",
    "    res_dccnl = list(res_dccnl)\n",
    "    return res_dccnl\n",
    "\n",
    "\n",
    "def res_line(res):\n",
    "    portfolio_res = [1]\n",
    "    a = 1\n",
    "    for i in res:\n",
    "        a = a*(1+i)\n",
    "        portfolio_res.append(a)\n",
    "    return portfolio_res\n",
    "\n",
    "\n",
    "def get_hold_ws(ws1, res_mat_pre):\n",
    "    ws11 = np.multiply(ws1, (1+np.sum(res_mat_pre, axis=1)))\n",
    "    ws11 = ws11\n",
    "    return ws11.tolist()[0]\n",
    "\n",
    "\n",
    "def indicators2(set_ws, hold_ws):\n",
    "    N = len(set_ws)\n",
    "    set_ws = np.array(set_ws)\n",
    "    hold_ws = np.array(hold_ws)\n",
    "    ws_change = set_ws[1:, :] - hold_ws[0:-1, :]\n",
    "    TO = round(np.sum(np.abs(ws_change))/(N-1), 2)\n",
    "    GL = round(np.sum(np.abs(set_ws))/N, 2)\n",
    "    #TO = round(np.mean(np.linalg.norm(ws_change, ord=1, axis=1)), 2)\n",
    "    #GL = round(np.mean(np.linalg.norm(set_ws, ord=1, axis=1)), 2)\n",
    "    PL = round(np.mean(set_ws<0), 2)\n",
    "    return TO, GL, PL\n",
    "\n",
    "\n",
    "def get_ew_res(rolls, N, markowitz=False):\n",
    "    rtns_ew = []\n",
    "    hold_ws = []\n",
    "    set_ws = []\n",
    "    for i in range(190):\n",
    "        st_idx = i*1281\n",
    "        ed_idx = i*1281+1260\n",
    "        res_mat = rolls[st_idx:ed_idx, 1:N+1]\n",
    "        if markowitz:\n",
    "            ws_i = get_mk_ew(res_mat, N)\n",
    "        else:\n",
    "            ws_i = average_weights(N)\n",
    "        st_idx = (i+1)*1281-21\n",
    "        ed_idx = (i+1)*1281\n",
    "        res_pre_i = rolls[st_idx:ed_idx, 1:N+1]\n",
    "        res_pre_i = np.matrix(res_pre_i).T\n",
    "        rtns_i = get_return(ws_i, res_pre_i)\n",
    "        hold_ws_i = get_hold_ws(ws_i, res_pre_i)\n",
    "        set_ws.append(ws_i.tolist()[0])\n",
    "        hold_ws.append(hold_ws_i)\n",
    "        rtns_ew += rtns_i\n",
    "    return rtns_ew, set_ws, hold_ws\n",
    "\n",
    "\n",
    "def get_sam_res(rolls, N, markowitz=False):\n",
    "    rtns_sam = []\n",
    "    hold_ws = []\n",
    "    set_ws = []\n",
    "    for i in range(190):\n",
    "        st_idx = i*1281\n",
    "        ed_idx = i*1281+1260\n",
    "        res_mat = rolls[st_idx:ed_idx, 1:N+1]\n",
    "        cov_mat =  np.cov(np.array(res_mat).transpose())\n",
    "        if markowitz:\n",
    "            ws_i = markowitz_ws(cov_mat, res_mat, N)\n",
    "        else:\n",
    "            ws_i = get_ws_cov(cov_mat, no_short=False)\n",
    "        st_idx = (i+1)*1281-21\n",
    "        ed_idx = (i+1)*1281\n",
    "        res_pre_i = rolls[st_idx:ed_idx, 1:N+1]\n",
    "        res_pre_i = np.matrix(res_pre_i).T\n",
    "        rtns_sam_i = get_return(ws_i, res_pre_i)\n",
    "        hold_ws_i = get_hold_ws(ws_i, res_pre_i)\n",
    "        hold_ws.append(hold_ws_i)\n",
    "        set_ws.append(ws_i.tolist()[0])\n",
    "        rtns_sam += rtns_sam_i\n",
    "    return rtns_sam, set_ws, hold_ws\n",
    "\n",
    "\n",
    "def get_dcc_res(root_dir, rolls, N, markowitz=False):\n",
    "    file_ls = os.listdir(root_dir)\n",
    "    length = len(file_ls)\n",
    "    res_dccnl = []\n",
    "    hold_ws = []\n",
    "    set_ws = []\n",
    "    for i in range(length):\n",
    "        file_path = os.path.join(root_dir, '{}.csv'.format(i+1))\n",
    "        cov_mat = pd.read_csv(file_path)\n",
    "        cov_mat = np.matrix(cov_mat.to_numpy())\n",
    "        st_idx = i*1281\n",
    "        ed_idx = i*1281+1260\n",
    "        res_mat = rolls[st_idx:ed_idx, 1:N+1]\n",
    "        #cov_mat =  np.cov(np.array(res_mat).transpose())\n",
    "        if markowitz:\n",
    "            ws_i = markowitz_ws(cov_mat, res_mat, N)\n",
    "        else:\n",
    "            ws_i = get_ws_cov(cov_mat, no_short=False)\n",
    "        st_idx = (i+1)*1281-21\n",
    "        ed_idx = (i+1)*1281\n",
    "        res_pre_i = rolls[st_idx:ed_idx, 1:N+1]\n",
    "        res_pre_i = np.matrix(res_pre_i).T\n",
    "        res_i = get_return(ws_i, res_pre_i)\n",
    "        hold_ws_i = get_hold_ws(ws_i, res_pre_i)\n",
    "        hold_ws.append(hold_ws_i)\n",
    "        set_ws.append(ws_i.tolist()[0])\n",
    "        res_dccnl += res_i\n",
    "    return res_dccnl, set_ws, hold_ws\n",
    "\n",
    "\n",
    "def get_rtns_static5(rolls, N, resid5, param5, ff5_cov, markowitz=False):\n",
    "    rtns_static = []\n",
    "    hold_ws = []\n",
    "    set_ws = []\n",
    "    for i in range(190):\n",
    "        resid_i = resid5[i*500:i*500+N, :]\n",
    "        cov_i = np.cov(resid_i)\n",
    "        cov_i = np.diag(np.diag(cov_i))\n",
    "        #cov_i[np.where(abs(cov_i)<1e-7)]=0.0\n",
    "        param5_i = param5[i*500:i*500+N, :]\n",
    "        ff_vol_i = ff5_cov[i*5:i*5+5, :]\n",
    "        cov_i = np.matrix(cov_i)\n",
    "        param5_i = np.matrix(param5_i)\n",
    "        ff_vol_i = np.matrix(ff_vol_i)\n",
    "        rtn_cov_i =  param5_i * ff_vol_i * param5_i.T + cov_i\n",
    "        st_idx = i*1281\n",
    "        ed_idx = i*1281+1260\n",
    "        res_mat = rolls[st_idx:ed_idx, 1:N+1]\n",
    "        #cov_mat =  np.cov(np.array(res_mat).transpose())\n",
    "        if markowitz:\n",
    "            ws_i = markowitz_ws(rtn_cov_i, res_mat, N)\n",
    "        else:\n",
    "            ws_i = get_ws_cov(rtn_cov_i, no_short=False)\n",
    "        st_idx = (i+1)*1281-21\n",
    "        ed_idx = (i+1)*1281\n",
    "        res_pre_i = rolls[st_idx:ed_idx, 1:N+1]\n",
    "        res_pre_i = np.matrix(res_pre_i).T\n",
    "        res_i = get_return(ws_i, res_pre_i)\n",
    "        hold_ws_i = get_hold_ws(ws_i, res_pre_i)\n",
    "        hold_ws.append(hold_ws_i)\n",
    "        set_ws.append(ws_i.tolist()[0])\n",
    "        rtns_static += res_i\n",
    "    return rtns_static, set_ws, hold_ws\n",
    "\n",
    "\n",
    "def get_rtns_static1(rolls, N, resid1, param1, ff1_cov, markowitz=False):\n",
    "    rtns_static = []\n",
    "    hold_ws = []\n",
    "    set_ws = []\n",
    "    for i in range(190):\n",
    "        resid_i = resid1[i*500:i*500+N, :]\n",
    "        cov_i = np.cov(resid_i)\n",
    "        cov_i = np.diag(np.diag(cov_i))\n",
    "        #cov_i[np.where(abs(cov_i)<1e-7)]=0.0\n",
    "        param1_i = param1[i*500:i*500+N, :]\n",
    "        ff_vol_i = ff1_cov[i, :]\n",
    "        cov_i = np.matrix(cov_i)\n",
    "        param1_i = np.matrix(param1_i)\n",
    "        ff_vol_i = np.matrix(ff_vol_i)\n",
    "        rtn_cov_i =  param1_i * ff_vol_i * param1_i.T + cov_i\n",
    "        st_idx = i*1281\n",
    "        ed_idx = i*1281+1260\n",
    "        res_mat = rolls[st_idx:ed_idx, 1:N+1]\n",
    "        #cov_mat =  np.cov(np.array(res_mat).transpose())\n",
    "        if markowitz:\n",
    "            ws_i = markowitz_ws(rtn_cov_i, res_mat, N)\n",
    "        else:\n",
    "            ws_i = get_ws_cov(rtn_cov_i, no_short=False)\n",
    "        st_idx = (i+1)*1281-21\n",
    "        ed_idx = (i+1)*1281\n",
    "        res_pre_i = rolls[st_idx:ed_idx, 1:N+1]\n",
    "        res_pre_i = np.matrix(res_pre_i).T\n",
    "        res_i = get_return(ws_i, res_pre_i)\n",
    "        hold_ws_i = get_hold_ws(ws_i, res_pre_i)\n",
    "        hold_ws.append(hold_ws_i)\n",
    "        set_ws.append(ws_i.tolist()[0])\n",
    "        rtns_static += res_i\n",
    "    return rtns_static, set_ws, hold_ws\n",
    "\n",
    "\n",
    "def get_rtns_dcc_ff5(root_dir, rolls, N, param5, ff5_cov, markowitz=False):\n",
    "    file_ls = os.listdir(root_dir)\n",
    "    length = len(file_ls)\n",
    "    res_dccnl = []\n",
    "    hold_ws = []\n",
    "    set_ws = []\n",
    "    for i in range(length):\n",
    "        file_path = os.path.join(root_dir, '{}.csv'.format(i+1))\n",
    "        resid_cov = pd.read_csv(file_path)\n",
    "        resid_cov = np.matrix(resid_cov.to_numpy())\n",
    "        param5_i = param5[i*500:i*500+N, :]\n",
    "        ff_vol_i = ff5_cov[i*5:i*5+5, :]\n",
    "        param5_i = np.matrix(param5_i)\n",
    "        ff_vol_i = np.matrix(ff_vol_i)\n",
    "        rtn_cov_i =  param5_i * ff_vol_i * param5_i.T + resid_cov\n",
    "        st_idx = i*1281\n",
    "        ed_idx = i*1281+1260\n",
    "        res_mat = rolls[st_idx:ed_idx, 1:N+1]\n",
    "        #cov_mat =  np.cov(np.array(res_mat).transpose())\n",
    "        if markowitz:\n",
    "            ws_i = markowitz_ws(rtn_cov_i, res_mat, N)\n",
    "        else:\n",
    "            ws_i = get_ws_cov(rtn_cov_i, no_short=False)\n",
    "        st_idx = (i+1)*1281-21\n",
    "        ed_idx = (i+1)*1281\n",
    "        res_pre_i = rolls[st_idx:ed_idx, 1:N+1]\n",
    "        res_pre_i = np.matrix(res_pre_i).T\n",
    "        res_i = get_return(ws_i, res_pre_i)\n",
    "        hold_ws_i = get_hold_ws(ws_i, res_pre_i)\n",
    "        hold_ws.append(hold_ws_i)\n",
    "        set_ws.append(ws_i.tolist()[0])\n",
    "        res_dccnl += res_i\n",
    "    return res_dccnl, set_ws, hold_ws\n",
    "\n",
    "\n",
    "def get_rtns_dcc_ff1(root_dir, rolls, N, param1, ff1_cov, markowitz=False):\n",
    "    file_ls = os.listdir(root_dir)\n",
    "    length = len(file_ls)\n",
    "    res_dccnl = []\n",
    "    hold_ws = []\n",
    "    set_ws = []\n",
    "    for i in range(length):\n",
    "        file_path = os.path.join(root_dir, '{}.csv'.format(i+1))\n",
    "        resid_cov = pd.read_csv(file_path)\n",
    "        resid_cov = np.matrix(resid_cov.to_numpy())\n",
    "        #resid_cov = np.diag(np.diag(resid_cov))\n",
    "        param1_i = param1[i*500:i*500+N, :]\n",
    "        ff_vol_i = ff1_cov[i, :]\n",
    "        resid_cov = np.matrix(resid_cov)\n",
    "        param5_i = np.matrix(param1_i)\n",
    "        ff_vol_i = np.matrix(ff_vol_i)\n",
    "        rtn_cov_i =  param1_i * ff_vol_i * param1_i.T + resid_cov\n",
    "        st_idx = i*1281\n",
    "        ed_idx = i*1281+1260\n",
    "        res_mat = rolls[st_idx:ed_idx, 1:N+1]\n",
    "        #cov_mat =  np.cov(np.array(res_mat).transpose())\n",
    "        if markowitz:\n",
    "            ws_i = markowitz_ws(rtn_cov_i, res_mat, N)\n",
    "        else:\n",
    "            ws_i = get_ws_cov(rtn_cov_i, no_short=False)\n",
    "        st_idx = (i+1)*1281-21\n",
    "        ed_idx = (i+1)*1281\n",
    "        res_pre_i = rolls[st_idx:ed_idx, 1:N+1]\n",
    "        res_pre_i = np.matrix(res_pre_i).T\n",
    "        res_i = get_return(ws_i, res_pre_i)\n",
    "        hold_ws_i = get_hold_ws(ws_i, res_pre_i)\n",
    "        hold_ws.append(hold_ws_i)\n",
    "        set_ws.append(ws_i.tolist()[0])\n",
    "        res_dccnl += res_i\n",
    "    return res_dccnl, set_ws, hold_ws"
   ]
  },
  {
   "cell_type": "markdown",
   "metadata": {},
   "source": [
    "# 1 load_data and get return rates"
   ]
  },
  {
   "cell_type": "code",
   "execution_count": 3,
   "metadata": {},
   "outputs": [],
   "source": [
    "code_shares = load_json('./code_shares.json')\n",
    "sp_data = pd.read_csv('./SP1273_19750103_20201231.csv')\n",
    "df_return = pd.read_csv('./returns1271.csv')"
   ]
  },
  {
   "cell_type": "markdown",
   "metadata": {},
   "source": [
    "# 2 get all rolling res data"
   ]
  },
  {
   "cell_type": "code",
   "execution_count": null,
   "metadata": {
    "collapsed": true
   },
   "outputs": [],
   "source": [
    "all_rolls_res = get_rolls(code_shares, sp_data, df_return, 11602, 500, 800, 630)"
   ]
  },
  {
   "cell_type": "code",
   "execution_count": 315,
   "metadata": {
    "collapsed": true
   },
   "outputs": [],
   "source": [
    "all_rolls_res1 = np.around(all_rolls_res, decimals=6, out=None)\n",
    "col_names = []\n",
    "for i in range(500):\n",
    "    col_names.append('asset{}'.format(i))\n",
    "df_rolls = pd.DataFrame(data=all_rolls_res1, columns=col_names)\n",
    "df_rolls.to_csv('df_rolls_500_630.csv')"
   ]
  },
  {
   "cell_type": "markdown",
   "metadata": {},
   "source": [
    "# 3 get portfolio universe"
   ]
  },
  {
   "cell_type": "code",
   "execution_count": 4,
   "metadata": {},
   "outputs": [],
   "source": [
    "rolls = pd.read_csv('./df_rolls.csv')\n",
    "rolls = rolls.to_numpy()"
   ]
  },
  {
   "cell_type": "markdown",
   "metadata": {},
   "source": [
    "# 4 structure free models"
   ]
  },
  {
   "cell_type": "markdown",
   "metadata": {},
   "source": [
    "# N=100"
   ]
  },
  {
   "cell_type": "code",
   "execution_count": 5,
   "metadata": {},
   "outputs": [],
   "source": [
    "N = 100\n",
    "root_dir = './cov_{}_dcc/'.format(N)\n",
    "rtns_dcc_100, set_ws_dcc_100,  hold_ws_dcc_100 = get_dcc_res(root_dir, rolls, N)\n",
    "idx1_dcc_100 = indicators(rtns_dcc_100)\n",
    "idx2_dcc_100 = indicators2(set_ws_dcc_100, hold_ws_dcc_100)\n",
    "\n",
    "rtns_ew_100, set_ws_ew_100, hold_ws_ew_100 = get_ew_res(rolls, N)\n",
    "idx1_ew_100 = indicators(rtns_ew_100)\n",
    "idx2_ew_100 = indicators2(set_ws_ew_100, hold_ws_ew_100)\n",
    "\n",
    "rtns_sam_100,  set_ws_sam_100, hold_ws_sam_100 = get_sam_res(rolls, N)\n",
    "idx1_sam_100 = indicators(rtns_sam_100)\n",
    "idx2_sam_100 = indicators2(set_ws_sam_100, hold_ws_sam_100)"
   ]
  },
  {
   "cell_type": "code",
   "execution_count": 6,
   "metadata": {},
   "outputs": [
    {
     "name": "stdout",
     "output_type": "stream",
     "text": [
      "idicators1 ('AV', 'SD', 'IR')\n",
      "EW_100 (5.19, 20.66, 0.25)\n",
      "Sample_100 (38.45, 132.29, 0.29)\n",
      "DCCNL_100 (7.43, 13.79, 0.54)\n",
      "---------------------------------\n",
      "idicators2 ('TO', 'GL', 'PL')\n",
      "EW_100 (0.15, 1.0, 0.0)\n",
      "Sample_100 (577.91, 441.71, 0.43)\n",
      "DCCNL_100 (74.4, 39.76, 0.46)\n"
     ]
    }
   ],
   "source": [
    "print('idicators1', ('AV','SD','IR'))\n",
    "print('EW_100', idx1_ew_100)\n",
    "print('Sample_100', idx1_sam_100)\n",
    "print('DCCNL_100',idx1_dcc_100)\n",
    "print('---------------------------------')\n",
    "print('idicators2', ('TO','GL','PL'))\n",
    "print('EW_100', idx2_ew_100)\n",
    "print('Sample_100', idx2_sam_100)\n",
    "print('DCCNL_100',idx2_dcc_100)"
   ]
  },
  {
   "cell_type": "code",
   "execution_count": 7,
   "metadata": {},
   "outputs": [],
   "source": [
    "N = 100\n",
    "\n",
    "rtns_ew_mk_100, set_ws_ew_mk_100, hold_ws_mk_ew_100 = get_ew_res(rolls, N, markowitz=True)\n",
    "idx1_ew_mk_100 = indicators(rtns_ew_mk_100)\n",
    "idx2_ew_mk_100 = indicators2(set_ws_ew_mk_100, hold_ws_mk_ew_100)\n",
    "\n",
    "\n",
    "rtns_sam_mk_100,  set_ws_sam_mk_100, hold_ws_sam_mk_100 = get_sam_res(rolls, N, markowitz=True)\n",
    "idx1_sam_mk_100 = indicators(rtns_sam_mk_100)\n",
    "idx2_sam_mk_100 = indicators2(set_ws_sam_mk_100, hold_ws_sam_mk_100)\n",
    "\n",
    "root_dir = './cov_{}_dcc/'.format(N)\n",
    "rtns_dcc_mk_100, set_ws_dcc_mk_100,  hold_ws_dcc_mk_100 = get_dcc_res(root_dir, rolls, N, markowitz=True)\n",
    "idx1_dcc_mk_100 = indicators(rtns_dcc_mk_100)\n",
    "idx2_dcc_mk_100 = indicators2(set_ws_dcc_mk_100, hold_ws_dcc_mk_100)"
   ]
  },
  {
   "cell_type": "code",
   "execution_count": 8,
   "metadata": {},
   "outputs": [
    {
     "name": "stdout",
     "output_type": "stream",
     "text": [
      "idicators1 ('AV', 'SD', 'IR')\n",
      "EW_mk_100 (6.2, 23.1, 0.27)\n",
      "Sample_mk_100 (694.78, 3039.43, 0.23)\n",
      "DCCNL_mk_100 (10.73, 15.28, 0.7)\n",
      "---------------------------------\n",
      "idicators2 ('TO', 'GL', 'PL')\n",
      "EW_mk_100 (1.38, 1.0, 0.0)\n",
      "Sample_mk_100 (1974.69, 1248.89, 0.44)\n",
      "DCCNL_mk_100 (142.9, 73.25, 0.47)\n"
     ]
    }
   ],
   "source": [
    "print('idicators1', ('AV','SD','IR'))\n",
    "print('EW_mk_100', idx1_ew_mk_100)\n",
    "print('Sample_mk_100', idx1_sam_mk_100)\n",
    "print('DCCNL_mk_100',idx1_dcc_mk_100)\n",
    "print('---------------------------------')\n",
    "print('idicators2', ('TO','GL','PL'))\n",
    "print('EW_mk_100', idx2_ew_mk_100)\n",
    "print('Sample_mk_100', idx2_sam_mk_100)\n",
    "print('DCCNL_mk_100',idx2_dcc_mk_100)"
   ]
  },
  {
   "cell_type": "markdown",
   "metadata": {},
   "source": [
    "# N = 200"
   ]
  },
  {
   "cell_type": "code",
   "execution_count": 9,
   "metadata": {},
   "outputs": [],
   "source": [
    "N = 200\n",
    "root_dir = './cov_{}_dcc/'.format(N)\n",
    "rtns_dcc_200, set_ws_dcc_200,  hold_ws_dcc_200 = get_dcc_res(root_dir, rolls, N)\n",
    "idx1_dcc_200 = indicators(rtns_dcc_200)\n",
    "idx2_dcc_200 = indicators2(set_ws_dcc_200, hold_ws_dcc_200)\n",
    "\n",
    "rtns_ew_200, set_ws_ew_200, hold_ws_ew_200 = get_ew_res(rolls, N)\n",
    "idx1_ew_200 = indicators(rtns_ew_200)\n",
    "idx2_ew_200 = indicators2(set_ws_ew_200, hold_ws_ew_200)\n",
    "\n",
    "rtns_sam_200,  set_ws_sam_200, hold_ws_sam_200 = get_sam_res(rolls, N)\n",
    "idx1_sam_200 = indicators(rtns_sam_200)\n",
    "idx2_sam_200 = indicators2(set_ws_sam_200, hold_ws_sam_200)\n"
   ]
  },
  {
   "cell_type": "code",
   "execution_count": 10,
   "metadata": {},
   "outputs": [
    {
     "name": "stdout",
     "output_type": "stream",
     "text": [
      "idicators1 ('AV', 'SD', 'IR')\n",
      "EW_200 (5.59, 20.94, 0.27)\n",
      "Sample_200 (-15.83, 105.42, -0.15)\n",
      "DCCNL_200 (9.77, 12.96, 0.75)\n",
      "---------------------------------\n",
      "idicators2 ('TO', 'GL', 'PL')\n",
      "EW_200 (0.15, 1.0, 0.0)\n",
      "Sample_200 (675.93, 513.32, 0.46)\n",
      "DCCNL_200 (25.38, 14.56, 0.48)\n"
     ]
    }
   ],
   "source": [
    "print('idicators1', ('AV','SD','IR'))\n",
    "print('EW_200', idx1_ew_200)\n",
    "print('Sample_200', idx1_sam_200)\n",
    "print('DCCNL_200',idx1_dcc_200)\n",
    "print('---------------------------------')\n",
    "print('idicators2', ('TO','GL','PL'))\n",
    "print('EW_200', idx2_ew_200)\n",
    "print('Sample_200', idx2_sam_200)\n",
    "print('DCCNL_200',idx2_dcc_200)\n"
   ]
  },
  {
   "cell_type": "code",
   "execution_count": 11,
   "metadata": {},
   "outputs": [],
   "source": [
    "N = 200\n",
    "\n",
    "rtns_ew_mk_200, set_ws_ew_mk_200, hold_ws_mk_ew_200 = get_ew_res(rolls, N, markowitz=True)\n",
    "idx1_ew_mk_200 = indicators(rtns_ew_mk_200)\n",
    "idx2_ew_mk_200 = indicators2(set_ws_ew_mk_200, hold_ws_mk_ew_200)\n",
    "\n",
    "\n",
    "rtns_sam_mk_200,  set_ws_sam_mk_200, hold_ws_sam_mk_200 = get_sam_res(rolls, N, markowitz=True)\n",
    "idx1_sam_mk_200 = indicators(rtns_sam_mk_200)\n",
    "idx2_sam_mk_200 = indicators2(set_ws_sam_mk_200, hold_ws_sam_mk_200)\n",
    "\n",
    "root_dir = './cov_{}_dcc/'.format(N)\n",
    "rtns_dcc_mk_200, set_ws_dcc_mk_200,  hold_ws_dcc_mk_200 = get_dcc_res(root_dir, rolls, N, markowitz=True)\n",
    "idx1_dcc_mk_200 = indicators(rtns_dcc_mk_200)\n",
    "idx2_dcc_mk_200 = indicators2(set_ws_dcc_mk_200, hold_ws_dcc_mk_200)\n"
   ]
  },
  {
   "cell_type": "code",
   "execution_count": 12,
   "metadata": {},
   "outputs": [
    {
     "name": "stdout",
     "output_type": "stream",
     "text": [
      "idicators1 ('AV', 'SD', 'IR')\n",
      "EW_mk_200 (5.4, 22.49, 0.24)\n",
      "Sample_mk_200 (454.24, 1973.68, 0.23)\n",
      "DCCNL_mk_200 (12.94, 14.11, 0.92)\n",
      "---------------------------------\n",
      "idicators2 ('TO', 'GL', 'PL')\n",
      "EW_mk_200 (1.45, 1.0, 0.0)\n",
      "Sample_mk_200 (1381.85, 861.06, 0.46)\n",
      "DCCNL_mk_200 (32.42, 18.59, 0.49)\n"
     ]
    }
   ],
   "source": [
    "print('idicators1', ('AV','SD','IR'))\n",
    "print('EW_mk_200', idx1_ew_mk_200)\n",
    "print('Sample_mk_200', idx1_sam_mk_200)\n",
    "print('DCCNL_mk_200',idx1_dcc_mk_200)\n",
    "print('---------------------------------')\n",
    "print('idicators2', ('TO','GL','PL'))\n",
    "print('EW_mk_200', idx2_ew_mk_200)\n",
    "print('Sample_mk_200', idx2_sam_mk_200)\n",
    "print('DCCNL_mk_200',idx2_dcc_mk_200)\n"
   ]
  },
  {
   "cell_type": "markdown",
   "metadata": {},
   "source": [
    "# N=500"
   ]
  },
  {
   "cell_type": "code",
   "execution_count": 13,
   "metadata": {},
   "outputs": [
    {
     "name": "stdout",
     "output_type": "stream",
     "text": [
      "idicators1 ('AV', 'SD', 'IR')\n",
      "EW_500 (6.83, 21.96, 0.31)\n",
      "Sample_500 (7.44, 12.6, 0.59)\n",
      "DCCNL_500 (8.13, 12.14, 0.67)\n",
      "---------------------------------\n",
      "idicators2 ('TO', 'GL', 'PL')\n",
      "EW_500 (0.15, 1.0, 0.0)\n",
      "Sample_500 (919.15, 707.12, 0.47)\n",
      "DCCNL_500 (101.02, 51.42, 0.5)\n"
     ]
    }
   ],
   "source": [
    "N = 500\n",
    "root_dir = './cov_{}_dcc/'.format(N)\n",
    "rtns_dcc_500, set_ws_dcc_500,  hold_ws_dcc_500 = get_dcc_res(root_dir, rolls, N)\n",
    "idx1_dcc_500 = indicators(rtns_dcc_500)\n",
    "idx2_dcc_500 = indicators2(set_ws_dcc_500, hold_ws_dcc_500)\n",
    "\n",
    "rtns_ew_500, set_ws_ew_500, hold_ws_ew_500 = get_ew_res(rolls, N)\n",
    "idx1_ew_500 = indicators(rtns_ew_500)\n",
    "idx2_ew_500 = indicators2(set_ws_ew_500, hold_ws_ew_500)\n",
    "\n",
    "rtns_sam_500,  set_ws_sam_500, hold_ws_sam_500 = get_sam_res(rolls, N)\n",
    "idx1_sam_500 = indicators(rtns_sam_500)\n",
    "idx2_sam_500 = indicators2(set_ws_sam_500, hold_ws_sam_500)\n",
    "\n",
    "\n",
    "print('idicators1', ('AV','SD','IR'))\n",
    "print('EW_500', idx1_ew_500)\n",
    "print('Sample_500', idx1_sam_500)\n",
    "print('DCCNL_500',idx1_dcc_500)\n",
    "print('---------------------------------')\n",
    "print('idicators2', ('TO','GL','PL'))\n",
    "print('EW_500', idx2_ew_500)\n",
    "print('Sample_500', idx2_sam_500)\n",
    "print('DCCNL_500',idx2_dcc_500)"
   ]
  },
  {
   "cell_type": "code",
   "execution_count": 14,
   "metadata": {},
   "outputs": [
    {
     "name": "stdout",
     "output_type": "stream",
     "text": [
      "idicators1 ('AV', 'SD', 'IR')\n",
      "EW_mk_500 (6.39, 22.37, 0.29)\n",
      "Sample_mk_500 (166.09, 697.2, 0.24)\n",
      "DCCNL_mk_500 (11.19, 12.99, 0.86)\n",
      "---------------------------------\n",
      "idicators2 ('TO', 'GL', 'PL')\n",
      "EW_mk_500 (1.5, 1.0, 0.0)\n",
      "Sample_mk_500 (1242.45, 873.53, 0.47)\n",
      "DCCNL_mk_500 (138.47, 70.1, 0.5)\n"
     ]
    }
   ],
   "source": [
    "N = 500\n",
    "\n",
    "rtns_ew_mk_500, set_ws_ew_mk_500, hold_ws_mk_ew_500 = get_ew_res(rolls, N, markowitz=True)\n",
    "idx1_ew_mk_500 = indicators(rtns_ew_mk_500)\n",
    "idx2_ew_mk_500 = indicators2(set_ws_ew_mk_500, hold_ws_mk_ew_500)\n",
    "\n",
    "\n",
    "rtns_sam_mk_500,  set_ws_sam_mk_500, hold_ws_sam_mk_500 = get_sam_res(rolls, N, markowitz=True)\n",
    "idx1_sam_mk_500 = indicators(rtns_sam_mk_500)\n",
    "idx2_sam_mk_500 = indicators2(set_ws_sam_mk_500, hold_ws_sam_mk_500)\n",
    "\n",
    "root_dir = './cov_{}_dcc/'.format(N)\n",
    "rtns_dcc_mk_500, set_ws_dcc_mk_500,  hold_ws_dcc_mk_500 = get_dcc_res(root_dir, rolls, N, markowitz=True)\n",
    "idx1_dcc_mk_500 = indicators(rtns_dcc_mk_500)\n",
    "idx2_dcc_mk_500 = indicators2(set_ws_dcc_mk_500, hold_ws_dcc_mk_500)\n",
    "\n",
    "print('idicators1', ('AV','SD','IR'))\n",
    "print('EW_mk_500', idx1_ew_mk_500)\n",
    "print('Sample_mk_500', idx1_sam_mk_500)\n",
    "print('DCCNL_mk_500',idx1_dcc_mk_500)\n",
    "print('---------------------------------')\n",
    "print('idicators2', ('TO','GL','PL'))\n",
    "print('EW_mk_500', idx2_ew_mk_500)\n",
    "print('Sample_mk_500', idx2_sam_mk_500)\n",
    "print('DCCNL_mk_500',idx2_dcc_mk_500)"
   ]
  },
  {
   "cell_type": "markdown",
   "metadata": {},
   "source": [
    "# 2 static model"
   ]
  },
  {
   "cell_type": "markdown",
   "metadata": {},
   "source": [
    "## 2.1 five factor model"
   ]
  },
  {
   "cell_type": "code",
   "execution_count": 15,
   "metadata": {},
   "outputs": [],
   "source": [
    "resid5 = np.load('./ff_model_data_1260/residual_mat5.npy')\n",
    "param5 = np.load('./ff_model_data_1260/params_mat5.npy')\n",
    "ff_cov5 = np.load('./ff_model_data_1260/ff5_vol.npy')"
   ]
  },
  {
   "cell_type": "code",
   "execution_count": 16,
   "metadata": {},
   "outputs": [],
   "source": [
    "N = 100\n",
    "rtns_static5_100, set_ws_static5_100, hold_ws_static5_100 = \\\n",
    "get_rtns_static5(rolls, N, resid5, param5, ff_cov5)\n",
    "\n",
    "\n",
    "N = 200\n",
    "rtns_static5_200, set_ws_static5_200, hold_ws_static5_200 = \\\n",
    "get_rtns_static5(rolls, N, resid5, param5, ff_cov5)\n",
    "\n",
    "\n",
    "N = 500\n",
    "rtns_static5_500, set_ws_static5_500, hold_ws_static5_500 = \\\n",
    "get_rtns_static5(rolls, N, resid5, param5, ff_cov5)\n",
    "\n",
    "idx1_static5_100 = indicators(rtns_static5_100)\n",
    "idx2_static5_100 = indicators2(set_ws_static5_100, hold_ws_static5_100)\n",
    "\n",
    "idx1_static5_200 = indicators(rtns_static5_200)\n",
    "idx2_static5_200 = indicators2(set_ws_static5_200, hold_ws_static5_200)\n",
    "\n",
    "idx1_static5_500 = indicators(rtns_static5_500)\n",
    "idx2_static5_500 = indicators2(set_ws_static5_500, hold_ws_static5_500)"
   ]
  },
  {
   "cell_type": "code",
   "execution_count": 17,
   "metadata": {},
   "outputs": [
    {
     "name": "stdout",
     "output_type": "stream",
     "text": [
      "idicators1 ('AV', 'SD', 'IR')\n",
      "static5_100 (9.43, 14.63, 0.64)\n",
      "static5_200 (10.64, 14.81, 0.72)\n",
      "static5_500 (10.83, 14.39, 0.75)\n",
      "---------------------------------\n",
      "idicators2 ('TO', 'GL', 'PL')\n",
      "static5_100 (2.86, 2.49, 0.42)\n",
      "static5_200 (3.66, 2.93, 0.44)\n",
      "static5_500 (4.28, 3.21, 0.45)\n"
     ]
    }
   ],
   "source": [
    "print('idicators1', ('AV','SD','IR'))\n",
    "print('static5_100', idx1_static5_100)\n",
    "print('static5_200', idx1_static5_200)\n",
    "print('static5_500', idx1_static5_500)\n",
    "print('---------------------------------')\n",
    "print('idicators2', ('TO','GL','PL'))\n",
    "print('static5_100', idx2_static5_100)\n",
    "print('static5_200', idx2_static5_200)\n",
    "print('static5_500', idx2_static5_500)"
   ]
  },
  {
   "cell_type": "code",
   "execution_count": 18,
   "metadata": {},
   "outputs": [],
   "source": [
    "N = 100\n",
    "rtns_static5_mk_100, set_ws_static5_mk_100, hold_ws_static5_mk_100 = \\\n",
    "get_rtns_static5(rolls, N, resid5, param5, ff_cov5, markowitz=True)\n",
    "\n",
    "N = 200\n",
    "rtns_static5_mk_200, set_ws_static5_mk_200, hold_ws_static5_mk_200 = \\\n",
    "get_rtns_static5(rolls, N, resid5, param5, ff_cov5, markowitz=True)\n",
    "\n",
    "N = 500\n",
    "rtns_static5_mk_500, set_ws_static5_mk_500, hold_ws_static5_mk_500 = \\\n",
    "get_rtns_static5(rolls, N, resid5, param5, ff_cov5, markowitz=True)\n",
    "\n",
    "idx1_static5_mk_100 = indicators(rtns_static5_mk_100)\n",
    "idx2_static5_mk_100 = indicators2(set_ws_static5_mk_100, hold_ws_static5_mk_100)\n",
    "\n",
    "idx1_static5_mk_200 = indicators(rtns_static5_mk_200)\n",
    "idx2_static5_mk_200 = indicators2(set_ws_static5_mk_200, hold_ws_static5_mk_200)\n",
    "\n",
    "idx1_static5_mk_500 = indicators(rtns_static5_mk_500)\n",
    "idx2_static5_mk_500 = indicators2(set_ws_static5_mk_500, hold_ws_static5_mk_500)"
   ]
  },
  {
   "cell_type": "code",
   "execution_count": 19,
   "metadata": {},
   "outputs": [
    {
     "name": "stdout",
     "output_type": "stream",
     "text": [
      "idicators1 ('AV', 'SD', 'IR')\n",
      "static5_mk_100 (13.83, 16.73, 0.83)\n",
      "static5_mk_200 (14.82, 16.64, 0.89)\n",
      "static5_mk_500 (14.45, 15.73, 0.92)\n",
      "---------------------------------\n",
      "idicators2 ('TO', 'GL', 'PL')\n",
      "static5_mk_100 (3.35, 2.88, 0.42)\n",
      "static5_mk_200 (4.12, 3.28, 0.44)\n",
      "static5_mk_500 (4.7, 3.52, 0.45)\n"
     ]
    }
   ],
   "source": [
    "print('idicators1', ('AV','SD','IR'))\n",
    "print('static5_mk_100', idx1_static5_mk_100)\n",
    "print('static5_mk_200', idx1_static5_mk_200)\n",
    "print('static5_mk_500', idx1_static5_mk_500)\n",
    "print('---------------------------------')\n",
    "print('idicators2', ('TO','GL','PL'))\n",
    "print('static5_mk_100', idx2_static5_mk_100)\n",
    "print('static5_mk_200', idx2_static5_mk_200)\n",
    "print('static5_mk_500', idx2_static5_mk_500)"
   ]
  },
  {
   "cell_type": "markdown",
   "metadata": {},
   "source": [
    "## 2.2 one-factor model"
   ]
  },
  {
   "cell_type": "code",
   "execution_count": 20,
   "metadata": {},
   "outputs": [],
   "source": [
    "resid1 = np.load('./ff_model_data_1260/residual_mat1.npy')\n",
    "param1 = np.load('./ff_model_data_1260/params_mat1.npy')\n",
    "ff_cov1 = np.load('./ff_model_data_1260/ff1_vol.npy')"
   ]
  },
  {
   "cell_type": "code",
   "execution_count": 21,
   "metadata": {},
   "outputs": [],
   "source": [
    "N = 100\n",
    "rtns_static1_100, set_ws_static1_100, hold_ws_static1_100 = \\\n",
    "get_rtns_static1(rolls, N, resid1, param1, ff_cov1)\n",
    "\n",
    "\n",
    "N = 200\n",
    "rtns_static1_200, set_ws_static1_200, hold_ws_static1_200 = \\\n",
    "get_rtns_static1(rolls, N, resid1, param1, ff_cov1)\n",
    "\n",
    "\n",
    "N = 500\n",
    "rtns_static1_500, set_ws_static1_500, hold_ws_static1_500 = \\\n",
    "get_rtns_static1(rolls, N, resid1, param1, ff_cov1)\n",
    "\n",
    "idx1_static1_100 = indicators(rtns_static1_100)\n",
    "idx2_static1_100 = indicators2(set_ws_static1_100, hold_ws_static1_100)\n",
    "\n",
    "idx1_static1_200 = indicators(rtns_static1_200)\n",
    "idx2_static1_200 = indicators2(set_ws_static1_200, hold_ws_static1_200)\n",
    "\n",
    "idx1_static1_500 = indicators(rtns_static1_500)\n",
    "idx2_static1_500 = indicators2(set_ws_static1_500, hold_ws_static1_500)"
   ]
  },
  {
   "cell_type": "code",
   "execution_count": 22,
   "metadata": {},
   "outputs": [
    {
     "name": "stdout",
     "output_type": "stream",
     "text": [
      "idicators1 ('AV', 'SD', 'IR')\n",
      "static1_100 (10.02, 16.01, 0.63)\n",
      "static1_200 (11.21, 16.32, 0.69)\n",
      "static1_500 (11.07, 16.18, 0.68)\n",
      "---------------------------------\n",
      "idicators2 ('TO', 'GL', 'PL')\n",
      "static1_100 (2.59, 2.26, 0.45)\n",
      "static1_200 (2.97, 2.4, 0.46)\n",
      "static1_500 (3.21, 2.44, 0.48)\n"
     ]
    }
   ],
   "source": [
    "print('idicators1', ('AV','SD','IR'))\n",
    "print('static1_100', idx1_static1_100)\n",
    "print('static1_200', idx1_static1_200)\n",
    "print('static1_500', idx1_static1_500)\n",
    "print('---------------------------------')\n",
    "print('idicators2', ('TO','GL','PL'))\n",
    "print('static1_100', idx2_static1_100)\n",
    "print('static1_200', idx2_static1_200)\n",
    "print('static1_500', idx2_static1_500)\n"
   ]
  },
  {
   "cell_type": "code",
   "execution_count": 23,
   "metadata": {},
   "outputs": [],
   "source": [
    "N = 100\n",
    "rtns_static1_mk_100, set_ws_static1_mk_100, hold_ws_static1_mk_100 = \\\n",
    "get_rtns_static1(rolls, N, resid1, param1, ff_cov1, markowitz=True)\n",
    "\n",
    "N = 200\n",
    "rtns_static1_mk_200, set_ws_static1_mk_200, hold_ws_static1_mk_200 = \\\n",
    "get_rtns_static1(rolls, N, resid1, param1, ff_cov1, markowitz=True)\n",
    "\n",
    "N = 500\n",
    "rtns_static1_mk_500, set_ws_static1_mk_500, hold_ws_static1_mk_500 = \\\n",
    "get_rtns_static1(rolls, N, resid1, param1, ff_cov1, markowitz=True)\n",
    "\n",
    "idx1_static1_mk_100 = indicators(rtns_static1_mk_100)\n",
    "idx2_static1_mk_100 = indicators2(set_ws_static1_mk_100, hold_ws_static1_mk_100)\n",
    "\n",
    "idx1_static1_mk_200 = indicators(rtns_static1_mk_200)\n",
    "idx2_static1_mk_200 = indicators2(set_ws_static1_mk_200, hold_ws_static1_mk_200)\n",
    "\n",
    "idx1_static1_mk_500 = indicators(rtns_static1_mk_500)\n",
    "idx2_static1_mk_500 = indicators2(set_ws_static1_mk_500, hold_ws_static1_mk_500)\n"
   ]
  },
  {
   "cell_type": "code",
   "execution_count": 24,
   "metadata": {},
   "outputs": [
    {
     "name": "stdout",
     "output_type": "stream",
     "text": [
      "idicators1 ('AV', 'SD', 'IR')\n",
      "static1_mk_100 (15.16, 18.26, 0.83)\n",
      "static1_mk_200 (16.3, 18.34, 0.89)\n",
      "static1_mk_500 (15.33, 17.59, 0.87)\n",
      "---------------------------------\n",
      "idicators2 ('TO', 'GL', 'PL')\n",
      "static1_mk_100 (3.11, 2.66, 0.44)\n",
      "static1_mk_200 (3.49, 2.8, 0.44)\n",
      "static1_mk_500 (3.7, 2.82, 0.47)\n"
     ]
    }
   ],
   "source": [
    "print('idicators1', ('AV','SD','IR'))\n",
    "print('static1_mk_100', idx1_static1_mk_100)\n",
    "print('static1_mk_200', idx1_static1_mk_200)\n",
    "print('static1_mk_500', idx1_static1_mk_500)\n",
    "print('---------------------------------')\n",
    "print('idicators2', ('TO','GL','PL'))\n",
    "print('static1_mk_100', idx2_static1_mk_100)\n",
    "print('static1_mk_200', idx2_static1_mk_200)\n",
    "print('static1_mk_500', idx2_static1_mk_500)"
   ]
  },
  {
   "cell_type": "markdown",
   "metadata": {},
   "source": [
    "# 3 DCC-NL approxiamate model"
   ]
  },
  {
   "cell_type": "markdown",
   "metadata": {},
   "source": [
    "## 3.1 five factor model"
   ]
  },
  {
   "cell_type": "code",
   "execution_count": 25,
   "metadata": {},
   "outputs": [],
   "source": [
    "param5 = np.load('./ff_model_data_1260/params_mat5.npy')\n",
    "ff_cov5 = np.load('./ff_model_data_1260/ff5_vol_dcc.npy')"
   ]
  },
  {
   "cell_type": "code",
   "execution_count": 26,
   "metadata": {},
   "outputs": [],
   "source": [
    "N = 100\n",
    "root_dir = './ff_model_data_1260/resid_dcc_cov5_100/'\n",
    "res_dccnl_ff5_100, set_ws_dccnl_ff5_100, hold_ws_dccnl_ff5_100 = \\\n",
    "get_rtns_dcc_ff5(root_dir, rolls, N, param5, ff_cov5)\n",
    "\n",
    "N = 200\n",
    "root_dir = './ff_model_data_1260/resid_dcc_cov5_200/'\n",
    "res_dccnl_ff5_200, set_ws_dccnl_ff5_200, hold_ws_dccnl_ff5_200 = \\\n",
    "get_rtns_dcc_ff5(root_dir, rolls, N, param5, ff_cov5)\n",
    "\n",
    "idx1_dccnl_ff5_100 =  indicators(res_dccnl_ff5_100)\n",
    "idx2_dccnl_ff5_100 =  indicators2(set_ws_dccnl_ff5_100, hold_ws_dccnl_ff5_100)\n",
    "\n",
    "idx1_dccnl_ff5_200 =  indicators(res_dccnl_ff5_200)\n",
    "idx2_dccnl_ff5_200 =  indicators2(set_ws_dccnl_ff5_200, hold_ws_dccnl_ff5_200)"
   ]
  },
  {
   "cell_type": "code",
   "execution_count": 27,
   "metadata": {},
   "outputs": [
    {
     "name": "stdout",
     "output_type": "stream",
     "text": [
      "idicators1 ('AV', 'SD', 'IR')\n",
      "idx1_dccnl_ff5_100 (6.79, 14.46, 0.47)\n",
      "idx1_dccnl_ff5_200 (8.0, 13.03, 0.61)\n",
      "---------------------------------\n",
      "idicators2 ('TO', 'GL', 'PL')\n",
      "idx2_dccnl_ff5_100 (1070.99, 623.76, 0.43)\n",
      "idx2_dccnl_ff5_200 (217.78, 110.36, 0.46)\n"
     ]
    }
   ],
   "source": [
    "print('idicators1', ('AV','SD','IR'))\n",
    "print('idx1_dccnl_ff5_100', idx1_dccnl_ff5_100)\n",
    "print('idx1_dccnl_ff5_200', idx1_dccnl_ff5_200)\n",
    "#print('idx2_dccnl_ff5_500', idx1_static1_500)\n",
    "print('---------------------------------')\n",
    "print('idicators2', ('TO','GL','PL'))\n",
    "print('idx2_dccnl_ff5_100', idx2_dccnl_ff5_100)\n",
    "print('idx2_dccnl_ff5_200', idx2_dccnl_ff5_200)\n",
    "#print('static1_500', idx2_static1_500)"
   ]
  },
  {
   "cell_type": "code",
   "execution_count": 28,
   "metadata": {},
   "outputs": [],
   "source": [
    "N = 100\n",
    "root_dir = './ff_model_data_1260/resid_dcc_cov5_100/'\n",
    "res_dccnl_ff5_mk_100, set_ws_dccnl_ff5_mk_100, hold_ws_dccnl_ff5_mk_100 = \\\n",
    "get_rtns_dcc_ff5(root_dir, rolls, N, param5, ff_cov5, markowitz=True)\n",
    "\n",
    "N = 200\n",
    "root_dir = './ff_model_data_1260/resid_dcc_cov5_200/'\n",
    "res_dccnl_ff5_mk_200, set_ws_dccnl_ff5_mk_200, hold_ws_dccnl_ff5_mk_200 = \\\n",
    "get_rtns_dcc_ff5(root_dir, rolls, N, param5, ff_cov5, markowitz=True)\n",
    "\n",
    "idx1_dccnl_ff5_mk_100 =  indicators(res_dccnl_ff5_mk_100)\n",
    "idx2_dccnl_ff5_mk_100 =  indicators2(set_ws_dccnl_ff5_mk_100, hold_ws_dccnl_ff5_mk_100)\n",
    "\n",
    "idx1_dccnl_ff5_mk_200 =  indicators(res_dccnl_ff5_mk_200)\n",
    "idx2_dccnl_ff5_mk_200 =  indicators2(set_ws_dccnl_ff5_mk_200, hold_ws_dccnl_ff5_mk_200)"
   ]
  },
  {
   "cell_type": "code",
   "execution_count": 29,
   "metadata": {},
   "outputs": [
    {
     "name": "stdout",
     "output_type": "stream",
     "text": [
      "idicators1 ('AV', 'SD', 'IR')\n",
      "idx1_dccnl_ff5_mk_100 (9.31, 15.62, 0.6)\n",
      "idx1_dccnl_ff5_mk_200 (10.33, 14.2, 0.73)\n",
      "---------------------------------\n",
      "idicators2 ('TO', 'GL', 'PL')\n",
      "idx2_dccnl_ff5_mk_100 (1942.46, 1142.58, 0.44)\n",
      "idx2_dccnl_ff5_mk_200 (881.95, 439.27, 0.46)\n"
     ]
    }
   ],
   "source": [
    "print('idicators1', ('AV','SD','IR'))\n",
    "print('idx1_dccnl_ff5_mk_100', idx1_dccnl_ff5_mk_100)\n",
    "print('idx1_dccnl_ff5_mk_200', idx1_dccnl_ff5_mk_200)\n",
    "#print('idx2_dccnl_ff5_500', idx1_static1_500)\n",
    "print('---------------------------------')\n",
    "print('idicators2', ('TO','GL','PL'))\n",
    "print('idx2_dccnl_ff5_mk_100', idx2_dccnl_ff5_mk_100)\n",
    "print('idx2_dccnl_ff5_mk_200', idx2_dccnl_ff5_mk_200)\n",
    "#print('static1_500', idx2_static1_500)"
   ]
  },
  {
   "cell_type": "markdown",
   "metadata": {},
   "source": [
    "# 3.2 one-factor model"
   ]
  },
  {
   "cell_type": "code",
   "execution_count": 30,
   "metadata": {},
   "outputs": [],
   "source": [
    "param1 = np.load('./ff_model_data_1260/params_mat1.npy')\n",
    "ff_cov1 = np.load('./ff_model_data_1260/ff1_vol_dcc.npy')"
   ]
  },
  {
   "cell_type": "code",
   "execution_count": 31,
   "metadata": {},
   "outputs": [],
   "source": [
    "N = 100\n",
    "root_dir = './ff_model_data_1260/resid_dcc_cov1_100/'\n",
    "res_dccnl_ff1_100, set_ws_dccnl_ff1_100, hold_ws_dccnl_ff1_100 = \\\n",
    "get_rtns_dcc_ff1(root_dir, rolls, N, param1, ff_cov1)\n",
    "\n",
    "N = 200\n",
    "root_dir = './ff_model_data_1260/resid_dcc_cov1_200/'\n",
    "res_dccnl_ff1_200, set_ws_dccnl_ff1_200, hold_ws_dccnl_ff1_200 = \\\n",
    "get_rtns_dcc_ff1(root_dir, rolls, N, param1, ff_cov1)\n",
    "\n",
    "idx1_dccnl_ff1_100 = indicators(res_dccnl_ff1_100)\n",
    "idx2_dccnl_ff1_100 = indicators2(set_ws_dccnl_ff1_100, hold_ws_dccnl_ff1_100)\n",
    "\n",
    "idx1_dccnl_ff1_200 = indicators(res_dccnl_ff1_200)\n",
    "idx2_dccnl_ff1_200 = indicators2(set_ws_dccnl_ff1_200, hold_ws_dccnl_ff1_200)"
   ]
  },
  {
   "cell_type": "code",
   "execution_count": 32,
   "metadata": {},
   "outputs": [
    {
     "name": "stdout",
     "output_type": "stream",
     "text": [
      "idicators1 ('AV', 'SD', 'IR')\n",
      "dccnl_ff1_100 (9.26, 13.64, 0.68)\n",
      "dccnl_ff1_200 (10.07, 12.39, 0.81)\n",
      "---------------------------------\n",
      "idicators2 ('TO', 'GL', 'PL')\n",
      "dccnl_ff1_100 (561.6, 268.73, 0.43)\n",
      "dccnl_ff1_200 (490.82, 252.35, 0.46)\n"
     ]
    }
   ],
   "source": [
    "print('idicators1', ('AV','SD','IR'))\n",
    "print('dccnl_ff1_100', idx1_dccnl_ff1_100)\n",
    "print('dccnl_ff1_200', idx1_dccnl_ff1_200)\n",
    "print('---------------------------------')\n",
    "print('idicators2', ('TO','GL','PL'))\n",
    "print('dccnl_ff1_100', idx2_dccnl_ff1_100)\n",
    "print('dccnl_ff1_200', idx2_dccnl_ff1_200)"
   ]
  },
  {
   "cell_type": "code",
   "execution_count": 33,
   "metadata": {},
   "outputs": [],
   "source": [
    "N = 100\n",
    "root_dir = './ff_model_data_1260/resid_dcc_cov1_100/'\n",
    "res_dccnl_ff1_mk_100, set_ws_dccnl_ff1_mk_100, hold_ws_dccnl_ff1_mk_100 = \\\n",
    "get_rtns_dcc_ff1(root_dir, rolls, N, param1, ff_cov1, markowitz=True)\n",
    "\n",
    "N = 200\n",
    "root_dir = './ff_model_data_1260/resid_dcc_cov1_200/'\n",
    "res_dccnl_ff1_mk_200, set_ws_dccnl_ff1_mk_200, hold_ws_dccnl_ff1_mk_200 = \\\n",
    "get_rtns_dcc_ff1(root_dir, rolls, N, param1, ff_cov1,  markowitz=True)\n",
    "\n",
    "idx1_dccnl_ff1_mk_100 = indicators(res_dccnl_ff1_mk_100)\n",
    "idx2_dccnl_ff1_mk_100 = indicators2(set_ws_dccnl_ff1_mk_100, hold_ws_dccnl_ff1_mk_100)\n",
    "\n",
    "idx1_dccnl_ff1_mk_200 = indicators(res_dccnl_ff1_mk_200)\n",
    "idx2_dccnl_ff1_mk_200 = indicators2(set_ws_dccnl_ff1_mk_200, hold_ws_dccnl_ff1_mk_200)"
   ]
  },
  {
   "cell_type": "code",
   "execution_count": 34,
   "metadata": {},
   "outputs": [
    {
     "name": "stdout",
     "output_type": "stream",
     "text": [
      "idicators1 ('AV', 'SD', 'IR')\n",
      "idx1_dccnl_ff1_mk_100 (11.85, 15.03, 0.79)\n",
      "idx1_dccnl_ff1_mk_200 (12.41, 13.73, 0.9)\n",
      "---------------------------------\n",
      "idicators2 ('TO', 'GL', 'PL')\n",
      "idx2_dccnl_ff1_mk_100 (1271.83, 607.49, 0.44)\n",
      "idx2_dccnl_ff1_mk_200 (787.21, 418.61, 0.46)\n"
     ]
    }
   ],
   "source": [
    "print('idicators1', ('AV','SD','IR'))\n",
    "print('idx1_dccnl_ff1_mk_100', idx1_dccnl_ff1_mk_100)\n",
    "print('idx1_dccnl_ff1_mk_200', idx1_dccnl_ff1_mk_200)\n",
    "#print('idx2_dccnl_ff5_500', idx1_static1_500)\n",
    "print('---------------------------------')\n",
    "print('idicators2', ('TO','GL','PL'))\n",
    "print('idx2_dccnl_ff1_mk_100', idx2_dccnl_ff1_mk_100)\n",
    "print('idx2_dccnl_ff1_mk_200', idx2_dccnl_ff1_mk_200)\n",
    "#print('static1_500', idx2_static1_500)"
   ]
  },
  {
   "cell_type": "code",
   "execution_count": null,
   "metadata": {
    "scrolled": true
   },
   "outputs": [],
   "source": [
    "N = 500\n",
    "root_dir = './ff_model_data_1260/resid_dcc_cov1_500/'\n",
    "res_dccnl_ff1_500, set_ws_dccnl_ff1_500, hold_ws_dccnl_ff1_500 = \\\n",
    "get_rtns_dcc_ff1(root_dir, rolls, N, param1, ff_cov1)\n",
    "\n",
    "res_dccnl_ff1_mk_500, set_ws_dccnl_ff1_mk_500, hold_ws_dccnl_ff1_mk_500 = \\\n",
    "get_rtns_dcc_ff1(root_dir, rolls, N, param1, ff_cov1, markowitz=True)"
   ]
  },
  {
   "cell_type": "code",
   "execution_count": null,
   "metadata": {},
   "outputs": [],
   "source": [
    "length = len(res_dccnl_ff1_500)\n",
    "print(indicators(res_dccnl_ff1_500))\n",
    "print(indicators(res_dccnl_ff1_200[0:length]))\n",
    "\n",
    "print(indicators(res_dccnl_ff1_mk_500))\n",
    "print(indicators(res_dccnl_ff1_mk_200[0:length]))\n",
    "print(indicators(rtns_static5_mk_500[0:length]))"
   ]
  },
  {
   "cell_type": "code",
   "execution_count": 38,
   "metadata": {},
   "outputs": [
    {
     "data": {
      "text/plain": [
       "[<matplotlib.lines.Line2D at 0x123ee16d0>]"
      ]
     },
     "execution_count": 38,
     "metadata": {},
     "output_type": "execute_result"
    },
    {
     "data": {
      "image/png": "[encoded data removed]",
      "text/plain": [
       "<Figure size 432x288 with 1 Axes>"
      ]
     },
     "metadata": {
      "needs_background": "light"
     },
     "output_type": "display_data"
    }
   ],
   "source": [
    "plt.plot((res_dccnl_ff1_200[0:len(res_dccnl_ff1_500)]))\n",
    "plt.plot((res_dccnl_ff1_500))"
   ]
  },
  {
   "cell_type": "code",
   "execution_count": 39,
   "metadata": {},
   "outputs": [
    {
     "data": {
      "text/plain": [
       "1659"
      ]
     },
     "execution_count": 39,
     "metadata": {},
     "output_type": "execute_result"
    }
   ],
   "source": [
    "length"
   ]
  },
  {
   "cell_type": "code",
   "execution_count": null,
   "metadata": {},
   "outputs": [],
   "source": []
  }
 ],
 "metadata": {
  "kernelspec": {
   "display_name": "Python 3",
   "language": "python",
   "name": "python3"
  },
  "language_info": {
   "codemirror_mode": {
    "name": "ipython",
    "version": 3
   },
   "file_extension": ".py",
   "mimetype": "text/x-python",
   "name": "python",
   "nbconvert_exporter": "python",
   "pygments_lexer": "ipython3",
   "version": "3.7.6"
  }
 },
 "nbformat": 4,
 "nbformat_minor": 4
}
